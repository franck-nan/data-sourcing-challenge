{
 "cells": [
  {
   "cell_type": "markdown",
   "metadata": {},
   "source": [
    "### Import Required Libraries and Set Up Environment Variables"
   ]
  },
  {
   "cell_type": "code",
   "execution_count": 2,
   "metadata": {},
   "outputs": [],
   "source": [
    "# Dependencies\n",
    "import requests\n",
    "import time\n",
    "from dotenv import load_dotenv\n",
    "import os\n",
    "import pandas as pd\n",
    "import json\n",
    "import urllib.parse"
   ]
  },
  {
   "cell_type": "code",
   "execution_count": 3,
   "metadata": {},
   "outputs": [],
   "source": [
    "# Set environment variables from the .env in the local environment\n",
    "load_dotenv()\n",
    "\n",
    "nyt_api_key = os.getenv(\"NYT_API_KEY\")\n",
    "tmdb_api_key = os.getenv(\"TMDB_API_KEY\")"
   ]
  },
  {
   "cell_type": "markdown",
   "metadata": {},
   "source": [
    "### Access the New York Times API"
   ]
  },
  {
   "cell_type": "code",
   "execution_count": 5,
   "metadata": {},
   "outputs": [],
   "source": [
    "# Set the base URL\n",
    "url = \"https://api.nytimes.com/svc/search/v2/articlesearch.json?\"\n",
    "\n",
    "# Filter for movie reviews with \"love\" in the headline\n",
    "# section_name should be \"Movies\"\n",
    "# type_of_material should be \"Review\"\n",
    "filter_query = 'section_name:\"Movies\" AND type_of_material:\"Review\" AND headline:\"love\"'\n",
    "\n",
    "# Use a sort filter, sort by newest\n",
    "sort = \"newest\"\n",
    "\n",
    "# Select the following fields to return:\n",
    "# headline, web_url, snippet, source, keywords, pub_date, byline, word_count\n",
    "field_list = \"headline,web_url,snippet,source,keywords,pub_date,byline,word_count\"\n",
    "\n",
    "# Search for reviews published between a begin and end date\n",
    "begin_date = \"20130101\"\n",
    "end_date = \"20230531\"\n",
    "\n",
    "# Build URL\n",
    "query_url = f\"{url}api-key={nyt_api_key}&begin_date={begin_date}&end_date={end_date}&fq={filter_query}&sort={sort}&fl={field_list}\""
   ]
  },
  {
   "cell_type": "code",
   "execution_count": 6,
   "metadata": {},
   "outputs": [
    {
     "name": "stderr",
     "output_type": "stream",
     "text": [
      "/opt/anaconda3/lib/python3.11/site-packages/urllib3/connectionpool.py:1100: InsecureRequestWarning: Unverified HTTPS request is being made to host 'api.nytimes.com'. Adding certificate verification is strongly advised. See: https://urllib3.readthedocs.io/en/latest/advanced-usage.html#tls-warnings\n",
      "  warnings.warn(\n"
     ]
    },
    {
     "name": "stdout",
     "output_type": "stream",
     "text": [
      "Page 0 retrieved successfully\n"
     ]
    },
    {
     "name": "stderr",
     "output_type": "stream",
     "text": [
      "/opt/anaconda3/lib/python3.11/site-packages/urllib3/connectionpool.py:1100: InsecureRequestWarning: Unverified HTTPS request is being made to host 'api.nytimes.com'. Adding certificate verification is strongly advised. See: https://urllib3.readthedocs.io/en/latest/advanced-usage.html#tls-warnings\n",
      "  warnings.warn(\n"
     ]
    },
    {
     "name": "stdout",
     "output_type": "stream",
     "text": [
      "Page 1 retrieved successfully\n"
     ]
    },
    {
     "name": "stderr",
     "output_type": "stream",
     "text": [
      "/opt/anaconda3/lib/python3.11/site-packages/urllib3/connectionpool.py:1100: InsecureRequestWarning: Unverified HTTPS request is being made to host 'api.nytimes.com'. Adding certificate verification is strongly advised. See: https://urllib3.readthedocs.io/en/latest/advanced-usage.html#tls-warnings\n",
      "  warnings.warn(\n"
     ]
    },
    {
     "name": "stdout",
     "output_type": "stream",
     "text": [
      "Page 2 retrieved successfully\n"
     ]
    },
    {
     "name": "stderr",
     "output_type": "stream",
     "text": [
      "/opt/anaconda3/lib/python3.11/site-packages/urllib3/connectionpool.py:1100: InsecureRequestWarning: Unverified HTTPS request is being made to host 'api.nytimes.com'. Adding certificate verification is strongly advised. See: https://urllib3.readthedocs.io/en/latest/advanced-usage.html#tls-warnings\n",
      "  warnings.warn(\n"
     ]
    },
    {
     "name": "stdout",
     "output_type": "stream",
     "text": [
      "Page 3 retrieved successfully\n"
     ]
    },
    {
     "name": "stderr",
     "output_type": "stream",
     "text": [
      "/opt/anaconda3/lib/python3.11/site-packages/urllib3/connectionpool.py:1100: InsecureRequestWarning: Unverified HTTPS request is being made to host 'api.nytimes.com'. Adding certificate verification is strongly advised. See: https://urllib3.readthedocs.io/en/latest/advanced-usage.html#tls-warnings\n",
      "  warnings.warn(\n"
     ]
    },
    {
     "name": "stdout",
     "output_type": "stream",
     "text": [
      "Page 4 retrieved successfully\n"
     ]
    },
    {
     "name": "stderr",
     "output_type": "stream",
     "text": [
      "/opt/anaconda3/lib/python3.11/site-packages/urllib3/connectionpool.py:1100: InsecureRequestWarning: Unverified HTTPS request is being made to host 'api.nytimes.com'. Adding certificate verification is strongly advised. See: https://urllib3.readthedocs.io/en/latest/advanced-usage.html#tls-warnings\n",
      "  warnings.warn(\n"
     ]
    },
    {
     "name": "stdout",
     "output_type": "stream",
     "text": [
      "Page 5 retrieved successfully\n"
     ]
    },
    {
     "name": "stderr",
     "output_type": "stream",
     "text": [
      "/opt/anaconda3/lib/python3.11/site-packages/urllib3/connectionpool.py:1100: InsecureRequestWarning: Unverified HTTPS request is being made to host 'api.nytimes.com'. Adding certificate verification is strongly advised. See: https://urllib3.readthedocs.io/en/latest/advanced-usage.html#tls-warnings\n",
      "  warnings.warn(\n"
     ]
    },
    {
     "name": "stdout",
     "output_type": "stream",
     "text": [
      "Page 6 retrieved successfully\n"
     ]
    },
    {
     "name": "stderr",
     "output_type": "stream",
     "text": [
      "/opt/anaconda3/lib/python3.11/site-packages/urllib3/connectionpool.py:1100: InsecureRequestWarning: Unverified HTTPS request is being made to host 'api.nytimes.com'. Adding certificate verification is strongly advised. See: https://urllib3.readthedocs.io/en/latest/advanced-usage.html#tls-warnings\n",
      "  warnings.warn(\n"
     ]
    },
    {
     "name": "stdout",
     "output_type": "stream",
     "text": [
      "Page 7 retrieved successfully\n"
     ]
    },
    {
     "name": "stderr",
     "output_type": "stream",
     "text": [
      "/opt/anaconda3/lib/python3.11/site-packages/urllib3/connectionpool.py:1100: InsecureRequestWarning: Unverified HTTPS request is being made to host 'api.nytimes.com'. Adding certificate verification is strongly advised. See: https://urllib3.readthedocs.io/en/latest/advanced-usage.html#tls-warnings\n",
      "  warnings.warn(\n"
     ]
    },
    {
     "name": "stdout",
     "output_type": "stream",
     "text": [
      "Page 8 retrieved successfully\n"
     ]
    },
    {
     "name": "stderr",
     "output_type": "stream",
     "text": [
      "/opt/anaconda3/lib/python3.11/site-packages/urllib3/connectionpool.py:1100: InsecureRequestWarning: Unverified HTTPS request is being made to host 'api.nytimes.com'. Adding certificate verification is strongly advised. See: https://urllib3.readthedocs.io/en/latest/advanced-usage.html#tls-warnings\n",
      "  warnings.warn(\n"
     ]
    },
    {
     "name": "stdout",
     "output_type": "stream",
     "text": [
      "Page 9 retrieved successfully\n"
     ]
    },
    {
     "name": "stderr",
     "output_type": "stream",
     "text": [
      "/opt/anaconda3/lib/python3.11/site-packages/urllib3/connectionpool.py:1100: InsecureRequestWarning: Unverified HTTPS request is being made to host 'api.nytimes.com'. Adding certificate verification is strongly advised. See: https://urllib3.readthedocs.io/en/latest/advanced-usage.html#tls-warnings\n",
      "  warnings.warn(\n"
     ]
    },
    {
     "name": "stdout",
     "output_type": "stream",
     "text": [
      "Page 10 retrieved successfully\n"
     ]
    },
    {
     "name": "stderr",
     "output_type": "stream",
     "text": [
      "/opt/anaconda3/lib/python3.11/site-packages/urllib3/connectionpool.py:1100: InsecureRequestWarning: Unverified HTTPS request is being made to host 'api.nytimes.com'. Adding certificate verification is strongly advised. See: https://urllib3.readthedocs.io/en/latest/advanced-usage.html#tls-warnings\n",
      "  warnings.warn(\n"
     ]
    },
    {
     "name": "stdout",
     "output_type": "stream",
     "text": [
      "Page 11 retrieved successfully\n"
     ]
    },
    {
     "name": "stderr",
     "output_type": "stream",
     "text": [
      "/opt/anaconda3/lib/python3.11/site-packages/urllib3/connectionpool.py:1100: InsecureRequestWarning: Unverified HTTPS request is being made to host 'api.nytimes.com'. Adding certificate verification is strongly advised. See: https://urllib3.readthedocs.io/en/latest/advanced-usage.html#tls-warnings\n",
      "  warnings.warn(\n"
     ]
    },
    {
     "name": "stdout",
     "output_type": "stream",
     "text": [
      "Page 12 retrieved successfully\n"
     ]
    },
    {
     "name": "stderr",
     "output_type": "stream",
     "text": [
      "/opt/anaconda3/lib/python3.11/site-packages/urllib3/connectionpool.py:1100: InsecureRequestWarning: Unverified HTTPS request is being made to host 'api.nytimes.com'. Adding certificate verification is strongly advised. See: https://urllib3.readthedocs.io/en/latest/advanced-usage.html#tls-warnings\n",
      "  warnings.warn(\n"
     ]
    },
    {
     "name": "stdout",
     "output_type": "stream",
     "text": [
      "Page 13 retrieved successfully\n"
     ]
    },
    {
     "name": "stderr",
     "output_type": "stream",
     "text": [
      "/opt/anaconda3/lib/python3.11/site-packages/urllib3/connectionpool.py:1100: InsecureRequestWarning: Unverified HTTPS request is being made to host 'api.nytimes.com'. Adding certificate verification is strongly advised. See: https://urllib3.readthedocs.io/en/latest/advanced-usage.html#tls-warnings\n",
      "  warnings.warn(\n"
     ]
    },
    {
     "name": "stdout",
     "output_type": "stream",
     "text": [
      "Page 14 retrieved successfully\n"
     ]
    },
    {
     "name": "stderr",
     "output_type": "stream",
     "text": [
      "/opt/anaconda3/lib/python3.11/site-packages/urllib3/connectionpool.py:1100: InsecureRequestWarning: Unverified HTTPS request is being made to host 'api.nytimes.com'. Adding certificate verification is strongly advised. See: https://urllib3.readthedocs.io/en/latest/advanced-usage.html#tls-warnings\n",
      "  warnings.warn(\n"
     ]
    },
    {
     "name": "stdout",
     "output_type": "stream",
     "text": [
      "Page 15 retrieved successfully\n"
     ]
    },
    {
     "name": "stderr",
     "output_type": "stream",
     "text": [
      "/opt/anaconda3/lib/python3.11/site-packages/urllib3/connectionpool.py:1100: InsecureRequestWarning: Unverified HTTPS request is being made to host 'api.nytimes.com'. Adding certificate verification is strongly advised. See: https://urllib3.readthedocs.io/en/latest/advanced-usage.html#tls-warnings\n",
      "  warnings.warn(\n"
     ]
    },
    {
     "name": "stdout",
     "output_type": "stream",
     "text": [
      "Page 16 retrieved successfully\n"
     ]
    },
    {
     "name": "stderr",
     "output_type": "stream",
     "text": [
      "/opt/anaconda3/lib/python3.11/site-packages/urllib3/connectionpool.py:1100: InsecureRequestWarning: Unverified HTTPS request is being made to host 'api.nytimes.com'. Adding certificate verification is strongly advised. See: https://urllib3.readthedocs.io/en/latest/advanced-usage.html#tls-warnings\n",
      "  warnings.warn(\n"
     ]
    },
    {
     "name": "stdout",
     "output_type": "stream",
     "text": [
      "Page 17 retrieved successfully\n"
     ]
    },
    {
     "name": "stderr",
     "output_type": "stream",
     "text": [
      "/opt/anaconda3/lib/python3.11/site-packages/urllib3/connectionpool.py:1100: InsecureRequestWarning: Unverified HTTPS request is being made to host 'api.nytimes.com'. Adding certificate verification is strongly advised. See: https://urllib3.readthedocs.io/en/latest/advanced-usage.html#tls-warnings\n",
      "  warnings.warn(\n"
     ]
    },
    {
     "name": "stdout",
     "output_type": "stream",
     "text": [
      "Page 18 retrieved successfully\n"
     ]
    },
    {
     "name": "stderr",
     "output_type": "stream",
     "text": [
      "/opt/anaconda3/lib/python3.11/site-packages/urllib3/connectionpool.py:1100: InsecureRequestWarning: Unverified HTTPS request is being made to host 'api.nytimes.com'. Adding certificate verification is strongly advised. See: https://urllib3.readthedocs.io/en/latest/advanced-usage.html#tls-warnings\n",
      "  warnings.warn(\n"
     ]
    },
    {
     "name": "stdout",
     "output_type": "stream",
     "text": [
      "Page 19 retrieved successfully\n"
     ]
    }
   ],
   "source": [
    "# Create an empty list to store the reviews\n",
    "reviews_list = []\n",
    "\n",
    "# loop through pages 0-19\n",
    "for page in range(0,20):\n",
    "    query_url = f\"{url}api-key={nyt_api_key}&begin_date={begin_date}&end_date={end_date}&fq={filter_query}&sort={sort}&fl={field_list}\"\n",
    "    \n",
    "    # create query with a page number\n",
    "    # API results show 10 articles at a time\n",
    "    query_url=f\"{query_url}&page={str(page)}\"\n",
    "    \n",
    "    # Make a \"GET\" request and retrieve the JSON\n",
    "    reviews = requests.get(query_url).json()\n",
    "    \n",
    "    # Add a twelve second interval between queries to stay within API query limits\n",
    "    time.sleep(12)\n",
    "    \n",
    "    # Try and save the reviews to the reviews_list\n",
    "    try:\n",
    "        \n",
    "        # loop through the reviews[\"response\"][\"docs\"] and append each review to the list\n",
    "        for review in reviews[\"response\"][\"docs\"]:\n",
    "            reviews_list.append(review)\n",
    "\n",
    "        # Print the page that was just retrieved\n",
    "        print(f'Page {page} retrieved successfully')\n",
    "\n",
    "    except KeyError:\n",
    "        # Print the page number that had no results then break from the loop\n",
    "        print(f'Page {page} had no result.')\n",
    "        break\n",
    "        \n",
    "\n",
    "        \n"
   ]
  },
  {
   "cell_type": "code",
   "execution_count": 7,
   "metadata": {},
   "outputs": [
    {
     "name": "stdout",
     "output_type": "stream",
     "text": [
      "[\n",
      "    {\n",
      "        \"web_url\": \"https://www.nytimes.com/2023/05/25/movies/the-attachment-diaries-review.html\",\n",
      "        \"snippet\": \"A gynecologist and her patient form a horrifyingly twisted connection in this batty, bloody Argentine melodrama.\",\n",
      "        \"source\": \"The New York Times\",\n",
      "        \"headline\": {\n",
      "            \"main\": \"\\u2018The Attachment Diaries\\u2019 Review: Love, Sick\",\n",
      "            \"kicker\": null,\n",
      "            \"content_kicker\": null,\n",
      "            \"print_headline\": \"The Attachment Diaries\",\n",
      "            \"name\": null,\n",
      "            \"seo\": null,\n",
      "            \"sub\": null\n",
      "        },\n",
      "        \"keywords\": [\n",
      "            {\n",
      "                \"name\": \"subject\",\n",
      "                \"value\": \"Movies\",\n",
      "                \"rank\": 1,\n",
      "                \"major\": \"N\"\n",
      "            },\n",
      "            {\n",
      "                \"name\": \"creative_works\",\n",
      "                \"value\": \"The Attachment Diaries (Movie)\",\n",
      "                \"rank\": 2,\n",
      "                \"major\": \"N\"\n",
      "            },\n",
      "            {\n",
      "                \"name\": \"persons\",\n",
      "                \"value\": \"Diment, Valentin Javier\",\n",
      "                \"rank\": 3,\n",
      "                \"major\": \"N\"\n",
      "            }\n",
      "        ],\n",
      "        \"pub_date\": \"2023-05-25T11:00:03+0000\",\n",
      "        \"byline\": {\n",
      "            \"original\": \"By Jeannette Catsoulis\",\n",
      "            \"person\": [\n",
      "                {\n",
      "                    \"firstname\": \"Jeannette\",\n",
      "                    \"middlename\": null,\n",
      "                    \"lastname\": \"Catsoulis\",\n",
      "                    \"qualifier\": null,\n",
      "                    \"title\": null,\n",
      "                    \"role\": \"reported\",\n",
      "                    \"organization\": \"\",\n",
      "                    \"rank\": 1\n",
      "                }\n",
      "            ],\n",
      "            \"organization\": null\n",
      "        },\n",
      "        \"word_count\": 295\n",
      "    },\n",
      "    {\n",
      "        \"web_url\": \"https://www.nytimes.com/2023/05/04/movies/whats-love-got-to-do-with-it-review.html\",\n",
      "        \"snippet\": \"Two childhood friends navigate cultural differences in this pleasantly uncontentious romantic comedy.\",\n",
      "        \"source\": \"The New York Times\",\n",
      "        \"headline\": {\n",
      "            \"main\": \"Review: \\u2018What\\u2019s Love Got to Do With It?\\u2019 Probably a Lot\",\n",
      "            \"kicker\": null,\n",
      "            \"content_kicker\": null,\n",
      "            \"print_headline\": \"What\\u2019s Love Got to Do With It?\",\n",
      "            \"name\": null,\n",
      "            \"seo\": null,\n",
      "            \"sub\": null\n",
      "        },\n",
      "        \"keywords\": [\n",
      "            {\n",
      "                \"name\": \"subject\",\n",
      "                \"value\": \"Movies\",\n",
      "                \"rank\": 1,\n",
      "                \"major\": \"N\"\n",
      "            },\n",
      "            {\n",
      "                \"name\": \"persons\",\n",
      "                \"value\": \"Kapur, Shekhar\",\n",
      "                \"rank\": 2,\n",
      "                \"major\": \"N\"\n",
      "            },\n",
      "            {\n",
      "                \"name\": \"persons\",\n",
      "                \"value\": \"James, Lily\",\n",
      "                \"rank\": 3,\n",
      "                \"major\": \"N\"\n",
      "            },\n",
      "            {\n",
      "                \"name\": \"persons\",\n",
      "                \"value\": \"Azmi, Shabana\",\n",
      "                \"rank\": 4,\n",
      "                \"major\": \"N\"\n",
      "            },\n",
      "            {\n",
      "                \"name\": \"persons\",\n",
      "                \"value\": \"Thompson, Emma\",\n",
      "                \"rank\": 5,\n",
      "                \"major\": \"N\"\n",
      "            }\n",
      "        ],\n",
      "        \"pub_date\": \"2023-05-04T17:16:45+0000\",\n",
      "        \"byline\": {\n",
      "            \"original\": \"By Jeannette Catsoulis\",\n",
      "            \"person\": [\n",
      "                {\n",
      "                    \"firstname\": \"Jeannette\",\n",
      "                    \"middlename\": null,\n",
      "                    \"lastname\": \"Catsoulis\",\n",
      "                    \"qualifier\": null,\n",
      "                    \"title\": null,\n",
      "                    \"role\": \"reported\",\n",
      "                    \"organization\": \"\",\n",
      "                    \"rank\": 1\n",
      "                }\n",
      "            ],\n",
      "            \"organization\": null\n",
      "        },\n",
      "        \"word_count\": 287\n",
      "    },\n",
      "    {\n",
      "        \"web_url\": \"https://www.nytimes.com/2023/05/04/movies/you-can-live-forever-review.html\",\n",
      "        \"snippet\": \"Religion comes between two girls falling in love in the 1990s in this sweet coming-of-age film bathed in grunge hues.\",\n",
      "        \"source\": \"The New York Times\",\n",
      "        \"headline\": {\n",
      "            \"main\": \"\\u2018You Can Live Forever\\u2019 Review: Do You Love Me Now?\",\n",
      "            \"kicker\": null,\n",
      "            \"content_kicker\": null,\n",
      "            \"print_headline\": \"You Can Live Forever\",\n",
      "            \"name\": null,\n",
      "            \"seo\": null,\n",
      "            \"sub\": null\n",
      "        },\n",
      "        \"keywords\": [\n",
      "            {\n",
      "                \"name\": \"subject\",\n",
      "                \"value\": \"Movies\",\n",
      "                \"rank\": 1,\n",
      "                \"major\": \"N\"\n",
      "            },\n",
      "            {\n",
      "                \"name\": \"creative_works\",\n",
      "                \"value\": \"You Can Live Forever (Movie)\",\n",
      "                \"rank\": 2,\n",
      "                \"major\": \"N\"\n",
      "            },\n",
      "            {\n",
      "                \"name\": \"persons\",\n",
      "                \"value\": \"Slutsky, Mark\",\n",
      "                \"rank\": 3,\n",
      "                \"major\": \"N\"\n",
      "            },\n",
      "            {\n",
      "                \"name\": \"persons\",\n",
      "                \"value\": \"Watts, Sarah (Film Director)\",\n",
      "                \"rank\": 4,\n",
      "                \"major\": \"N\"\n",
      "            },\n",
      "            {\n",
      "                \"name\": \"persons\",\n",
      "                \"value\": \"O'Driscoll, Anwen\",\n",
      "                \"rank\": 5,\n",
      "                \"major\": \"N\"\n",
      "            },\n",
      "            {\n",
      "                \"name\": \"persons\",\n",
      "                \"value\": \"Laporte, June (Actor)\",\n",
      "                \"rank\": 6,\n",
      "                \"major\": \"N\"\n",
      "            }\n",
      "        ],\n",
      "        \"pub_date\": \"2023-05-04T11:00:08+0000\",\n",
      "        \"byline\": {\n",
      "            \"original\": \"By Elisabeth Vincentelli\",\n",
      "            \"person\": [\n",
      "                {\n",
      "                    \"firstname\": \"Elisabeth\",\n",
      "                    \"middlename\": null,\n",
      "                    \"lastname\": \"Vincentelli\",\n",
      "                    \"qualifier\": null,\n",
      "                    \"title\": null,\n",
      "                    \"role\": \"reported\",\n",
      "                    \"organization\": \"\",\n",
      "                    \"rank\": 1\n",
      "                }\n",
      "            ],\n",
      "            \"organization\": null\n",
      "        },\n",
      "        \"word_count\": 294\n",
      "    },\n",
      "    {\n",
      "        \"web_url\": \"https://www.nytimes.com/2023/04/21/movies/a-tourists-guide-to-love-review.html\",\n",
      "        \"snippet\": \"Rachael Leigh Cook stars in this bland rom-com as a travel executive exploring Vietnam and getting over a breakup.\",\n",
      "        \"source\": \"The New York Times\",\n",
      "        \"headline\": {\n",
      "            \"main\": \"\\u2018A Tourist\\u2019s Guide to Love\\u2019 Review: A Wearyingly Familiar Trip\",\n",
      "            \"kicker\": null,\n",
      "            \"content_kicker\": null,\n",
      "            \"print_headline\": \"A Tourist\\u2019s  Guide to Love\",\n",
      "            \"name\": null,\n",
      "            \"seo\": null,\n",
      "            \"sub\": null\n",
      "        },\n",
      "        \"keywords\": [\n",
      "            {\n",
      "                \"name\": \"subject\",\n",
      "                \"value\": \"Movies\",\n",
      "                \"rank\": 1,\n",
      "                \"major\": \"N\"\n",
      "            },\n",
      "            {\n",
      "                \"name\": \"creative_works\",\n",
      "                \"value\": \"A Tourist's Guide to Love (Movie)\",\n",
      "                \"rank\": 2,\n",
      "                \"major\": \"N\"\n",
      "            },\n",
      "            {\n",
      "                \"name\": \"persons\",\n",
      "                \"value\": \"Tsuchida, Steven\",\n",
      "                \"rank\": 3,\n",
      "                \"major\": \"N\"\n",
      "            },\n",
      "            {\n",
      "                \"name\": \"persons\",\n",
      "                \"value\": \"Cook, Rachael Leigh\",\n",
      "                \"rank\": 4,\n",
      "                \"major\": \"N\"\n",
      "            }\n",
      "        ],\n",
      "        \"pub_date\": \"2023-04-21T07:03:25+0000\",\n",
      "        \"byline\": {\n",
      "            \"original\": \"By Elisabeth Vincentelli\",\n",
      "            \"person\": [\n",
      "                {\n",
      "                    \"firstname\": \"Elisabeth\",\n",
      "                    \"middlename\": null,\n",
      "                    \"lastname\": \"Vincentelli\",\n",
      "                    \"qualifier\": null,\n",
      "                    \"title\": null,\n",
      "                    \"role\": \"reported\",\n",
      "                    \"organization\": \"\",\n",
      "                    \"rank\": 1\n",
      "                }\n",
      "            ],\n",
      "            \"organization\": null\n",
      "        },\n",
      "        \"word_count\": 276\n",
      "    },\n",
      "    {\n",
      "        \"web_url\": \"https://www.nytimes.com/2023/04/20/movies/other-peoples-children-review.html\",\n",
      "        \"snippet\": \"A radiant Virginie Efira stars as a Parisian teacher who blissfully falls for a man and his 4-year-old daughter, complicating everyone\\u2019s lives.\",\n",
      "        \"source\": \"The New York Times\",\n",
      "        \"headline\": {\n",
      "            \"main\": \"\\u2018Other People\\u2019s Children\\u2019 Review: True Romance\",\n",
      "            \"kicker\": \"Critic\\u2019s pick\",\n",
      "            \"content_kicker\": null,\n",
      "            \"print_headline\": \"Intoxicating Love With a Sobering Turn\",\n",
      "            \"name\": null,\n",
      "            \"seo\": null,\n",
      "            \"sub\": null\n",
      "        },\n",
      "        \"keywords\": [\n",
      "            {\n",
      "                \"name\": \"subject\",\n",
      "                \"value\": \"Movies\",\n",
      "                \"rank\": 1,\n",
      "                \"major\": \"N\"\n",
      "            },\n",
      "            {\n",
      "                \"name\": \"persons\",\n",
      "                \"value\": \"Zlotowski, Rebecca\",\n",
      "                \"rank\": 2,\n",
      "                \"major\": \"N\"\n",
      "            },\n",
      "            {\n",
      "                \"name\": \"creative_works\",\n",
      "                \"value\": \"Other People's Children (Movie)\",\n",
      "                \"rank\": 3,\n",
      "                \"major\": \"N\"\n",
      "            }\n",
      "        ],\n",
      "        \"pub_date\": \"2023-04-20T15:35:13+0000\",\n",
      "        \"byline\": {\n",
      "            \"original\": \"By Manohla Dargis\",\n",
      "            \"person\": [\n",
      "                {\n",
      "                    \"firstname\": \"Manohla\",\n",
      "                    \"middlename\": null,\n",
      "                    \"lastname\": \"Dargis\",\n",
      "                    \"qualifier\": null,\n",
      "                    \"title\": null,\n",
      "                    \"role\": \"reported\",\n",
      "                    \"organization\": \"\",\n",
      "                    \"rank\": 1\n",
      "                }\n",
      "            ],\n",
      "            \"organization\": null\n",
      "        },\n",
      "        \"word_count\": 801\n",
      "    }\n",
      "]\n"
     ]
    }
   ],
   "source": [
    "# Preview the first 5 results in JSON format\n",
    "# Use json.dumps with argument indent=4 to format data\n",
    "print(json.dumps(reviews_list[0:5],indent=4))"
   ]
  },
  {
   "cell_type": "code",
   "execution_count": 8,
   "metadata": {},
   "outputs": [
    {
     "data": {
      "text/html": [
       "<div>\n",
       "<style scoped>\n",
       "    .dataframe tbody tr th:only-of-type {\n",
       "        vertical-align: middle;\n",
       "    }\n",
       "\n",
       "    .dataframe tbody tr th {\n",
       "        vertical-align: top;\n",
       "    }\n",
       "\n",
       "    .dataframe thead th {\n",
       "        text-align: right;\n",
       "    }\n",
       "</style>\n",
       "<table border=\"1\" class=\"dataframe\">\n",
       "  <thead>\n",
       "    <tr style=\"text-align: right;\">\n",
       "      <th></th>\n",
       "      <th>web_url</th>\n",
       "      <th>snippet</th>\n",
       "      <th>source</th>\n",
       "      <th>keywords</th>\n",
       "      <th>pub_date</th>\n",
       "      <th>word_count</th>\n",
       "      <th>headline.main</th>\n",
       "      <th>headline.kicker</th>\n",
       "      <th>headline.content_kicker</th>\n",
       "      <th>headline.print_headline</th>\n",
       "      <th>headline.name</th>\n",
       "      <th>headline.seo</th>\n",
       "      <th>headline.sub</th>\n",
       "      <th>byline.original</th>\n",
       "      <th>byline.person</th>\n",
       "      <th>byline.organization</th>\n",
       "    </tr>\n",
       "  </thead>\n",
       "  <tbody>\n",
       "    <tr>\n",
       "      <th>0</th>\n",
       "      <td>https://www.nytimes.com/2023/05/25/movies/the-...</td>\n",
       "      <td>A gynecologist and her patient form a horrifyi...</td>\n",
       "      <td>The New York Times</td>\n",
       "      <td>[{'name': 'subject', 'value': 'Movies', 'rank'...</td>\n",
       "      <td>2023-05-25T11:00:03+0000</td>\n",
       "      <td>295</td>\n",
       "      <td>‘The Attachment Diaries’ Review: Love, Sick</td>\n",
       "      <td>None</td>\n",
       "      <td>None</td>\n",
       "      <td>The Attachment Diaries</td>\n",
       "      <td>None</td>\n",
       "      <td>None</td>\n",
       "      <td>None</td>\n",
       "      <td>By Jeannette Catsoulis</td>\n",
       "      <td>[{'firstname': 'Jeannette', 'middlename': None...</td>\n",
       "      <td>None</td>\n",
       "    </tr>\n",
       "    <tr>\n",
       "      <th>1</th>\n",
       "      <td>https://www.nytimes.com/2023/05/04/movies/what...</td>\n",
       "      <td>Two childhood friends navigate cultural differ...</td>\n",
       "      <td>The New York Times</td>\n",
       "      <td>[{'name': 'subject', 'value': 'Movies', 'rank'...</td>\n",
       "      <td>2023-05-04T17:16:45+0000</td>\n",
       "      <td>287</td>\n",
       "      <td>Review: ‘What’s Love Got to Do With It?’ Proba...</td>\n",
       "      <td>None</td>\n",
       "      <td>None</td>\n",
       "      <td>What’s Love Got to Do With It?</td>\n",
       "      <td>None</td>\n",
       "      <td>None</td>\n",
       "      <td>None</td>\n",
       "      <td>By Jeannette Catsoulis</td>\n",
       "      <td>[{'firstname': 'Jeannette', 'middlename': None...</td>\n",
       "      <td>None</td>\n",
       "    </tr>\n",
       "    <tr>\n",
       "      <th>2</th>\n",
       "      <td>https://www.nytimes.com/2023/05/04/movies/you-...</td>\n",
       "      <td>Religion comes between two girls falling in lo...</td>\n",
       "      <td>The New York Times</td>\n",
       "      <td>[{'name': 'subject', 'value': 'Movies', 'rank'...</td>\n",
       "      <td>2023-05-04T11:00:08+0000</td>\n",
       "      <td>294</td>\n",
       "      <td>‘You Can Live Forever’ Review: Do You Love Me ...</td>\n",
       "      <td>None</td>\n",
       "      <td>None</td>\n",
       "      <td>You Can Live Forever</td>\n",
       "      <td>None</td>\n",
       "      <td>None</td>\n",
       "      <td>None</td>\n",
       "      <td>By Elisabeth Vincentelli</td>\n",
       "      <td>[{'firstname': 'Elisabeth', 'middlename': None...</td>\n",
       "      <td>None</td>\n",
       "    </tr>\n",
       "    <tr>\n",
       "      <th>3</th>\n",
       "      <td>https://www.nytimes.com/2023/04/21/movies/a-to...</td>\n",
       "      <td>Rachael Leigh Cook stars in this bland rom-com...</td>\n",
       "      <td>The New York Times</td>\n",
       "      <td>[{'name': 'subject', 'value': 'Movies', 'rank'...</td>\n",
       "      <td>2023-04-21T07:03:25+0000</td>\n",
       "      <td>276</td>\n",
       "      <td>‘A Tourist’s Guide to Love’ Review: A Wearying...</td>\n",
       "      <td>None</td>\n",
       "      <td>None</td>\n",
       "      <td>A Tourist’s  Guide to Love</td>\n",
       "      <td>None</td>\n",
       "      <td>None</td>\n",
       "      <td>None</td>\n",
       "      <td>By Elisabeth Vincentelli</td>\n",
       "      <td>[{'firstname': 'Elisabeth', 'middlename': None...</td>\n",
       "      <td>None</td>\n",
       "    </tr>\n",
       "    <tr>\n",
       "      <th>4</th>\n",
       "      <td>https://www.nytimes.com/2023/04/20/movies/othe...</td>\n",
       "      <td>A radiant Virginie Efira stars as a Parisian t...</td>\n",
       "      <td>The New York Times</td>\n",
       "      <td>[{'name': 'subject', 'value': 'Movies', 'rank'...</td>\n",
       "      <td>2023-04-20T15:35:13+0000</td>\n",
       "      <td>801</td>\n",
       "      <td>‘Other People’s Children’ Review: True Romance</td>\n",
       "      <td>Critic’s pick</td>\n",
       "      <td>None</td>\n",
       "      <td>Intoxicating Love With a Sobering Turn</td>\n",
       "      <td>None</td>\n",
       "      <td>None</td>\n",
       "      <td>None</td>\n",
       "      <td>By Manohla Dargis</td>\n",
       "      <td>[{'firstname': 'Manohla', 'middlename': None, ...</td>\n",
       "      <td>None</td>\n",
       "    </tr>\n",
       "    <tr>\n",
       "      <th>...</th>\n",
       "      <td>...</td>\n",
       "      <td>...</td>\n",
       "      <td>...</td>\n",
       "      <td>...</td>\n",
       "      <td>...</td>\n",
       "      <td>...</td>\n",
       "      <td>...</td>\n",
       "      <td>...</td>\n",
       "      <td>...</td>\n",
       "      <td>...</td>\n",
       "      <td>...</td>\n",
       "      <td>...</td>\n",
       "      <td>...</td>\n",
       "      <td>...</td>\n",
       "      <td>...</td>\n",
       "      <td>...</td>\n",
       "    </tr>\n",
       "    <tr>\n",
       "      <th>195</th>\n",
       "      <td>https://www.nytimes.com/2017/03/09/movies/the-...</td>\n",
       "      <td>This moody romance stars Tatiana Maslany (“Orp...</td>\n",
       "      <td>The New York Times</td>\n",
       "      <td>[{'name': 'subject', 'value': 'Movies', 'rank'...</td>\n",
       "      <td>2017-03-09T21:54:58+0000</td>\n",
       "      <td>251</td>\n",
       "      <td>Review: A Combustible Pair Find Love in ‘The O...</td>\n",
       "      <td>None</td>\n",
       "      <td>None</td>\n",
       "      <td>Review: A Combustible Pair Find Love in ‘The O...</td>\n",
       "      <td>None</td>\n",
       "      <td>None</td>\n",
       "      <td>None</td>\n",
       "      <td>By Andy Webster</td>\n",
       "      <td>[{'firstname': 'Andy', 'middlename': None, 'la...</td>\n",
       "      <td>None</td>\n",
       "    </tr>\n",
       "    <tr>\n",
       "      <th>196</th>\n",
       "      <td>https://www.nytimes.com/2017/03/09/movies/revi...</td>\n",
       "      <td>A nurse travels to the Ottoman Empire on the e...</td>\n",
       "      <td>The New York Times</td>\n",
       "      <td>[{'name': 'subject', 'value': 'Movies', 'rank'...</td>\n",
       "      <td>2017-03-09T21:53:12+0000</td>\n",
       "      <td>267</td>\n",
       "      <td>Review: Love as the World Wars, in ‘The Ottoma...</td>\n",
       "      <td>None</td>\n",
       "      <td>None</td>\n",
       "      <td>Review: Love as the World Wars, in ‘The Ottoma...</td>\n",
       "      <td>None</td>\n",
       "      <td>None</td>\n",
       "      <td>None</td>\n",
       "      <td>By Neil Genzlinger</td>\n",
       "      <td>[{'firstname': 'Neil', 'middlename': None, 'la...</td>\n",
       "      <td>None</td>\n",
       "    </tr>\n",
       "    <tr>\n",
       "      <th>197</th>\n",
       "      <td>https://www.nytimes.com/2017/03/02/movies/love...</td>\n",
       "      <td>Josh Kornbluth runs afoul of the Internal Reve...</td>\n",
       "      <td>The New York Times</td>\n",
       "      <td>[{'name': 'creative_works', 'value': 'Love &amp; T...</td>\n",
       "      <td>2017-03-02T21:44:18+0000</td>\n",
       "      <td>246</td>\n",
       "      <td>Review: It’s All Mirth and Taxes in ‘Love &amp; Ta...</td>\n",
       "      <td>None</td>\n",
       "      <td>None</td>\n",
       "      <td>It’s Inevitable, Mirth and Taxes</td>\n",
       "      <td>None</td>\n",
       "      <td>None</td>\n",
       "      <td>None</td>\n",
       "      <td>By Ken Jaworowski</td>\n",
       "      <td>[{'firstname': 'Ken', 'middlename': None, 'las...</td>\n",
       "      <td>None</td>\n",
       "    </tr>\n",
       "    <tr>\n",
       "      <th>198</th>\n",
       "      <td>https://www.nytimes.com/2017/02/16/movies/ever...</td>\n",
       "      <td>A messed-up heroine is asked to choose between...</td>\n",
       "      <td>The New York Times</td>\n",
       "      <td>[{'name': 'subject', 'value': 'Movies', 'rank'...</td>\n",
       "      <td>2017-02-16T21:45:50+0000</td>\n",
       "      <td>256</td>\n",
       "      <td>Review: ‘Everybody Loves Somebody,’ a Rom-Com ...</td>\n",
       "      <td>None</td>\n",
       "      <td>None</td>\n",
       "      <td>Everybody Loves Somebody</td>\n",
       "      <td>None</td>\n",
       "      <td>None</td>\n",
       "      <td>None</td>\n",
       "      <td>By Jeannette Catsoulis</td>\n",
       "      <td>[{'firstname': 'Jeannette', 'middlename': None...</td>\n",
       "      <td>None</td>\n",
       "    </tr>\n",
       "    <tr>\n",
       "      <th>199</th>\n",
       "      <td>https://www.nytimes.com/2017/02/09/movies/kedi...</td>\n",
       "      <td>This documentary profiles distinctive street c...</td>\n",
       "      <td>The New York Times</td>\n",
       "      <td>[{'name': 'creative_works', 'value': 'Kedi (Mo...</td>\n",
       "      <td>2017-02-09T16:21:39+0000</td>\n",
       "      <td>274</td>\n",
       "      <td>Review: Cute Cats of ‘Kedi,’ Rekindling a ‘Lov...</td>\n",
       "      <td>None</td>\n",
       "      <td>None</td>\n",
       "      <td>Kedi</td>\n",
       "      <td>None</td>\n",
       "      <td>None</td>\n",
       "      <td>None</td>\n",
       "      <td>By Glenn Kenny</td>\n",
       "      <td>[{'firstname': 'Glenn', 'middlename': None, 'l...</td>\n",
       "      <td>None</td>\n",
       "    </tr>\n",
       "  </tbody>\n",
       "</table>\n",
       "<p>200 rows × 16 columns</p>\n",
       "</div>"
      ],
      "text/plain": [
       "                                               web_url  \\\n",
       "0    https://www.nytimes.com/2023/05/25/movies/the-...   \n",
       "1    https://www.nytimes.com/2023/05/04/movies/what...   \n",
       "2    https://www.nytimes.com/2023/05/04/movies/you-...   \n",
       "3    https://www.nytimes.com/2023/04/21/movies/a-to...   \n",
       "4    https://www.nytimes.com/2023/04/20/movies/othe...   \n",
       "..                                                 ...   \n",
       "195  https://www.nytimes.com/2017/03/09/movies/the-...   \n",
       "196  https://www.nytimes.com/2017/03/09/movies/revi...   \n",
       "197  https://www.nytimes.com/2017/03/02/movies/love...   \n",
       "198  https://www.nytimes.com/2017/02/16/movies/ever...   \n",
       "199  https://www.nytimes.com/2017/02/09/movies/kedi...   \n",
       "\n",
       "                                               snippet              source  \\\n",
       "0    A gynecologist and her patient form a horrifyi...  The New York Times   \n",
       "1    Two childhood friends navigate cultural differ...  The New York Times   \n",
       "2    Religion comes between two girls falling in lo...  The New York Times   \n",
       "3    Rachael Leigh Cook stars in this bland rom-com...  The New York Times   \n",
       "4    A radiant Virginie Efira stars as a Parisian t...  The New York Times   \n",
       "..                                                 ...                 ...   \n",
       "195  This moody romance stars Tatiana Maslany (“Orp...  The New York Times   \n",
       "196  A nurse travels to the Ottoman Empire on the e...  The New York Times   \n",
       "197  Josh Kornbluth runs afoul of the Internal Reve...  The New York Times   \n",
       "198  A messed-up heroine is asked to choose between...  The New York Times   \n",
       "199  This documentary profiles distinctive street c...  The New York Times   \n",
       "\n",
       "                                              keywords  \\\n",
       "0    [{'name': 'subject', 'value': 'Movies', 'rank'...   \n",
       "1    [{'name': 'subject', 'value': 'Movies', 'rank'...   \n",
       "2    [{'name': 'subject', 'value': 'Movies', 'rank'...   \n",
       "3    [{'name': 'subject', 'value': 'Movies', 'rank'...   \n",
       "4    [{'name': 'subject', 'value': 'Movies', 'rank'...   \n",
       "..                                                 ...   \n",
       "195  [{'name': 'subject', 'value': 'Movies', 'rank'...   \n",
       "196  [{'name': 'subject', 'value': 'Movies', 'rank'...   \n",
       "197  [{'name': 'creative_works', 'value': 'Love & T...   \n",
       "198  [{'name': 'subject', 'value': 'Movies', 'rank'...   \n",
       "199  [{'name': 'creative_works', 'value': 'Kedi (Mo...   \n",
       "\n",
       "                     pub_date  word_count  \\\n",
       "0    2023-05-25T11:00:03+0000         295   \n",
       "1    2023-05-04T17:16:45+0000         287   \n",
       "2    2023-05-04T11:00:08+0000         294   \n",
       "3    2023-04-21T07:03:25+0000         276   \n",
       "4    2023-04-20T15:35:13+0000         801   \n",
       "..                        ...         ...   \n",
       "195  2017-03-09T21:54:58+0000         251   \n",
       "196  2017-03-09T21:53:12+0000         267   \n",
       "197  2017-03-02T21:44:18+0000         246   \n",
       "198  2017-02-16T21:45:50+0000         256   \n",
       "199  2017-02-09T16:21:39+0000         274   \n",
       "\n",
       "                                         headline.main headline.kicker  \\\n",
       "0          ‘The Attachment Diaries’ Review: Love, Sick            None   \n",
       "1    Review: ‘What’s Love Got to Do With It?’ Proba...            None   \n",
       "2    ‘You Can Live Forever’ Review: Do You Love Me ...            None   \n",
       "3    ‘A Tourist’s Guide to Love’ Review: A Wearying...            None   \n",
       "4       ‘Other People’s Children’ Review: True Romance   Critic’s pick   \n",
       "..                                                 ...             ...   \n",
       "195  Review: A Combustible Pair Find Love in ‘The O...            None   \n",
       "196  Review: Love as the World Wars, in ‘The Ottoma...            None   \n",
       "197  Review: It’s All Mirth and Taxes in ‘Love & Ta...            None   \n",
       "198  Review: ‘Everybody Loves Somebody,’ a Rom-Com ...            None   \n",
       "199  Review: Cute Cats of ‘Kedi,’ Rekindling a ‘Lov...            None   \n",
       "\n",
       "    headline.content_kicker  \\\n",
       "0                      None   \n",
       "1                      None   \n",
       "2                      None   \n",
       "3                      None   \n",
       "4                      None   \n",
       "..                      ...   \n",
       "195                    None   \n",
       "196                    None   \n",
       "197                    None   \n",
       "198                    None   \n",
       "199                    None   \n",
       "\n",
       "                               headline.print_headline headline.name  \\\n",
       "0                               The Attachment Diaries          None   \n",
       "1                       What’s Love Got to Do With It?          None   \n",
       "2                                 You Can Live Forever          None   \n",
       "3                           A Tourist’s  Guide to Love          None   \n",
       "4               Intoxicating Love With a Sobering Turn          None   \n",
       "..                                                 ...           ...   \n",
       "195  Review: A Combustible Pair Find Love in ‘The O...          None   \n",
       "196  Review: Love as the World Wars, in ‘The Ottoma...          None   \n",
       "197                   It’s Inevitable, Mirth and Taxes          None   \n",
       "198                           Everybody Loves Somebody          None   \n",
       "199                                               Kedi          None   \n",
       "\n",
       "    headline.seo headline.sub           byline.original  \\\n",
       "0           None         None    By Jeannette Catsoulis   \n",
       "1           None         None    By Jeannette Catsoulis   \n",
       "2           None         None  By Elisabeth Vincentelli   \n",
       "3           None         None  By Elisabeth Vincentelli   \n",
       "4           None         None         By Manohla Dargis   \n",
       "..           ...          ...                       ...   \n",
       "195         None         None           By Andy Webster   \n",
       "196         None         None        By Neil Genzlinger   \n",
       "197         None         None         By Ken Jaworowski   \n",
       "198         None         None    By Jeannette Catsoulis   \n",
       "199         None         None            By Glenn Kenny   \n",
       "\n",
       "                                         byline.person byline.organization  \n",
       "0    [{'firstname': 'Jeannette', 'middlename': None...                None  \n",
       "1    [{'firstname': 'Jeannette', 'middlename': None...                None  \n",
       "2    [{'firstname': 'Elisabeth', 'middlename': None...                None  \n",
       "3    [{'firstname': 'Elisabeth', 'middlename': None...                None  \n",
       "4    [{'firstname': 'Manohla', 'middlename': None, ...                None  \n",
       "..                                                 ...                 ...  \n",
       "195  [{'firstname': 'Andy', 'middlename': None, 'la...                None  \n",
       "196  [{'firstname': 'Neil', 'middlename': None, 'la...                None  \n",
       "197  [{'firstname': 'Ken', 'middlename': None, 'las...                None  \n",
       "198  [{'firstname': 'Jeannette', 'middlename': None...                None  \n",
       "199  [{'firstname': 'Glenn', 'middlename': None, 'l...                None  \n",
       "\n",
       "[200 rows x 16 columns]"
      ]
     },
     "execution_count": 8,
     "metadata": {},
     "output_type": "execute_result"
    }
   ],
   "source": [
    "# Convert reviews_list to a Pandas DataFrame using json_normalize()\n",
    "nyt_reviews_df = pd.json_normalize(reviews_list)\n",
    "nyt_reviews_df\n"
   ]
  },
  {
   "cell_type": "code",
   "execution_count": 9,
   "metadata": {},
   "outputs": [
    {
     "data": {
      "text/html": [
       "<div>\n",
       "<style scoped>\n",
       "    .dataframe tbody tr th:only-of-type {\n",
       "        vertical-align: middle;\n",
       "    }\n",
       "\n",
       "    .dataframe tbody tr th {\n",
       "        vertical-align: top;\n",
       "    }\n",
       "\n",
       "    .dataframe thead th {\n",
       "        text-align: right;\n",
       "    }\n",
       "</style>\n",
       "<table border=\"1\" class=\"dataframe\">\n",
       "  <thead>\n",
       "    <tr style=\"text-align: right;\">\n",
       "      <th></th>\n",
       "      <th>web_url</th>\n",
       "      <th>snippet</th>\n",
       "      <th>source</th>\n",
       "      <th>keywords</th>\n",
       "      <th>pub_date</th>\n",
       "      <th>word_count</th>\n",
       "      <th>headline.main</th>\n",
       "      <th>headline.kicker</th>\n",
       "      <th>headline.content_kicker</th>\n",
       "      <th>headline.print_headline</th>\n",
       "      <th>headline.name</th>\n",
       "      <th>headline.seo</th>\n",
       "      <th>headline.sub</th>\n",
       "      <th>byline.original</th>\n",
       "      <th>byline.person</th>\n",
       "      <th>byline.organization</th>\n",
       "      <th>title</th>\n",
       "    </tr>\n",
       "  </thead>\n",
       "  <tbody>\n",
       "    <tr>\n",
       "      <th>0</th>\n",
       "      <td>https://www.nytimes.com/2023/05/25/movies/the-...</td>\n",
       "      <td>A gynecologist and her patient form a horrifyi...</td>\n",
       "      <td>The New York Times</td>\n",
       "      <td>[{'name': 'subject', 'value': 'Movies', 'rank'...</td>\n",
       "      <td>2023-05-25T11:00:03+0000</td>\n",
       "      <td>295</td>\n",
       "      <td>‘The Attachment Diaries’ Review: Love, Sick</td>\n",
       "      <td>None</td>\n",
       "      <td>None</td>\n",
       "      <td>The Attachment Diaries</td>\n",
       "      <td>None</td>\n",
       "      <td>None</td>\n",
       "      <td>None</td>\n",
       "      <td>By Jeannette Catsoulis</td>\n",
       "      <td>[{'firstname': 'Jeannette', 'middlename': None...</td>\n",
       "      <td>None</td>\n",
       "      <td>The Attachment Diaries</td>\n",
       "    </tr>\n",
       "    <tr>\n",
       "      <th>1</th>\n",
       "      <td>https://www.nytimes.com/2023/05/04/movies/what...</td>\n",
       "      <td>Two childhood friends navigate cultural differ...</td>\n",
       "      <td>The New York Times</td>\n",
       "      <td>[{'name': 'subject', 'value': 'Movies', 'rank'...</td>\n",
       "      <td>2023-05-04T17:16:45+0000</td>\n",
       "      <td>287</td>\n",
       "      <td>Review: ‘What’s Love Got to Do With It?’ Proba...</td>\n",
       "      <td>None</td>\n",
       "      <td>None</td>\n",
       "      <td>What’s Love Got to Do With It?</td>\n",
       "      <td>None</td>\n",
       "      <td>None</td>\n",
       "      <td>None</td>\n",
       "      <td>By Jeannette Catsoulis</td>\n",
       "      <td>[{'firstname': 'Jeannette', 'middlename': None...</td>\n",
       "      <td>None</td>\n",
       "      <td>What’s Love Got to Do With It?’ Probably a Lo</td>\n",
       "    </tr>\n",
       "    <tr>\n",
       "      <th>2</th>\n",
       "      <td>https://www.nytimes.com/2023/05/04/movies/you-...</td>\n",
       "      <td>Religion comes between two girls falling in lo...</td>\n",
       "      <td>The New York Times</td>\n",
       "      <td>[{'name': 'subject', 'value': 'Movies', 'rank'...</td>\n",
       "      <td>2023-05-04T11:00:08+0000</td>\n",
       "      <td>294</td>\n",
       "      <td>‘You Can Live Forever’ Review: Do You Love Me ...</td>\n",
       "      <td>None</td>\n",
       "      <td>None</td>\n",
       "      <td>You Can Live Forever</td>\n",
       "      <td>None</td>\n",
       "      <td>None</td>\n",
       "      <td>None</td>\n",
       "      <td>By Elisabeth Vincentelli</td>\n",
       "      <td>[{'firstname': 'Elisabeth', 'middlename': None...</td>\n",
       "      <td>None</td>\n",
       "      <td>You Can Live Forever</td>\n",
       "    </tr>\n",
       "    <tr>\n",
       "      <th>3</th>\n",
       "      <td>https://www.nytimes.com/2023/04/21/movies/a-to...</td>\n",
       "      <td>Rachael Leigh Cook stars in this bland rom-com...</td>\n",
       "      <td>The New York Times</td>\n",
       "      <td>[{'name': 'subject', 'value': 'Movies', 'rank'...</td>\n",
       "      <td>2023-04-21T07:03:25+0000</td>\n",
       "      <td>276</td>\n",
       "      <td>‘A Tourist’s Guide to Love’ Review: A Wearying...</td>\n",
       "      <td>None</td>\n",
       "      <td>None</td>\n",
       "      <td>A Tourist’s  Guide to Love</td>\n",
       "      <td>None</td>\n",
       "      <td>None</td>\n",
       "      <td>None</td>\n",
       "      <td>By Elisabeth Vincentelli</td>\n",
       "      <td>[{'firstname': 'Elisabeth', 'middlename': None...</td>\n",
       "      <td>None</td>\n",
       "      <td>A Tourist’s Guide to Love</td>\n",
       "    </tr>\n",
       "    <tr>\n",
       "      <th>4</th>\n",
       "      <td>https://www.nytimes.com/2023/04/20/movies/othe...</td>\n",
       "      <td>A radiant Virginie Efira stars as a Parisian t...</td>\n",
       "      <td>The New York Times</td>\n",
       "      <td>[{'name': 'subject', 'value': 'Movies', 'rank'...</td>\n",
       "      <td>2023-04-20T15:35:13+0000</td>\n",
       "      <td>801</td>\n",
       "      <td>‘Other People’s Children’ Review: True Romance</td>\n",
       "      <td>Critic’s pick</td>\n",
       "      <td>None</td>\n",
       "      <td>Intoxicating Love With a Sobering Turn</td>\n",
       "      <td>None</td>\n",
       "      <td>None</td>\n",
       "      <td>None</td>\n",
       "      <td>By Manohla Dargis</td>\n",
       "      <td>[{'firstname': 'Manohla', 'middlename': None, ...</td>\n",
       "      <td>None</td>\n",
       "      <td>Other People’s Children</td>\n",
       "    </tr>\n",
       "    <tr>\n",
       "      <th>...</th>\n",
       "      <td>...</td>\n",
       "      <td>...</td>\n",
       "      <td>...</td>\n",
       "      <td>...</td>\n",
       "      <td>...</td>\n",
       "      <td>...</td>\n",
       "      <td>...</td>\n",
       "      <td>...</td>\n",
       "      <td>...</td>\n",
       "      <td>...</td>\n",
       "      <td>...</td>\n",
       "      <td>...</td>\n",
       "      <td>...</td>\n",
       "      <td>...</td>\n",
       "      <td>...</td>\n",
       "      <td>...</td>\n",
       "      <td>...</td>\n",
       "    </tr>\n",
       "    <tr>\n",
       "      <th>195</th>\n",
       "      <td>https://www.nytimes.com/2017/03/09/movies/the-...</td>\n",
       "      <td>This moody romance stars Tatiana Maslany (“Orp...</td>\n",
       "      <td>The New York Times</td>\n",
       "      <td>[{'name': 'subject', 'value': 'Movies', 'rank'...</td>\n",
       "      <td>2017-03-09T21:54:58+0000</td>\n",
       "      <td>251</td>\n",
       "      <td>Review: A Combustible Pair Find Love in ‘The O...</td>\n",
       "      <td>None</td>\n",
       "      <td>None</td>\n",
       "      <td>Review: A Combustible Pair Find Love in ‘The O...</td>\n",
       "      <td>None</td>\n",
       "      <td>None</td>\n",
       "      <td>None</td>\n",
       "      <td>By Andy Webster</td>\n",
       "      <td>[{'firstname': 'Andy', 'middlename': None, 'la...</td>\n",
       "      <td>None</td>\n",
       "      <td>The Other Half</td>\n",
       "    </tr>\n",
       "    <tr>\n",
       "      <th>196</th>\n",
       "      <td>https://www.nytimes.com/2017/03/09/movies/revi...</td>\n",
       "      <td>A nurse travels to the Ottoman Empire on the e...</td>\n",
       "      <td>The New York Times</td>\n",
       "      <td>[{'name': 'subject', 'value': 'Movies', 'rank'...</td>\n",
       "      <td>2017-03-09T21:53:12+0000</td>\n",
       "      <td>267</td>\n",
       "      <td>Review: Love as the World Wars, in ‘The Ottoma...</td>\n",
       "      <td>None</td>\n",
       "      <td>None</td>\n",
       "      <td>Review: Love as the World Wars, in ‘The Ottoma...</td>\n",
       "      <td>None</td>\n",
       "      <td>None</td>\n",
       "      <td>None</td>\n",
       "      <td>By Neil Genzlinger</td>\n",
       "      <td>[{'firstname': 'Neil', 'middlename': None, 'la...</td>\n",
       "      <td>None</td>\n",
       "      <td>The Ottoman Lieutenant</td>\n",
       "    </tr>\n",
       "    <tr>\n",
       "      <th>197</th>\n",
       "      <td>https://www.nytimes.com/2017/03/02/movies/love...</td>\n",
       "      <td>Josh Kornbluth runs afoul of the Internal Reve...</td>\n",
       "      <td>The New York Times</td>\n",
       "      <td>[{'name': 'creative_works', 'value': 'Love &amp; T...</td>\n",
       "      <td>2017-03-02T21:44:18+0000</td>\n",
       "      <td>246</td>\n",
       "      <td>Review: It’s All Mirth and Taxes in ‘Love &amp; Ta...</td>\n",
       "      <td>None</td>\n",
       "      <td>None</td>\n",
       "      <td>It’s Inevitable, Mirth and Taxes</td>\n",
       "      <td>None</td>\n",
       "      <td>None</td>\n",
       "      <td>None</td>\n",
       "      <td>By Ken Jaworowski</td>\n",
       "      <td>[{'firstname': 'Ken', 'middlename': None, 'las...</td>\n",
       "      <td>None</td>\n",
       "      <td>Love &amp; Taxes</td>\n",
       "    </tr>\n",
       "    <tr>\n",
       "      <th>198</th>\n",
       "      <td>https://www.nytimes.com/2017/02/16/movies/ever...</td>\n",
       "      <td>A messed-up heroine is asked to choose between...</td>\n",
       "      <td>The New York Times</td>\n",
       "      <td>[{'name': 'subject', 'value': 'Movies', 'rank'...</td>\n",
       "      <td>2017-02-16T21:45:50+0000</td>\n",
       "      <td>256</td>\n",
       "      <td>Review: ‘Everybody Loves Somebody,’ a Rom-Com ...</td>\n",
       "      <td>None</td>\n",
       "      <td>None</td>\n",
       "      <td>Everybody Loves Somebody</td>\n",
       "      <td>None</td>\n",
       "      <td>None</td>\n",
       "      <td>None</td>\n",
       "      <td>By Jeannette Catsoulis</td>\n",
       "      <td>[{'firstname': 'Jeannette', 'middlename': None...</td>\n",
       "      <td>None</td>\n",
       "      <td>Everybody Loves Somebody,’ a Rom-Com With Bit</td>\n",
       "    </tr>\n",
       "    <tr>\n",
       "      <th>199</th>\n",
       "      <td>https://www.nytimes.com/2017/02/09/movies/kedi...</td>\n",
       "      <td>This documentary profiles distinctive street c...</td>\n",
       "      <td>The New York Times</td>\n",
       "      <td>[{'name': 'creative_works', 'value': 'Kedi (Mo...</td>\n",
       "      <td>2017-02-09T16:21:39+0000</td>\n",
       "      <td>274</td>\n",
       "      <td>Review: Cute Cats of ‘Kedi,’ Rekindling a ‘Lov...</td>\n",
       "      <td>None</td>\n",
       "      <td>None</td>\n",
       "      <td>Kedi</td>\n",
       "      <td>None</td>\n",
       "      <td>None</td>\n",
       "      <td>None</td>\n",
       "      <td>By Glenn Kenny</td>\n",
       "      <td>[{'firstname': 'Glenn', 'middlename': None, 'l...</td>\n",
       "      <td>None</td>\n",
       "      <td>Kedi,’ Rekindling a ‘Love of Life</td>\n",
       "    </tr>\n",
       "  </tbody>\n",
       "</table>\n",
       "<p>200 rows × 17 columns</p>\n",
       "</div>"
      ],
      "text/plain": [
       "                                               web_url  \\\n",
       "0    https://www.nytimes.com/2023/05/25/movies/the-...   \n",
       "1    https://www.nytimes.com/2023/05/04/movies/what...   \n",
       "2    https://www.nytimes.com/2023/05/04/movies/you-...   \n",
       "3    https://www.nytimes.com/2023/04/21/movies/a-to...   \n",
       "4    https://www.nytimes.com/2023/04/20/movies/othe...   \n",
       "..                                                 ...   \n",
       "195  https://www.nytimes.com/2017/03/09/movies/the-...   \n",
       "196  https://www.nytimes.com/2017/03/09/movies/revi...   \n",
       "197  https://www.nytimes.com/2017/03/02/movies/love...   \n",
       "198  https://www.nytimes.com/2017/02/16/movies/ever...   \n",
       "199  https://www.nytimes.com/2017/02/09/movies/kedi...   \n",
       "\n",
       "                                               snippet              source  \\\n",
       "0    A gynecologist and her patient form a horrifyi...  The New York Times   \n",
       "1    Two childhood friends navigate cultural differ...  The New York Times   \n",
       "2    Religion comes between two girls falling in lo...  The New York Times   \n",
       "3    Rachael Leigh Cook stars in this bland rom-com...  The New York Times   \n",
       "4    A radiant Virginie Efira stars as a Parisian t...  The New York Times   \n",
       "..                                                 ...                 ...   \n",
       "195  This moody romance stars Tatiana Maslany (“Orp...  The New York Times   \n",
       "196  A nurse travels to the Ottoman Empire on the e...  The New York Times   \n",
       "197  Josh Kornbluth runs afoul of the Internal Reve...  The New York Times   \n",
       "198  A messed-up heroine is asked to choose between...  The New York Times   \n",
       "199  This documentary profiles distinctive street c...  The New York Times   \n",
       "\n",
       "                                              keywords  \\\n",
       "0    [{'name': 'subject', 'value': 'Movies', 'rank'...   \n",
       "1    [{'name': 'subject', 'value': 'Movies', 'rank'...   \n",
       "2    [{'name': 'subject', 'value': 'Movies', 'rank'...   \n",
       "3    [{'name': 'subject', 'value': 'Movies', 'rank'...   \n",
       "4    [{'name': 'subject', 'value': 'Movies', 'rank'...   \n",
       "..                                                 ...   \n",
       "195  [{'name': 'subject', 'value': 'Movies', 'rank'...   \n",
       "196  [{'name': 'subject', 'value': 'Movies', 'rank'...   \n",
       "197  [{'name': 'creative_works', 'value': 'Love & T...   \n",
       "198  [{'name': 'subject', 'value': 'Movies', 'rank'...   \n",
       "199  [{'name': 'creative_works', 'value': 'Kedi (Mo...   \n",
       "\n",
       "                     pub_date  word_count  \\\n",
       "0    2023-05-25T11:00:03+0000         295   \n",
       "1    2023-05-04T17:16:45+0000         287   \n",
       "2    2023-05-04T11:00:08+0000         294   \n",
       "3    2023-04-21T07:03:25+0000         276   \n",
       "4    2023-04-20T15:35:13+0000         801   \n",
       "..                        ...         ...   \n",
       "195  2017-03-09T21:54:58+0000         251   \n",
       "196  2017-03-09T21:53:12+0000         267   \n",
       "197  2017-03-02T21:44:18+0000         246   \n",
       "198  2017-02-16T21:45:50+0000         256   \n",
       "199  2017-02-09T16:21:39+0000         274   \n",
       "\n",
       "                                         headline.main headline.kicker  \\\n",
       "0          ‘The Attachment Diaries’ Review: Love, Sick            None   \n",
       "1    Review: ‘What’s Love Got to Do With It?’ Proba...            None   \n",
       "2    ‘You Can Live Forever’ Review: Do You Love Me ...            None   \n",
       "3    ‘A Tourist’s Guide to Love’ Review: A Wearying...            None   \n",
       "4       ‘Other People’s Children’ Review: True Romance   Critic’s pick   \n",
       "..                                                 ...             ...   \n",
       "195  Review: A Combustible Pair Find Love in ‘The O...            None   \n",
       "196  Review: Love as the World Wars, in ‘The Ottoma...            None   \n",
       "197  Review: It’s All Mirth and Taxes in ‘Love & Ta...            None   \n",
       "198  Review: ‘Everybody Loves Somebody,’ a Rom-Com ...            None   \n",
       "199  Review: Cute Cats of ‘Kedi,’ Rekindling a ‘Lov...            None   \n",
       "\n",
       "    headline.content_kicker  \\\n",
       "0                      None   \n",
       "1                      None   \n",
       "2                      None   \n",
       "3                      None   \n",
       "4                      None   \n",
       "..                      ...   \n",
       "195                    None   \n",
       "196                    None   \n",
       "197                    None   \n",
       "198                    None   \n",
       "199                    None   \n",
       "\n",
       "                               headline.print_headline headline.name  \\\n",
       "0                               The Attachment Diaries          None   \n",
       "1                       What’s Love Got to Do With It?          None   \n",
       "2                                 You Can Live Forever          None   \n",
       "3                           A Tourist’s  Guide to Love          None   \n",
       "4               Intoxicating Love With a Sobering Turn          None   \n",
       "..                                                 ...           ...   \n",
       "195  Review: A Combustible Pair Find Love in ‘The O...          None   \n",
       "196  Review: Love as the World Wars, in ‘The Ottoma...          None   \n",
       "197                   It’s Inevitable, Mirth and Taxes          None   \n",
       "198                           Everybody Loves Somebody          None   \n",
       "199                                               Kedi          None   \n",
       "\n",
       "    headline.seo headline.sub           byline.original  \\\n",
       "0           None         None    By Jeannette Catsoulis   \n",
       "1           None         None    By Jeannette Catsoulis   \n",
       "2           None         None  By Elisabeth Vincentelli   \n",
       "3           None         None  By Elisabeth Vincentelli   \n",
       "4           None         None         By Manohla Dargis   \n",
       "..           ...          ...                       ...   \n",
       "195         None         None           By Andy Webster   \n",
       "196         None         None        By Neil Genzlinger   \n",
       "197         None         None         By Ken Jaworowski   \n",
       "198         None         None    By Jeannette Catsoulis   \n",
       "199         None         None            By Glenn Kenny   \n",
       "\n",
       "                                         byline.person byline.organization  \\\n",
       "0    [{'firstname': 'Jeannette', 'middlename': None...                None   \n",
       "1    [{'firstname': 'Jeannette', 'middlename': None...                None   \n",
       "2    [{'firstname': 'Elisabeth', 'middlename': None...                None   \n",
       "3    [{'firstname': 'Elisabeth', 'middlename': None...                None   \n",
       "4    [{'firstname': 'Manohla', 'middlename': None, ...                None   \n",
       "..                                                 ...                 ...   \n",
       "195  [{'firstname': 'Andy', 'middlename': None, 'la...                None   \n",
       "196  [{'firstname': 'Neil', 'middlename': None, 'la...                None   \n",
       "197  [{'firstname': 'Ken', 'middlename': None, 'las...                None   \n",
       "198  [{'firstname': 'Jeannette', 'middlename': None...                None   \n",
       "199  [{'firstname': 'Glenn', 'middlename': None, 'l...                None   \n",
       "\n",
       "                                             title  \n",
       "0                           The Attachment Diaries  \n",
       "1    What’s Love Got to Do With It?’ Probably a Lo  \n",
       "2                             You Can Live Forever  \n",
       "3                        A Tourist’s Guide to Love  \n",
       "4                          Other People’s Children  \n",
       "..                                             ...  \n",
       "195                                 The Other Half  \n",
       "196                         The Ottoman Lieutenant  \n",
       "197                                   Love & Taxes  \n",
       "198  Everybody Loves Somebody,’ a Rom-Com With Bit  \n",
       "199              Kedi,’ Rekindling a ‘Love of Life  \n",
       "\n",
       "[200 rows x 17 columns]"
      ]
     },
     "execution_count": 9,
     "metadata": {},
     "output_type": "execute_result"
    }
   ],
   "source": [
    "# Extract the title from the \"headline.main\" column and\n",
    "# save it to a new column \"title\"\n",
    "# Title is between unicode characters \\u2018 and \\u2019. \n",
    "# End string should include \" Review\" to avoid cutting title early\n",
    "nyt_reviews_df['title'] = nyt_reviews_df['headline.main'].apply(lambda st: st[st.find(\"\\u2018\")+1:st.find(\"\\u2019 Review\")])\n",
    "nyt_reviews_df"
   ]
  },
  {
   "cell_type": "code",
   "execution_count": 10,
   "metadata": {},
   "outputs": [],
   "source": [
    "# Extract 'name' and 'value' from items in \"keywords\" column\n",
    "def extract_keywords(keyword_list):\n",
    "    extracted_keywords = \"\"\n",
    "    for item in keyword_list:\n",
    "        # Extract 'name' and 'value'\n",
    "        keyword = f\"{item['name']}: {item['value']};\" \n",
    "        # Append the keyword item to the extracted_keywords list\n",
    "        extracted_keywords += keyword\n",
    "    return extracted_keywords\n",
    "\n",
    "# Fix the \"keywords\" column by converting cells from a list to a string\n",
    "nyt_reviews_df['keywords'] = nyt_reviews_df['keywords'].apply(extract_keywords)\n"
   ]
  },
  {
   "cell_type": "code",
   "execution_count": 11,
   "metadata": {},
   "outputs": [
    {
     "data": {
      "text/html": [
       "<div>\n",
       "<style scoped>\n",
       "    .dataframe tbody tr th:only-of-type {\n",
       "        vertical-align: middle;\n",
       "    }\n",
       "\n",
       "    .dataframe tbody tr th {\n",
       "        vertical-align: top;\n",
       "    }\n",
       "\n",
       "    .dataframe thead th {\n",
       "        text-align: right;\n",
       "    }\n",
       "</style>\n",
       "<table border=\"1\" class=\"dataframe\">\n",
       "  <thead>\n",
       "    <tr style=\"text-align: right;\">\n",
       "      <th></th>\n",
       "      <th>web_url</th>\n",
       "      <th>snippet</th>\n",
       "      <th>source</th>\n",
       "      <th>keywords</th>\n",
       "      <th>pub_date</th>\n",
       "      <th>word_count</th>\n",
       "      <th>headline.main</th>\n",
       "      <th>headline.kicker</th>\n",
       "      <th>headline.content_kicker</th>\n",
       "      <th>headline.print_headline</th>\n",
       "      <th>headline.name</th>\n",
       "      <th>headline.seo</th>\n",
       "      <th>headline.sub</th>\n",
       "      <th>byline.original</th>\n",
       "      <th>byline.person</th>\n",
       "      <th>byline.organization</th>\n",
       "      <th>title</th>\n",
       "    </tr>\n",
       "  </thead>\n",
       "  <tbody>\n",
       "    <tr>\n",
       "      <th>0</th>\n",
       "      <td>https://www.nytimes.com/2023/05/25/movies/the-...</td>\n",
       "      <td>A gynecologist and her patient form a horrifyi...</td>\n",
       "      <td>The New York Times</td>\n",
       "      <td>subject: Movies;creative_works: The Attachment...</td>\n",
       "      <td>2023-05-25T11:00:03+0000</td>\n",
       "      <td>295</td>\n",
       "      <td>‘The Attachment Diaries’ Review: Love, Sick</td>\n",
       "      <td>None</td>\n",
       "      <td>None</td>\n",
       "      <td>The Attachment Diaries</td>\n",
       "      <td>None</td>\n",
       "      <td>None</td>\n",
       "      <td>None</td>\n",
       "      <td>By Jeannette Catsoulis</td>\n",
       "      <td>[{'firstname': 'Jeannette', 'middlename': None...</td>\n",
       "      <td>None</td>\n",
       "      <td>The Attachment Diaries</td>\n",
       "    </tr>\n",
       "    <tr>\n",
       "      <th>1</th>\n",
       "      <td>https://www.nytimes.com/2023/05/04/movies/what...</td>\n",
       "      <td>Two childhood friends navigate cultural differ...</td>\n",
       "      <td>The New York Times</td>\n",
       "      <td>subject: Movies;persons: Kapur, Shekhar;person...</td>\n",
       "      <td>2023-05-04T17:16:45+0000</td>\n",
       "      <td>287</td>\n",
       "      <td>Review: ‘What’s Love Got to Do With It?’ Proba...</td>\n",
       "      <td>None</td>\n",
       "      <td>None</td>\n",
       "      <td>What’s Love Got to Do With It?</td>\n",
       "      <td>None</td>\n",
       "      <td>None</td>\n",
       "      <td>None</td>\n",
       "      <td>By Jeannette Catsoulis</td>\n",
       "      <td>[{'firstname': 'Jeannette', 'middlename': None...</td>\n",
       "      <td>None</td>\n",
       "      <td>What’s Love Got to Do With It?’ Probably a Lo</td>\n",
       "    </tr>\n",
       "    <tr>\n",
       "      <th>2</th>\n",
       "      <td>https://www.nytimes.com/2023/05/04/movies/you-...</td>\n",
       "      <td>Religion comes between two girls falling in lo...</td>\n",
       "      <td>The New York Times</td>\n",
       "      <td>subject: Movies;creative_works: You Can Live F...</td>\n",
       "      <td>2023-05-04T11:00:08+0000</td>\n",
       "      <td>294</td>\n",
       "      <td>‘You Can Live Forever’ Review: Do You Love Me ...</td>\n",
       "      <td>None</td>\n",
       "      <td>None</td>\n",
       "      <td>You Can Live Forever</td>\n",
       "      <td>None</td>\n",
       "      <td>None</td>\n",
       "      <td>None</td>\n",
       "      <td>By Elisabeth Vincentelli</td>\n",
       "      <td>[{'firstname': 'Elisabeth', 'middlename': None...</td>\n",
       "      <td>None</td>\n",
       "      <td>You Can Live Forever</td>\n",
       "    </tr>\n",
       "    <tr>\n",
       "      <th>3</th>\n",
       "      <td>https://www.nytimes.com/2023/04/21/movies/a-to...</td>\n",
       "      <td>Rachael Leigh Cook stars in this bland rom-com...</td>\n",
       "      <td>The New York Times</td>\n",
       "      <td>subject: Movies;creative_works: A Tourist's Gu...</td>\n",
       "      <td>2023-04-21T07:03:25+0000</td>\n",
       "      <td>276</td>\n",
       "      <td>‘A Tourist’s Guide to Love’ Review: A Wearying...</td>\n",
       "      <td>None</td>\n",
       "      <td>None</td>\n",
       "      <td>A Tourist’s  Guide to Love</td>\n",
       "      <td>None</td>\n",
       "      <td>None</td>\n",
       "      <td>None</td>\n",
       "      <td>By Elisabeth Vincentelli</td>\n",
       "      <td>[{'firstname': 'Elisabeth', 'middlename': None...</td>\n",
       "      <td>None</td>\n",
       "      <td>A Tourist’s Guide to Love</td>\n",
       "    </tr>\n",
       "    <tr>\n",
       "      <th>4</th>\n",
       "      <td>https://www.nytimes.com/2023/04/20/movies/othe...</td>\n",
       "      <td>A radiant Virginie Efira stars as a Parisian t...</td>\n",
       "      <td>The New York Times</td>\n",
       "      <td>subject: Movies;persons: Zlotowski, Rebecca;cr...</td>\n",
       "      <td>2023-04-20T15:35:13+0000</td>\n",
       "      <td>801</td>\n",
       "      <td>‘Other People’s Children’ Review: True Romance</td>\n",
       "      <td>Critic’s pick</td>\n",
       "      <td>None</td>\n",
       "      <td>Intoxicating Love With a Sobering Turn</td>\n",
       "      <td>None</td>\n",
       "      <td>None</td>\n",
       "      <td>None</td>\n",
       "      <td>By Manohla Dargis</td>\n",
       "      <td>[{'firstname': 'Manohla', 'middlename': None, ...</td>\n",
       "      <td>None</td>\n",
       "      <td>Other People’s Children</td>\n",
       "    </tr>\n",
       "    <tr>\n",
       "      <th>...</th>\n",
       "      <td>...</td>\n",
       "      <td>...</td>\n",
       "      <td>...</td>\n",
       "      <td>...</td>\n",
       "      <td>...</td>\n",
       "      <td>...</td>\n",
       "      <td>...</td>\n",
       "      <td>...</td>\n",
       "      <td>...</td>\n",
       "      <td>...</td>\n",
       "      <td>...</td>\n",
       "      <td>...</td>\n",
       "      <td>...</td>\n",
       "      <td>...</td>\n",
       "      <td>...</td>\n",
       "      <td>...</td>\n",
       "      <td>...</td>\n",
       "    </tr>\n",
       "    <tr>\n",
       "      <th>195</th>\n",
       "      <td>https://www.nytimes.com/2017/03/09/movies/the-...</td>\n",
       "      <td>This moody romance stars Tatiana Maslany (“Orp...</td>\n",
       "      <td>The New York Times</td>\n",
       "      <td>subject: Movies;creative_works: The Other Half...</td>\n",
       "      <td>2017-03-09T21:54:58+0000</td>\n",
       "      <td>251</td>\n",
       "      <td>Review: A Combustible Pair Find Love in ‘The O...</td>\n",
       "      <td>None</td>\n",
       "      <td>None</td>\n",
       "      <td>Review: A Combustible Pair Find Love in ‘The O...</td>\n",
       "      <td>None</td>\n",
       "      <td>None</td>\n",
       "      <td>None</td>\n",
       "      <td>By Andy Webster</td>\n",
       "      <td>[{'firstname': 'Andy', 'middlename': None, 'la...</td>\n",
       "      <td>None</td>\n",
       "      <td>The Other Half</td>\n",
       "    </tr>\n",
       "    <tr>\n",
       "      <th>196</th>\n",
       "      <td>https://www.nytimes.com/2017/03/09/movies/revi...</td>\n",
       "      <td>A nurse travels to the Ottoman Empire on the e...</td>\n",
       "      <td>The New York Times</td>\n",
       "      <td>subject: Movies;creative_works: The Ottoman Li...</td>\n",
       "      <td>2017-03-09T21:53:12+0000</td>\n",
       "      <td>267</td>\n",
       "      <td>Review: Love as the World Wars, in ‘The Ottoma...</td>\n",
       "      <td>None</td>\n",
       "      <td>None</td>\n",
       "      <td>Review: Love as the World Wars, in ‘The Ottoma...</td>\n",
       "      <td>None</td>\n",
       "      <td>None</td>\n",
       "      <td>None</td>\n",
       "      <td>By Neil Genzlinger</td>\n",
       "      <td>[{'firstname': 'Neil', 'middlename': None, 'la...</td>\n",
       "      <td>None</td>\n",
       "      <td>The Ottoman Lieutenant</td>\n",
       "    </tr>\n",
       "    <tr>\n",
       "      <th>197</th>\n",
       "      <td>https://www.nytimes.com/2017/03/02/movies/love...</td>\n",
       "      <td>Josh Kornbluth runs afoul of the Internal Reve...</td>\n",
       "      <td>The New York Times</td>\n",
       "      <td>creative_works: Love &amp; Taxes (Movie);persons: ...</td>\n",
       "      <td>2017-03-02T21:44:18+0000</td>\n",
       "      <td>246</td>\n",
       "      <td>Review: It’s All Mirth and Taxes in ‘Love &amp; Ta...</td>\n",
       "      <td>None</td>\n",
       "      <td>None</td>\n",
       "      <td>It’s Inevitable, Mirth and Taxes</td>\n",
       "      <td>None</td>\n",
       "      <td>None</td>\n",
       "      <td>None</td>\n",
       "      <td>By Ken Jaworowski</td>\n",
       "      <td>[{'firstname': 'Ken', 'middlename': None, 'las...</td>\n",
       "      <td>None</td>\n",
       "      <td>Love &amp; Taxes</td>\n",
       "    </tr>\n",
       "    <tr>\n",
       "      <th>198</th>\n",
       "      <td>https://www.nytimes.com/2017/02/16/movies/ever...</td>\n",
       "      <td>A messed-up heroine is asked to choose between...</td>\n",
       "      <td>The New York Times</td>\n",
       "      <td>subject: Movies;creative_works: Everybody Love...</td>\n",
       "      <td>2017-02-16T21:45:50+0000</td>\n",
       "      <td>256</td>\n",
       "      <td>Review: ‘Everybody Loves Somebody,’ a Rom-Com ...</td>\n",
       "      <td>None</td>\n",
       "      <td>None</td>\n",
       "      <td>Everybody Loves Somebody</td>\n",
       "      <td>None</td>\n",
       "      <td>None</td>\n",
       "      <td>None</td>\n",
       "      <td>By Jeannette Catsoulis</td>\n",
       "      <td>[{'firstname': 'Jeannette', 'middlename': None...</td>\n",
       "      <td>None</td>\n",
       "      <td>Everybody Loves Somebody,’ a Rom-Com With Bit</td>\n",
       "    </tr>\n",
       "    <tr>\n",
       "      <th>199</th>\n",
       "      <td>https://www.nytimes.com/2017/02/09/movies/kedi...</td>\n",
       "      <td>This documentary profiles distinctive street c...</td>\n",
       "      <td>The New York Times</td>\n",
       "      <td>creative_works: Kedi (Movie);subject: Document...</td>\n",
       "      <td>2017-02-09T16:21:39+0000</td>\n",
       "      <td>274</td>\n",
       "      <td>Review: Cute Cats of ‘Kedi,’ Rekindling a ‘Lov...</td>\n",
       "      <td>None</td>\n",
       "      <td>None</td>\n",
       "      <td>Kedi</td>\n",
       "      <td>None</td>\n",
       "      <td>None</td>\n",
       "      <td>None</td>\n",
       "      <td>By Glenn Kenny</td>\n",
       "      <td>[{'firstname': 'Glenn', 'middlename': None, 'l...</td>\n",
       "      <td>None</td>\n",
       "      <td>Kedi,’ Rekindling a ‘Love of Life</td>\n",
       "    </tr>\n",
       "  </tbody>\n",
       "</table>\n",
       "<p>200 rows × 17 columns</p>\n",
       "</div>"
      ],
      "text/plain": [
       "                                               web_url  \\\n",
       "0    https://www.nytimes.com/2023/05/25/movies/the-...   \n",
       "1    https://www.nytimes.com/2023/05/04/movies/what...   \n",
       "2    https://www.nytimes.com/2023/05/04/movies/you-...   \n",
       "3    https://www.nytimes.com/2023/04/21/movies/a-to...   \n",
       "4    https://www.nytimes.com/2023/04/20/movies/othe...   \n",
       "..                                                 ...   \n",
       "195  https://www.nytimes.com/2017/03/09/movies/the-...   \n",
       "196  https://www.nytimes.com/2017/03/09/movies/revi...   \n",
       "197  https://www.nytimes.com/2017/03/02/movies/love...   \n",
       "198  https://www.nytimes.com/2017/02/16/movies/ever...   \n",
       "199  https://www.nytimes.com/2017/02/09/movies/kedi...   \n",
       "\n",
       "                                               snippet              source  \\\n",
       "0    A gynecologist and her patient form a horrifyi...  The New York Times   \n",
       "1    Two childhood friends navigate cultural differ...  The New York Times   \n",
       "2    Religion comes between two girls falling in lo...  The New York Times   \n",
       "3    Rachael Leigh Cook stars in this bland rom-com...  The New York Times   \n",
       "4    A radiant Virginie Efira stars as a Parisian t...  The New York Times   \n",
       "..                                                 ...                 ...   \n",
       "195  This moody romance stars Tatiana Maslany (“Orp...  The New York Times   \n",
       "196  A nurse travels to the Ottoman Empire on the e...  The New York Times   \n",
       "197  Josh Kornbluth runs afoul of the Internal Reve...  The New York Times   \n",
       "198  A messed-up heroine is asked to choose between...  The New York Times   \n",
       "199  This documentary profiles distinctive street c...  The New York Times   \n",
       "\n",
       "                                              keywords  \\\n",
       "0    subject: Movies;creative_works: The Attachment...   \n",
       "1    subject: Movies;persons: Kapur, Shekhar;person...   \n",
       "2    subject: Movies;creative_works: You Can Live F...   \n",
       "3    subject: Movies;creative_works: A Tourist's Gu...   \n",
       "4    subject: Movies;persons: Zlotowski, Rebecca;cr...   \n",
       "..                                                 ...   \n",
       "195  subject: Movies;creative_works: The Other Half...   \n",
       "196  subject: Movies;creative_works: The Ottoman Li...   \n",
       "197  creative_works: Love & Taxes (Movie);persons: ...   \n",
       "198  subject: Movies;creative_works: Everybody Love...   \n",
       "199  creative_works: Kedi (Movie);subject: Document...   \n",
       "\n",
       "                     pub_date  word_count  \\\n",
       "0    2023-05-25T11:00:03+0000         295   \n",
       "1    2023-05-04T17:16:45+0000         287   \n",
       "2    2023-05-04T11:00:08+0000         294   \n",
       "3    2023-04-21T07:03:25+0000         276   \n",
       "4    2023-04-20T15:35:13+0000         801   \n",
       "..                        ...         ...   \n",
       "195  2017-03-09T21:54:58+0000         251   \n",
       "196  2017-03-09T21:53:12+0000         267   \n",
       "197  2017-03-02T21:44:18+0000         246   \n",
       "198  2017-02-16T21:45:50+0000         256   \n",
       "199  2017-02-09T16:21:39+0000         274   \n",
       "\n",
       "                                         headline.main headline.kicker  \\\n",
       "0          ‘The Attachment Diaries’ Review: Love, Sick            None   \n",
       "1    Review: ‘What’s Love Got to Do With It?’ Proba...            None   \n",
       "2    ‘You Can Live Forever’ Review: Do You Love Me ...            None   \n",
       "3    ‘A Tourist’s Guide to Love’ Review: A Wearying...            None   \n",
       "4       ‘Other People’s Children’ Review: True Romance   Critic’s pick   \n",
       "..                                                 ...             ...   \n",
       "195  Review: A Combustible Pair Find Love in ‘The O...            None   \n",
       "196  Review: Love as the World Wars, in ‘The Ottoma...            None   \n",
       "197  Review: It’s All Mirth and Taxes in ‘Love & Ta...            None   \n",
       "198  Review: ‘Everybody Loves Somebody,’ a Rom-Com ...            None   \n",
       "199  Review: Cute Cats of ‘Kedi,’ Rekindling a ‘Lov...            None   \n",
       "\n",
       "    headline.content_kicker  \\\n",
       "0                      None   \n",
       "1                      None   \n",
       "2                      None   \n",
       "3                      None   \n",
       "4                      None   \n",
       "..                      ...   \n",
       "195                    None   \n",
       "196                    None   \n",
       "197                    None   \n",
       "198                    None   \n",
       "199                    None   \n",
       "\n",
       "                               headline.print_headline headline.name  \\\n",
       "0                               The Attachment Diaries          None   \n",
       "1                       What’s Love Got to Do With It?          None   \n",
       "2                                 You Can Live Forever          None   \n",
       "3                           A Tourist’s  Guide to Love          None   \n",
       "4               Intoxicating Love With a Sobering Turn          None   \n",
       "..                                                 ...           ...   \n",
       "195  Review: A Combustible Pair Find Love in ‘The O...          None   \n",
       "196  Review: Love as the World Wars, in ‘The Ottoma...          None   \n",
       "197                   It’s Inevitable, Mirth and Taxes          None   \n",
       "198                           Everybody Loves Somebody          None   \n",
       "199                                               Kedi          None   \n",
       "\n",
       "    headline.seo headline.sub           byline.original  \\\n",
       "0           None         None    By Jeannette Catsoulis   \n",
       "1           None         None    By Jeannette Catsoulis   \n",
       "2           None         None  By Elisabeth Vincentelli   \n",
       "3           None         None  By Elisabeth Vincentelli   \n",
       "4           None         None         By Manohla Dargis   \n",
       "..           ...          ...                       ...   \n",
       "195         None         None           By Andy Webster   \n",
       "196         None         None        By Neil Genzlinger   \n",
       "197         None         None         By Ken Jaworowski   \n",
       "198         None         None    By Jeannette Catsoulis   \n",
       "199         None         None            By Glenn Kenny   \n",
       "\n",
       "                                         byline.person byline.organization  \\\n",
       "0    [{'firstname': 'Jeannette', 'middlename': None...                None   \n",
       "1    [{'firstname': 'Jeannette', 'middlename': None...                None   \n",
       "2    [{'firstname': 'Elisabeth', 'middlename': None...                None   \n",
       "3    [{'firstname': 'Elisabeth', 'middlename': None...                None   \n",
       "4    [{'firstname': 'Manohla', 'middlename': None, ...                None   \n",
       "..                                                 ...                 ...   \n",
       "195  [{'firstname': 'Andy', 'middlename': None, 'la...                None   \n",
       "196  [{'firstname': 'Neil', 'middlename': None, 'la...                None   \n",
       "197  [{'firstname': 'Ken', 'middlename': None, 'las...                None   \n",
       "198  [{'firstname': 'Jeannette', 'middlename': None...                None   \n",
       "199  [{'firstname': 'Glenn', 'middlename': None, 'l...                None   \n",
       "\n",
       "                                             title  \n",
       "0                           The Attachment Diaries  \n",
       "1    What’s Love Got to Do With It?’ Probably a Lo  \n",
       "2                             You Can Live Forever  \n",
       "3                        A Tourist’s Guide to Love  \n",
       "4                          Other People’s Children  \n",
       "..                                             ...  \n",
       "195                                 The Other Half  \n",
       "196                         The Ottoman Lieutenant  \n",
       "197                                   Love & Taxes  \n",
       "198  Everybody Loves Somebody,’ a Rom-Com With Bit  \n",
       "199              Kedi,’ Rekindling a ‘Love of Life  \n",
       "\n",
       "[200 rows x 17 columns]"
      ]
     },
     "execution_count": 11,
     "metadata": {},
     "output_type": "execute_result"
    }
   ],
   "source": [
    "nyt_reviews_df"
   ]
  },
  {
   "cell_type": "code",
   "execution_count": 12,
   "metadata": {
    "scrolled": true
   },
   "outputs": [
    {
     "data": {
      "text/plain": [
       "['The Attachment Diaries',\n",
       " 'What’s Love Got to Do With It?’ Probably a Lo',\n",
       " 'You Can Live Forever',\n",
       " 'A Tourist’s Guide to Love',\n",
       " 'Other People’s Children',\n",
       " 'One True Loves',\n",
       " 'The Lost Weekend: A Love Story',\n",
       " 'A Thousand and One',\n",
       " 'Your Place or Mine',\n",
       " 'Love in the Time of Fentanyl',\n",
       " 'Pamela, a Love Story',\n",
       " 'In From the Side',\n",
       " 'After Love',\n",
       " 'Alcarràs',\n",
       " 'Nelly & Nadine',\n",
       " 'Lady Chatterley’s Lover',\n",
       " 'The Sound of Christmas',\n",
       " 'The Inspection',\n",
       " 'Bones and All',\n",
       " 'My Policeman',\n",
       " 'About Fate',\n",
       " 'Waiting for Bojangles',\n",
       " 'I Love My Dad',\n",
       " 'A Love Song',\n",
       " 'Alone Together',\n",
       " 'Art of Love',\n",
       " 'The Wheel',\n",
       " 'Thor: Love and Thunder',\n",
       " 'Both Sides of the Blade',\n",
       " 'Fire of Love',\n",
       " 'Love & Gelato',\n",
       " 'Stay Prayed Up',\n",
       " 'Benediction',\n",
       " 'Dinner in America',\n",
       " 'In a New York Minute',\n",
       " 'Anaïs in Love',\n",
       " 'I Love America',\n",
       " 'See You Then',\n",
       " 'La Mami',\n",
       " 'Love After Love',\n",
       " 'Deep Water',\n",
       " 'Lucy and Desi',\n",
       " 'Cyrano',\n",
       " 'The In Between',\n",
       " 'Book of Love',\n",
       " 'Lingui, the Sacred Bonds',\n",
       " 'The Pink Cloud',\n",
       " 'A Journal for Jordan',\n",
       " 'West Side Story',\n",
       " 'Aulcie',\n",
       " 'Love Is Love Is Love',\n",
       " 'Love Hard',\n",
       " 'Bergman Island',\n",
       " 'Hard Luck Love Song',\n",
       " 'South of Heaven',\n",
       " 'Wife of a Spy',\n",
       " 'Happier Than Ever',\n",
       " 'Together',\n",
       " 'Annette',\n",
       " 'Resort to Love',\n",
       " 'Woodstock 99: Peace, Love and Rage',\n",
       " 'Casanova, Last Love',\n",
       " 'Running Against the Wind',\n",
       " 'Asia',\n",
       " 'Undine',\n",
       " 'This Town',\n",
       " 'Tu Me Manques',\n",
       " 'Monday',\n",
       " 'Ride or Die',\n",
       " 'Future People',\n",
       " 'Luz',\n",
       " 'Happily',\n",
       " 'This Is the Life',\n",
       " 'To All the Boys: Always and Forever',\n",
       " 'Young Hearts',\n",
       " 'Little Fish',\n",
       " 'Two of Us',\n",
       " 'Atlantis',\n",
       " 'Preparations to Be Together',\n",
       " 'Your Name Engraved Herein',\n",
       " 'Sylvie’s Love',\n",
       " 'Ariana Grande: Excuse Me, I Love You',\n",
       " 'Museum Town',\n",
       " 'Wild Mountain Thyme',\n",
       " 'My Psychedelic Love Story',\n",
       " '69: The Saga of Danny Hernandez',\n",
       " 'Ammonite',\n",
       " 'Love and Monsters',\n",
       " 'Dick Johnson Is Dead',\n",
       " 'Love, Guaranteed',\n",
       " 'Feel the Beat',\n",
       " 'Babyteeth',\n",
       " 'Spelling the Dream',\n",
       " 'A Secret Love',\n",
       " 'Love Wedding Repeat',\n",
       " 'Almost Love',\n",
       " 'Hope Gap',\n",
       " 'All the Bright Places',\n",
       " 'The Photograph',\n",
       " 'You Go to My Head',\n",
       " 'Ordinary Love',\n",
       " 'To All the Boys: P.S. I Still Love You',\n",
       " 'The Woman Who Loves Giraffes',\n",
       " 'Queen & Slim',\n",
       " 'Marriage Story',\n",
       " 'Cyrano, My Love',\n",
       " 'Pretenders',\n",
       " 'First Love',\n",
       " 'Loro',\n",
       " 'Falling Inn Love',\n",
       " 'Hot Air',\n",
       " 'Love, Antosha',\n",
       " 'Leto',\n",
       " 'The Tomorrow Man',\n",
       " 'Asako I & II',\n",
       " 'The Sun Is Also a Star',\n",
       " 'Shéhérazade',\n",
       " 'Long Shot',\n",
       " 'Clara',\n",
       " 'Kalank',\n",
       " 'Rafiki',\n",
       " 'Diane',\n",
       " 'Five Feet Apart',\n",
       " 'Ash Is Purest White',\n",
       " 'Gloria Bell',\n",
       " 'Black Mother',\n",
       " 'The Hole in the Ground',\n",
       " 'How to Train Your Dragon: The Hidden World',\n",
       " 'A Tuba to Cuba',\n",
       " 'Fighting With My Family',\n",
       " 'Sorry Angel',\n",
       " 'Berlin, I Love You',\n",
       " 'Untogether',\n",
       " 'Cold War',\n",
       " 'If Beale Street Could Talk',\n",
       " 'Asher',\n",
       " 'The Party’s Just Beginning',\n",
       " 'The Great Pretender',\n",
       " 'Sicilian Ghost Story',\n",
       " 'The New Romantic',\n",
       " 'Pimp',\n",
       " 'In a Relationship',\n",
       " 'They’ll Love Me When I’m Dead’ Documents Orson Welles’s Last Fil',\n",
       " 'Burning,’ Love Ignites a Divided Worl',\n",
       " 'After Everything,’ a Young Love Blooms in Crisi',\n",
       " 'Quincy’ Captures a Lifelong Love Affair With Musi',\n",
       " 'Love, Gilda,’ a Portrait of a Brief and Brilliant Caree',\n",
       " 'Tea With the Dames,’ Four Legends Dish on Acting and Lov',\n",
       " 'Bel Canto,’ Music Is the Food of Love and Rebellio',\n",
       " 'The Citizen,’ an Immigrant Picks a Bad Time to Fall in Lov',\n",
       " 'Love, Cecil,’ an Aesthete Ahead of His Tim',\n",
       " 'How to Talk to Girls at Parties',\n",
       " 'Rogers Park,’ Life and Love in a Chicago Neighborhoo',\n",
       " 'Love & Bananas,’ Uncovering the Plight of the Asian Elephan',\n",
       " 'Godard Mon Amour',\n",
       " 'Submergence,’ a Love Story Sunk by Geopolitic',\n",
       " 'Love After Love,’ an Unflinching Look at Extended Grie',\n",
       " 'Outside In',\n",
       " 'Love, Simon,’ a Glossy Teen Romance, the Hero Has a Secre',\n",
       " 'Keep the Change,’ Two People With Autism Find Lov',\n",
       " 'The Party',\n",
       " 'The Housemaid,’ Twisted Love and Angry Ghosts in Vietna',\n",
       " 'Forever My Girl,’ a Romance Resumes After a Long Brea',\n",
       " 'Kangaroo: A Love-Hate Story’ Exposes a Wildlife Massacr',\n",
       " 'Lover for a Day',\n",
       " 'Youth,’ the People’s Dance Troupe, in Love and Wa',\n",
       " 'Killing for Love’ Revisits a Virginia Murder Cas',\n",
       " 'The Shape of Water’ Is Altogether Wonderfu',\n",
       " 'Love Beats Rhymes,’ a Hip-Hop Artist Transformed by Poetr',\n",
       " 'Cuba and the Cameraman’ Lavishes Love on a Country … and Castr',\n",
       " 'On the Beach at Night Alone’ Zooms in on a Love Affai',\n",
       " 'Thelma,’ a Woman in Love Can Burn Down the Worl',\n",
       " 'Hello Again,’ a Movie Musical Ode to Love and Lust Over Decade',\n",
       " 'It Happened in L.A.,’ All That Questing After Lov',\n",
       " 'God’s Own Country',\n",
       " 'The Mountain Between Us',\n",
       " 'Dina,’ a Differently Abled Love Stor',\n",
       " 'In Search of Fellini',\n",
       " 'Woodpeckers,’ a Tale of Love and Agonizing Penal Confinemen',\n",
       " 'I Do ... Until I Don’t,’ Love and Loathing in Florid',\n",
       " 'Tales of an Immoral Couple’: Love Means Having to Grow U',\n",
       " 'After Love’ and Regretting Every Momen',\n",
       " 'The Last Face',\n",
       " 'Women Who Kill,’ and May Be in Love With On',\n",
       " 'False Confessions,’ the Play’s Not Quite the Thin',\n",
       " 'Review: Those Movies, Himself — Bertrand Tavernier’s Tour of French Cinem',\n",
       " 'The Big Sick,’ Comedy Is Hard, Love Harde',\n",
       " 'Lost in Paris',\n",
       " 'Vincent N Roxxy,’ Love Is in the Air, N So Is Fea',\n",
       " 'Everything, Everything’ Pits Love Against Diseas',\n",
       " 'Hounds of Love’ Is Tense and Deadly Down Unde',\n",
       " 'Harold and Lillian’ Introduces a Hollywood Power Coupl',\n",
       " 'The Happiest Day in the Life of Olli Maki,’ Love and Life on the Rope',\n",
       " 'The Promise’ Finds a Love Triangle in Constantinopl',\n",
       " 'Frantz,’ a Mysterious Frenchman and the Wounds of Wa',\n",
       " 'The Other Half',\n",
       " 'The Ottoman Lieutenant',\n",
       " 'Love & Taxes',\n",
       " 'Everybody Loves Somebody,’ a Rom-Com With Bit',\n",
       " 'Kedi,’ Rekindling a ‘Love of Life']"
      ]
     },
     "execution_count": 12,
     "metadata": {},
     "output_type": "execute_result"
    }
   ],
   "source": [
    "# Create a list from the \"title\" column using to_list()\n",
    "# These titles will be used in the query for The Movie Database\n",
    "titles_list = nyt_reviews_df['title'].to_list()\n",
    "titles_list"
   ]
  },
  {
   "cell_type": "markdown",
   "metadata": {},
   "source": [
    "### Access The Movie Database API"
   ]
  },
  {
   "cell_type": "code",
   "execution_count": 14,
   "metadata": {},
   "outputs": [],
   "source": [
    "# Prepare The Movie Database query\n",
    "search_url = \"https://api.themoviedb.org/3/search/movie?query=\"\n",
    "tmdb_key_string = \"&api_key=\" + tmdb_api_key"
   ]
  },
  {
   "cell_type": "code",
   "execution_count": 15,
   "metadata": {},
   "outputs": [
    {
     "name": "stderr",
     "output_type": "stream",
     "text": [
      "/opt/anaconda3/lib/python3.11/site-packages/urllib3/connectionpool.py:1100: InsecureRequestWarning: Unverified HTTPS request is being made to host 'api.themoviedb.org'. Adding certificate verification is strongly advised. See: https://urllib3.readthedocs.io/en/latest/advanced-usage.html#tls-warnings\n",
      "  warnings.warn(\n"
     ]
    },
    {
     "name": "stdout",
     "output_type": "stream",
     "text": [
      "Movie ID for 'The Attachment Diaries': 743040\n"
     ]
    },
    {
     "name": "stderr",
     "output_type": "stream",
     "text": [
      "/opt/anaconda3/lib/python3.11/site-packages/urllib3/connectionpool.py:1100: InsecureRequestWarning: Unverified HTTPS request is being made to host 'api.themoviedb.org'. Adding certificate verification is strongly advised. See: https://urllib3.readthedocs.io/en/latest/advanced-usage.html#tls-warnings\n",
      "  warnings.warn(\n"
     ]
    },
    {
     "name": "stdout",
     "output_type": "stream",
     "text": [
      "Details for 'The Attachment Diaries' found and added to the list.\n"
     ]
    },
    {
     "name": "stderr",
     "output_type": "stream",
     "text": [
      "/opt/anaconda3/lib/python3.11/site-packages/urllib3/connectionpool.py:1100: InsecureRequestWarning: Unverified HTTPS request is being made to host 'api.themoviedb.org'. Adding certificate verification is strongly advised. See: https://urllib3.readthedocs.io/en/latest/advanced-usage.html#tls-warnings\n",
      "  warnings.warn(\n"
     ]
    },
    {
     "name": "stdout",
     "output_type": "stream",
     "text": [
      "No results found for 'What’s Love Got to Do With It?’ Probably a Lo'\n"
     ]
    },
    {
     "name": "stderr",
     "output_type": "stream",
     "text": [
      "/opt/anaconda3/lib/python3.11/site-packages/urllib3/connectionpool.py:1100: InsecureRequestWarning: Unverified HTTPS request is being made to host 'api.themoviedb.org'. Adding certificate verification is strongly advised. See: https://urllib3.readthedocs.io/en/latest/advanced-usage.html#tls-warnings\n",
      "  warnings.warn(\n"
     ]
    },
    {
     "name": "stdout",
     "output_type": "stream",
     "text": [
      "Movie ID for 'You Can Live Forever': 887580\n"
     ]
    },
    {
     "name": "stderr",
     "output_type": "stream",
     "text": [
      "/opt/anaconda3/lib/python3.11/site-packages/urllib3/connectionpool.py:1100: InsecureRequestWarning: Unverified HTTPS request is being made to host 'api.themoviedb.org'. Adding certificate verification is strongly advised. See: https://urllib3.readthedocs.io/en/latest/advanced-usage.html#tls-warnings\n",
      "  warnings.warn(\n"
     ]
    },
    {
     "name": "stdout",
     "output_type": "stream",
     "text": [
      "Details for 'You Can Live Forever' found and added to the list.\n"
     ]
    },
    {
     "name": "stderr",
     "output_type": "stream",
     "text": [
      "/opt/anaconda3/lib/python3.11/site-packages/urllib3/connectionpool.py:1100: InsecureRequestWarning: Unverified HTTPS request is being made to host 'api.themoviedb.org'. Adding certificate verification is strongly advised. See: https://urllib3.readthedocs.io/en/latest/advanced-usage.html#tls-warnings\n",
      "  warnings.warn(\n"
     ]
    },
    {
     "name": "stdout",
     "output_type": "stream",
     "text": [
      "Movie ID for 'A Tourist’s Guide to Love': 813726\n"
     ]
    },
    {
     "name": "stderr",
     "output_type": "stream",
     "text": [
      "/opt/anaconda3/lib/python3.11/site-packages/urllib3/connectionpool.py:1100: InsecureRequestWarning: Unverified HTTPS request is being made to host 'api.themoviedb.org'. Adding certificate verification is strongly advised. See: https://urllib3.readthedocs.io/en/latest/advanced-usage.html#tls-warnings\n",
      "  warnings.warn(\n"
     ]
    },
    {
     "name": "stdout",
     "output_type": "stream",
     "text": [
      "Details for 'A Tourist’s Guide to Love' found and added to the list.\n"
     ]
    },
    {
     "name": "stderr",
     "output_type": "stream",
     "text": [
      "/opt/anaconda3/lib/python3.11/site-packages/urllib3/connectionpool.py:1100: InsecureRequestWarning: Unverified HTTPS request is being made to host 'api.themoviedb.org'. Adding certificate verification is strongly advised. See: https://urllib3.readthedocs.io/en/latest/advanced-usage.html#tls-warnings\n",
      "  warnings.warn(\n"
     ]
    },
    {
     "name": "stdout",
     "output_type": "stream",
     "text": [
      "Movie ID for 'Other People’s Children': 803694\n"
     ]
    },
    {
     "name": "stderr",
     "output_type": "stream",
     "text": [
      "/opt/anaconda3/lib/python3.11/site-packages/urllib3/connectionpool.py:1100: InsecureRequestWarning: Unverified HTTPS request is being made to host 'api.themoviedb.org'. Adding certificate verification is strongly advised. See: https://urllib3.readthedocs.io/en/latest/advanced-usage.html#tls-warnings\n",
      "  warnings.warn(\n"
     ]
    },
    {
     "name": "stdout",
     "output_type": "stream",
     "text": [
      "Details for 'Other People’s Children' found and added to the list.\n"
     ]
    },
    {
     "name": "stderr",
     "output_type": "stream",
     "text": [
      "/opt/anaconda3/lib/python3.11/site-packages/urllib3/connectionpool.py:1100: InsecureRequestWarning: Unverified HTTPS request is being made to host 'api.themoviedb.org'. Adding certificate verification is strongly advised. See: https://urllib3.readthedocs.io/en/latest/advanced-usage.html#tls-warnings\n",
      "  warnings.warn(\n"
     ]
    },
    {
     "name": "stdout",
     "output_type": "stream",
     "text": [
      "Movie ID for 'One True Loves': 846961\n"
     ]
    },
    {
     "name": "stderr",
     "output_type": "stream",
     "text": [
      "/opt/anaconda3/lib/python3.11/site-packages/urllib3/connectionpool.py:1100: InsecureRequestWarning: Unverified HTTPS request is being made to host 'api.themoviedb.org'. Adding certificate verification is strongly advised. See: https://urllib3.readthedocs.io/en/latest/advanced-usage.html#tls-warnings\n",
      "  warnings.warn(\n"
     ]
    },
    {
     "name": "stdout",
     "output_type": "stream",
     "text": [
      "Details for 'One True Loves' found and added to the list.\n"
     ]
    },
    {
     "name": "stderr",
     "output_type": "stream",
     "text": [
      "/opt/anaconda3/lib/python3.11/site-packages/urllib3/connectionpool.py:1100: InsecureRequestWarning: Unverified HTTPS request is being made to host 'api.themoviedb.org'. Adding certificate verification is strongly advised. See: https://urllib3.readthedocs.io/en/latest/advanced-usage.html#tls-warnings\n",
      "  warnings.warn(\n"
     ]
    },
    {
     "name": "stdout",
     "output_type": "stream",
     "text": [
      "Movie ID for 'The Lost Weekend: A Love Story': 965042\n"
     ]
    },
    {
     "name": "stderr",
     "output_type": "stream",
     "text": [
      "/opt/anaconda3/lib/python3.11/site-packages/urllib3/connectionpool.py:1100: InsecureRequestWarning: Unverified HTTPS request is being made to host 'api.themoviedb.org'. Adding certificate verification is strongly advised. See: https://urllib3.readthedocs.io/en/latest/advanced-usage.html#tls-warnings\n",
      "  warnings.warn(\n"
     ]
    },
    {
     "name": "stdout",
     "output_type": "stream",
     "text": [
      "Details for 'The Lost Weekend: A Love Story' found and added to the list.\n"
     ]
    },
    {
     "name": "stderr",
     "output_type": "stream",
     "text": [
      "/opt/anaconda3/lib/python3.11/site-packages/urllib3/connectionpool.py:1100: InsecureRequestWarning: Unverified HTTPS request is being made to host 'api.themoviedb.org'. Adding certificate verification is strongly advised. See: https://urllib3.readthedocs.io/en/latest/advanced-usage.html#tls-warnings\n",
      "  warnings.warn(\n"
     ]
    },
    {
     "name": "stdout",
     "output_type": "stream",
     "text": [
      "Movie ID for 'A Thousand and One': 855263\n"
     ]
    },
    {
     "name": "stderr",
     "output_type": "stream",
     "text": [
      "/opt/anaconda3/lib/python3.11/site-packages/urllib3/connectionpool.py:1100: InsecureRequestWarning: Unverified HTTPS request is being made to host 'api.themoviedb.org'. Adding certificate verification is strongly advised. See: https://urllib3.readthedocs.io/en/latest/advanced-usage.html#tls-warnings\n",
      "  warnings.warn(\n"
     ]
    },
    {
     "name": "stdout",
     "output_type": "stream",
     "text": [
      "Details for 'A Thousand and One' found and added to the list.\n"
     ]
    },
    {
     "name": "stderr",
     "output_type": "stream",
     "text": [
      "/opt/anaconda3/lib/python3.11/site-packages/urllib3/connectionpool.py:1100: InsecureRequestWarning: Unverified HTTPS request is being made to host 'api.themoviedb.org'. Adding certificate verification is strongly advised. See: https://urllib3.readthedocs.io/en/latest/advanced-usage.html#tls-warnings\n",
      "  warnings.warn(\n"
     ]
    },
    {
     "name": "stdout",
     "output_type": "stream",
     "text": [
      "Movie ID for 'Your Place or Mine': 703451\n"
     ]
    },
    {
     "name": "stderr",
     "output_type": "stream",
     "text": [
      "/opt/anaconda3/lib/python3.11/site-packages/urllib3/connectionpool.py:1100: InsecureRequestWarning: Unverified HTTPS request is being made to host 'api.themoviedb.org'. Adding certificate verification is strongly advised. See: https://urllib3.readthedocs.io/en/latest/advanced-usage.html#tls-warnings\n",
      "  warnings.warn(\n"
     ]
    },
    {
     "name": "stdout",
     "output_type": "stream",
     "text": [
      "Details for 'Your Place or Mine' found and added to the list.\n"
     ]
    },
    {
     "name": "stderr",
     "output_type": "stream",
     "text": [
      "/opt/anaconda3/lib/python3.11/site-packages/urllib3/connectionpool.py:1100: InsecureRequestWarning: Unverified HTTPS request is being made to host 'api.themoviedb.org'. Adding certificate verification is strongly advised. See: https://urllib3.readthedocs.io/en/latest/advanced-usage.html#tls-warnings\n",
      "  warnings.warn(\n"
     ]
    },
    {
     "name": "stdout",
     "output_type": "stream",
     "text": [
      "Movie ID for 'Love in the Time of Fentanyl': 976653\n"
     ]
    },
    {
     "name": "stderr",
     "output_type": "stream",
     "text": [
      "/opt/anaconda3/lib/python3.11/site-packages/urllib3/connectionpool.py:1100: InsecureRequestWarning: Unverified HTTPS request is being made to host 'api.themoviedb.org'. Adding certificate verification is strongly advised. See: https://urllib3.readthedocs.io/en/latest/advanced-usage.html#tls-warnings\n",
      "  warnings.warn(\n"
     ]
    },
    {
     "name": "stdout",
     "output_type": "stream",
     "text": [
      "Details for 'Love in the Time of Fentanyl' found and added to the list.\n"
     ]
    },
    {
     "name": "stderr",
     "output_type": "stream",
     "text": [
      "/opt/anaconda3/lib/python3.11/site-packages/urllib3/connectionpool.py:1100: InsecureRequestWarning: Unverified HTTPS request is being made to host 'api.themoviedb.org'. Adding certificate verification is strongly advised. See: https://urllib3.readthedocs.io/en/latest/advanced-usage.html#tls-warnings\n",
      "  warnings.warn(\n"
     ]
    },
    {
     "name": "stdout",
     "output_type": "stream",
     "text": [
      "Movie ID for 'Pamela, a Love Story': 1061671\n"
     ]
    },
    {
     "name": "stderr",
     "output_type": "stream",
     "text": [
      "/opt/anaconda3/lib/python3.11/site-packages/urllib3/connectionpool.py:1100: InsecureRequestWarning: Unverified HTTPS request is being made to host 'api.themoviedb.org'. Adding certificate verification is strongly advised. See: https://urllib3.readthedocs.io/en/latest/advanced-usage.html#tls-warnings\n",
      "  warnings.warn(\n"
     ]
    },
    {
     "name": "stdout",
     "output_type": "stream",
     "text": [
      "Details for 'Pamela, a Love Story' found and added to the list.\n"
     ]
    },
    {
     "name": "stderr",
     "output_type": "stream",
     "text": [
      "/opt/anaconda3/lib/python3.11/site-packages/urllib3/connectionpool.py:1100: InsecureRequestWarning: Unverified HTTPS request is being made to host 'api.themoviedb.org'. Adding certificate verification is strongly advised. See: https://urllib3.readthedocs.io/en/latest/advanced-usage.html#tls-warnings\n",
      "  warnings.warn(\n"
     ]
    },
    {
     "name": "stdout",
     "output_type": "stream",
     "text": [
      "Movie ID for 'In From the Side': 622082\n"
     ]
    },
    {
     "name": "stderr",
     "output_type": "stream",
     "text": [
      "/opt/anaconda3/lib/python3.11/site-packages/urllib3/connectionpool.py:1100: InsecureRequestWarning: Unverified HTTPS request is being made to host 'api.themoviedb.org'. Adding certificate verification is strongly advised. See: https://urllib3.readthedocs.io/en/latest/advanced-usage.html#tls-warnings\n",
      "  warnings.warn(\n"
     ]
    },
    {
     "name": "stdout",
     "output_type": "stream",
     "text": [
      "Details for 'In From the Side' found and added to the list.\n"
     ]
    },
    {
     "name": "stderr",
     "output_type": "stream",
     "text": [
      "/opt/anaconda3/lib/python3.11/site-packages/urllib3/connectionpool.py:1100: InsecureRequestWarning: Unverified HTTPS request is being made to host 'api.themoviedb.org'. Adding certificate verification is strongly advised. See: https://urllib3.readthedocs.io/en/latest/advanced-usage.html#tls-warnings\n",
      "  warnings.warn(\n"
     ]
    },
    {
     "name": "stdout",
     "output_type": "stream",
     "text": [
      "Movie ID for 'After Love': 714011\n"
     ]
    },
    {
     "name": "stderr",
     "output_type": "stream",
     "text": [
      "/opt/anaconda3/lib/python3.11/site-packages/urllib3/connectionpool.py:1100: InsecureRequestWarning: Unverified HTTPS request is being made to host 'api.themoviedb.org'. Adding certificate verification is strongly advised. See: https://urllib3.readthedocs.io/en/latest/advanced-usage.html#tls-warnings\n",
      "  warnings.warn(\n"
     ]
    },
    {
     "name": "stdout",
     "output_type": "stream",
     "text": [
      "Details for 'After Love' found and added to the list.\n"
     ]
    },
    {
     "name": "stderr",
     "output_type": "stream",
     "text": [
      "/opt/anaconda3/lib/python3.11/site-packages/urllib3/connectionpool.py:1100: InsecureRequestWarning: Unverified HTTPS request is being made to host 'api.themoviedb.org'. Adding certificate verification is strongly advised. See: https://urllib3.readthedocs.io/en/latest/advanced-usage.html#tls-warnings\n",
      "  warnings.warn(\n"
     ]
    },
    {
     "name": "stdout",
     "output_type": "stream",
     "text": [
      "Movie ID for 'Alcarràs': 804251\n"
     ]
    },
    {
     "name": "stderr",
     "output_type": "stream",
     "text": [
      "/opt/anaconda3/lib/python3.11/site-packages/urllib3/connectionpool.py:1100: InsecureRequestWarning: Unverified HTTPS request is being made to host 'api.themoviedb.org'. Adding certificate verification is strongly advised. See: https://urllib3.readthedocs.io/en/latest/advanced-usage.html#tls-warnings\n",
      "  warnings.warn(\n"
     ]
    },
    {
     "name": "stdout",
     "output_type": "stream",
     "text": [
      "Details for 'Alcarràs' found and added to the list.\n"
     ]
    },
    {
     "name": "stderr",
     "output_type": "stream",
     "text": [
      "/opt/anaconda3/lib/python3.11/site-packages/urllib3/connectionpool.py:1100: InsecureRequestWarning: Unverified HTTPS request is being made to host 'api.themoviedb.org'. Adding certificate verification is strongly advised. See: https://urllib3.readthedocs.io/en/latest/advanced-usage.html#tls-warnings\n",
      "  warnings.warn(\n"
     ]
    },
    {
     "name": "stdout",
     "output_type": "stream",
     "text": [
      "Movie ID for 'Nelly & Nadine': 12652\n"
     ]
    },
    {
     "name": "stderr",
     "output_type": "stream",
     "text": [
      "/opt/anaconda3/lib/python3.11/site-packages/urllib3/connectionpool.py:1100: InsecureRequestWarning: Unverified HTTPS request is being made to host 'api.themoviedb.org'. Adding certificate verification is strongly advised. See: https://urllib3.readthedocs.io/en/latest/advanced-usage.html#tls-warnings\n",
      "  warnings.warn(\n"
     ]
    },
    {
     "name": "stdout",
     "output_type": "stream",
     "text": [
      "Details for 'Nelly & Nadine' found and added to the list.\n"
     ]
    },
    {
     "name": "stderr",
     "output_type": "stream",
     "text": [
      "/opt/anaconda3/lib/python3.11/site-packages/urllib3/connectionpool.py:1100: InsecureRequestWarning: Unverified HTTPS request is being made to host 'api.themoviedb.org'. Adding certificate verification is strongly advised. See: https://urllib3.readthedocs.io/en/latest/advanced-usage.html#tls-warnings\n",
      "  warnings.warn(\n"
     ]
    },
    {
     "name": "stdout",
     "output_type": "stream",
     "text": [
      "Movie ID for 'Lady Chatterley’s Lover': 814338\n"
     ]
    },
    {
     "name": "stderr",
     "output_type": "stream",
     "text": [
      "/opt/anaconda3/lib/python3.11/site-packages/urllib3/connectionpool.py:1100: InsecureRequestWarning: Unverified HTTPS request is being made to host 'api.themoviedb.org'. Adding certificate verification is strongly advised. See: https://urllib3.readthedocs.io/en/latest/advanced-usage.html#tls-warnings\n",
      "  warnings.warn(\n"
     ]
    },
    {
     "name": "stdout",
     "output_type": "stream",
     "text": [
      "Details for 'Lady Chatterley’s Lover' found and added to the list.\n"
     ]
    },
    {
     "name": "stderr",
     "output_type": "stream",
     "text": [
      "/opt/anaconda3/lib/python3.11/site-packages/urllib3/connectionpool.py:1100: InsecureRequestWarning: Unverified HTTPS request is being made to host 'api.themoviedb.org'. Adding certificate verification is strongly advised. See: https://urllib3.readthedocs.io/en/latest/advanced-usage.html#tls-warnings\n",
      "  warnings.warn(\n"
     ]
    },
    {
     "name": "stdout",
     "output_type": "stream",
     "text": [
      "Movie ID for 'The Sound of Christmas': 1035923\n"
     ]
    },
    {
     "name": "stderr",
     "output_type": "stream",
     "text": [
      "/opt/anaconda3/lib/python3.11/site-packages/urllib3/connectionpool.py:1100: InsecureRequestWarning: Unverified HTTPS request is being made to host 'api.themoviedb.org'. Adding certificate verification is strongly advised. See: https://urllib3.readthedocs.io/en/latest/advanced-usage.html#tls-warnings\n",
      "  warnings.warn(\n"
     ]
    },
    {
     "name": "stdout",
     "output_type": "stream",
     "text": [
      "Details for 'The Sound of Christmas' found and added to the list.\n"
     ]
    },
    {
     "name": "stderr",
     "output_type": "stream",
     "text": [
      "/opt/anaconda3/lib/python3.11/site-packages/urllib3/connectionpool.py:1100: InsecureRequestWarning: Unverified HTTPS request is being made to host 'api.themoviedb.org'. Adding certificate verification is strongly advised. See: https://urllib3.readthedocs.io/en/latest/advanced-usage.html#tls-warnings\n",
      "  warnings.warn(\n"
     ]
    },
    {
     "name": "stdout",
     "output_type": "stream",
     "text": [
      "Movie ID for 'The Inspection': 837938\n"
     ]
    },
    {
     "name": "stderr",
     "output_type": "stream",
     "text": [
      "/opt/anaconda3/lib/python3.11/site-packages/urllib3/connectionpool.py:1100: InsecureRequestWarning: Unverified HTTPS request is being made to host 'api.themoviedb.org'. Adding certificate verification is strongly advised. See: https://urllib3.readthedocs.io/en/latest/advanced-usage.html#tls-warnings\n",
      "  warnings.warn(\n"
     ]
    },
    {
     "name": "stdout",
     "output_type": "stream",
     "text": [
      "Details for 'The Inspection' found and added to the list.\n"
     ]
    },
    {
     "name": "stderr",
     "output_type": "stream",
     "text": [
      "/opt/anaconda3/lib/python3.11/site-packages/urllib3/connectionpool.py:1100: InsecureRequestWarning: Unverified HTTPS request is being made to host 'api.themoviedb.org'. Adding certificate verification is strongly advised. See: https://urllib3.readthedocs.io/en/latest/advanced-usage.html#tls-warnings\n",
      "  warnings.warn(\n"
     ]
    },
    {
     "name": "stdout",
     "output_type": "stream",
     "text": [
      "Movie ID for 'Bones and All': 791177\n"
     ]
    },
    {
     "name": "stderr",
     "output_type": "stream",
     "text": [
      "/opt/anaconda3/lib/python3.11/site-packages/urllib3/connectionpool.py:1100: InsecureRequestWarning: Unverified HTTPS request is being made to host 'api.themoviedb.org'. Adding certificate verification is strongly advised. See: https://urllib3.readthedocs.io/en/latest/advanced-usage.html#tls-warnings\n",
      "  warnings.warn(\n"
     ]
    },
    {
     "name": "stdout",
     "output_type": "stream",
     "text": [
      "Details for 'Bones and All' found and added to the list.\n"
     ]
    },
    {
     "name": "stderr",
     "output_type": "stream",
     "text": [
      "/opt/anaconda3/lib/python3.11/site-packages/urllib3/connectionpool.py:1100: InsecureRequestWarning: Unverified HTTPS request is being made to host 'api.themoviedb.org'. Adding certificate verification is strongly advised. See: https://urllib3.readthedocs.io/en/latest/advanced-usage.html#tls-warnings\n",
      "  warnings.warn(\n"
     ]
    },
    {
     "name": "stdout",
     "output_type": "stream",
     "text": [
      "Movie ID for 'My Policeman': 744114\n"
     ]
    },
    {
     "name": "stderr",
     "output_type": "stream",
     "text": [
      "/opt/anaconda3/lib/python3.11/site-packages/urllib3/connectionpool.py:1100: InsecureRequestWarning: Unverified HTTPS request is being made to host 'api.themoviedb.org'. Adding certificate verification is strongly advised. See: https://urllib3.readthedocs.io/en/latest/advanced-usage.html#tls-warnings\n",
      "  warnings.warn(\n"
     ]
    },
    {
     "name": "stdout",
     "output_type": "stream",
     "text": [
      "Details for 'My Policeman' found and added to the list.\n"
     ]
    },
    {
     "name": "stderr",
     "output_type": "stream",
     "text": [
      "/opt/anaconda3/lib/python3.11/site-packages/urllib3/connectionpool.py:1100: InsecureRequestWarning: Unverified HTTPS request is being made to host 'api.themoviedb.org'. Adding certificate verification is strongly advised. See: https://urllib3.readthedocs.io/en/latest/advanced-usage.html#tls-warnings\n",
      "  warnings.warn(\n"
     ]
    },
    {
     "name": "stdout",
     "output_type": "stream",
     "text": [
      "Movie ID for 'About Fate': 828613\n"
     ]
    },
    {
     "name": "stderr",
     "output_type": "stream",
     "text": [
      "/opt/anaconda3/lib/python3.11/site-packages/urllib3/connectionpool.py:1100: InsecureRequestWarning: Unverified HTTPS request is being made to host 'api.themoviedb.org'. Adding certificate verification is strongly advised. See: https://urllib3.readthedocs.io/en/latest/advanced-usage.html#tls-warnings\n",
      "  warnings.warn(\n"
     ]
    },
    {
     "name": "stdout",
     "output_type": "stream",
     "text": [
      "Details for 'About Fate' found and added to the list.\n"
     ]
    },
    {
     "name": "stderr",
     "output_type": "stream",
     "text": [
      "/opt/anaconda3/lib/python3.11/site-packages/urllib3/connectionpool.py:1100: InsecureRequestWarning: Unverified HTTPS request is being made to host 'api.themoviedb.org'. Adding certificate verification is strongly advised. See: https://urllib3.readthedocs.io/en/latest/advanced-usage.html#tls-warnings\n",
      "  warnings.warn(\n"
     ]
    },
    {
     "name": "stdout",
     "output_type": "stream",
     "text": [
      "Movie ID for 'Waiting for Bojangles': 851303\n"
     ]
    },
    {
     "name": "stderr",
     "output_type": "stream",
     "text": [
      "/opt/anaconda3/lib/python3.11/site-packages/urllib3/connectionpool.py:1100: InsecureRequestWarning: Unverified HTTPS request is being made to host 'api.themoviedb.org'. Adding certificate verification is strongly advised. See: https://urllib3.readthedocs.io/en/latest/advanced-usage.html#tls-warnings\n",
      "  warnings.warn(\n"
     ]
    },
    {
     "name": "stdout",
     "output_type": "stream",
     "text": [
      "Details for 'Waiting for Bojangles' found and added to the list.\n"
     ]
    },
    {
     "name": "stderr",
     "output_type": "stream",
     "text": [
      "/opt/anaconda3/lib/python3.11/site-packages/urllib3/connectionpool.py:1100: InsecureRequestWarning: Unverified HTTPS request is being made to host 'api.themoviedb.org'. Adding certificate verification is strongly advised. See: https://urllib3.readthedocs.io/en/latest/advanced-usage.html#tls-warnings\n",
      "  warnings.warn(\n"
     ]
    },
    {
     "name": "stdout",
     "output_type": "stream",
     "text": [
      "Movie ID for 'I Love My Dad': 876825\n"
     ]
    },
    {
     "name": "stderr",
     "output_type": "stream",
     "text": [
      "/opt/anaconda3/lib/python3.11/site-packages/urllib3/connectionpool.py:1100: InsecureRequestWarning: Unverified HTTPS request is being made to host 'api.themoviedb.org'. Adding certificate verification is strongly advised. See: https://urllib3.readthedocs.io/en/latest/advanced-usage.html#tls-warnings\n",
      "  warnings.warn(\n"
     ]
    },
    {
     "name": "stdout",
     "output_type": "stream",
     "text": [
      "Details for 'I Love My Dad' found and added to the list.\n"
     ]
    },
    {
     "name": "stderr",
     "output_type": "stream",
     "text": [
      "/opt/anaconda3/lib/python3.11/site-packages/urllib3/connectionpool.py:1100: InsecureRequestWarning: Unverified HTTPS request is being made to host 'api.themoviedb.org'. Adding certificate verification is strongly advised. See: https://urllib3.readthedocs.io/en/latest/advanced-usage.html#tls-warnings\n",
      "  warnings.warn(\n"
     ]
    },
    {
     "name": "stdout",
     "output_type": "stream",
     "text": [
      "Movie ID for 'A Love Song': 913851\n"
     ]
    },
    {
     "name": "stderr",
     "output_type": "stream",
     "text": [
      "/opt/anaconda3/lib/python3.11/site-packages/urllib3/connectionpool.py:1100: InsecureRequestWarning: Unverified HTTPS request is being made to host 'api.themoviedb.org'. Adding certificate verification is strongly advised. See: https://urllib3.readthedocs.io/en/latest/advanced-usage.html#tls-warnings\n",
      "  warnings.warn(\n"
     ]
    },
    {
     "name": "stdout",
     "output_type": "stream",
     "text": [
      "Details for 'A Love Song' found and added to the list.\n"
     ]
    },
    {
     "name": "stderr",
     "output_type": "stream",
     "text": [
      "/opt/anaconda3/lib/python3.11/site-packages/urllib3/connectionpool.py:1100: InsecureRequestWarning: Unverified HTTPS request is being made to host 'api.themoviedb.org'. Adding certificate verification is strongly advised. See: https://urllib3.readthedocs.io/en/latest/advanced-usage.html#tls-warnings\n",
      "  warnings.warn(\n"
     ]
    },
    {
     "name": "stdout",
     "output_type": "stream",
     "text": [
      "Movie ID for 'Alone Together': 826113\n"
     ]
    },
    {
     "name": "stderr",
     "output_type": "stream",
     "text": [
      "/opt/anaconda3/lib/python3.11/site-packages/urllib3/connectionpool.py:1100: InsecureRequestWarning: Unverified HTTPS request is being made to host 'api.themoviedb.org'. Adding certificate verification is strongly advised. See: https://urllib3.readthedocs.io/en/latest/advanced-usage.html#tls-warnings\n",
      "  warnings.warn(\n"
     ]
    },
    {
     "name": "stdout",
     "output_type": "stream",
     "text": [
      "Details for 'Alone Together' found and added to the list.\n"
     ]
    },
    {
     "name": "stderr",
     "output_type": "stream",
     "text": [
      "/opt/anaconda3/lib/python3.11/site-packages/urllib3/connectionpool.py:1100: InsecureRequestWarning: Unverified HTTPS request is being made to host 'api.themoviedb.org'. Adding certificate verification is strongly advised. See: https://urllib3.readthedocs.io/en/latest/advanced-usage.html#tls-warnings\n",
      "  warnings.warn(\n"
     ]
    },
    {
     "name": "stdout",
     "output_type": "stream",
     "text": [
      "Movie ID for 'Art of Love': 1248795\n"
     ]
    },
    {
     "name": "stderr",
     "output_type": "stream",
     "text": [
      "/opt/anaconda3/lib/python3.11/site-packages/urllib3/connectionpool.py:1100: InsecureRequestWarning: Unverified HTTPS request is being made to host 'api.themoviedb.org'. Adding certificate verification is strongly advised. See: https://urllib3.readthedocs.io/en/latest/advanced-usage.html#tls-warnings\n",
      "  warnings.warn(\n"
     ]
    },
    {
     "name": "stdout",
     "output_type": "stream",
     "text": [
      "Details for 'Art of Love' found and added to the list.\n"
     ]
    },
    {
     "name": "stderr",
     "output_type": "stream",
     "text": [
      "/opt/anaconda3/lib/python3.11/site-packages/urllib3/connectionpool.py:1100: InsecureRequestWarning: Unverified HTTPS request is being made to host 'api.themoviedb.org'. Adding certificate verification is strongly advised. See: https://urllib3.readthedocs.io/en/latest/advanced-usage.html#tls-warnings\n",
      "  warnings.warn(\n"
     ]
    },
    {
     "name": "stdout",
     "output_type": "stream",
     "text": [
      "Movie ID for 'The Wheel': 630737\n"
     ]
    },
    {
     "name": "stderr",
     "output_type": "stream",
     "text": [
      "/opt/anaconda3/lib/python3.11/site-packages/urllib3/connectionpool.py:1100: InsecureRequestWarning: Unverified HTTPS request is being made to host 'api.themoviedb.org'. Adding certificate verification is strongly advised. See: https://urllib3.readthedocs.io/en/latest/advanced-usage.html#tls-warnings\n",
      "  warnings.warn(\n"
     ]
    },
    {
     "name": "stdout",
     "output_type": "stream",
     "text": [
      "Details for 'The Wheel' found and added to the list.\n"
     ]
    },
    {
     "name": "stderr",
     "output_type": "stream",
     "text": [
      "/opt/anaconda3/lib/python3.11/site-packages/urllib3/connectionpool.py:1100: InsecureRequestWarning: Unverified HTTPS request is being made to host 'api.themoviedb.org'. Adding certificate verification is strongly advised. See: https://urllib3.readthedocs.io/en/latest/advanced-usage.html#tls-warnings\n",
      "  warnings.warn(\n"
     ]
    },
    {
     "name": "stdout",
     "output_type": "stream",
     "text": [
      "Movie ID for 'Thor: Love and Thunder': 616037\n"
     ]
    },
    {
     "name": "stderr",
     "output_type": "stream",
     "text": [
      "/opt/anaconda3/lib/python3.11/site-packages/urllib3/connectionpool.py:1100: InsecureRequestWarning: Unverified HTTPS request is being made to host 'api.themoviedb.org'. Adding certificate verification is strongly advised. See: https://urllib3.readthedocs.io/en/latest/advanced-usage.html#tls-warnings\n",
      "  warnings.warn(\n"
     ]
    },
    {
     "name": "stdout",
     "output_type": "stream",
     "text": [
      "Details for 'Thor: Love and Thunder' found and added to the list.\n"
     ]
    },
    {
     "name": "stderr",
     "output_type": "stream",
     "text": [
      "/opt/anaconda3/lib/python3.11/site-packages/urllib3/connectionpool.py:1100: InsecureRequestWarning: Unverified HTTPS request is being made to host 'api.themoviedb.org'. Adding certificate verification is strongly advised. See: https://urllib3.readthedocs.io/en/latest/advanced-usage.html#tls-warnings\n",
      "  warnings.warn(\n"
     ]
    },
    {
     "name": "stdout",
     "output_type": "stream",
     "text": [
      "Movie ID for 'Both Sides of the Blade': 768757\n"
     ]
    },
    {
     "name": "stderr",
     "output_type": "stream",
     "text": [
      "/opt/anaconda3/lib/python3.11/site-packages/urllib3/connectionpool.py:1100: InsecureRequestWarning: Unverified HTTPS request is being made to host 'api.themoviedb.org'. Adding certificate verification is strongly advised. See: https://urllib3.readthedocs.io/en/latest/advanced-usage.html#tls-warnings\n",
      "  warnings.warn(\n"
     ]
    },
    {
     "name": "stdout",
     "output_type": "stream",
     "text": [
      "Details for 'Both Sides of the Blade' found and added to the list.\n"
     ]
    },
    {
     "name": "stderr",
     "output_type": "stream",
     "text": [
      "/opt/anaconda3/lib/python3.11/site-packages/urllib3/connectionpool.py:1100: InsecureRequestWarning: Unverified HTTPS request is being made to host 'api.themoviedb.org'. Adding certificate verification is strongly advised. See: https://urllib3.readthedocs.io/en/latest/advanced-usage.html#tls-warnings\n",
      "  warnings.warn(\n"
     ]
    },
    {
     "name": "stdout",
     "output_type": "stream",
     "text": [
      "Movie ID for 'Fire of Love': 913823\n"
     ]
    },
    {
     "name": "stderr",
     "output_type": "stream",
     "text": [
      "/opt/anaconda3/lib/python3.11/site-packages/urllib3/connectionpool.py:1100: InsecureRequestWarning: Unverified HTTPS request is being made to host 'api.themoviedb.org'. Adding certificate verification is strongly advised. See: https://urllib3.readthedocs.io/en/latest/advanced-usage.html#tls-warnings\n",
      "  warnings.warn(\n"
     ]
    },
    {
     "name": "stdout",
     "output_type": "stream",
     "text": [
      "Details for 'Fire of Love' found and added to the list.\n"
     ]
    },
    {
     "name": "stderr",
     "output_type": "stream",
     "text": [
      "/opt/anaconda3/lib/python3.11/site-packages/urllib3/connectionpool.py:1100: InsecureRequestWarning: Unverified HTTPS request is being made to host 'api.themoviedb.org'. Adding certificate verification is strongly advised. See: https://urllib3.readthedocs.io/en/latest/advanced-usage.html#tls-warnings\n",
      "  warnings.warn(\n"
     ]
    },
    {
     "name": "stdout",
     "output_type": "stream",
     "text": [
      "Movie ID for 'Love & Gelato': 1248795\n"
     ]
    },
    {
     "name": "stderr",
     "output_type": "stream",
     "text": [
      "/opt/anaconda3/lib/python3.11/site-packages/urllib3/connectionpool.py:1100: InsecureRequestWarning: Unverified HTTPS request is being made to host 'api.themoviedb.org'. Adding certificate verification is strongly advised. See: https://urllib3.readthedocs.io/en/latest/advanced-usage.html#tls-warnings\n",
      "  warnings.warn(\n"
     ]
    },
    {
     "name": "stdout",
     "output_type": "stream",
     "text": [
      "Details for 'Love & Gelato' found and added to the list.\n"
     ]
    },
    {
     "name": "stderr",
     "output_type": "stream",
     "text": [
      "/opt/anaconda3/lib/python3.11/site-packages/urllib3/connectionpool.py:1100: InsecureRequestWarning: Unverified HTTPS request is being made to host 'api.themoviedb.org'. Adding certificate verification is strongly advised. See: https://urllib3.readthedocs.io/en/latest/advanced-usage.html#tls-warnings\n",
      "  warnings.warn(\n"
     ]
    },
    {
     "name": "stdout",
     "output_type": "stream",
     "text": [
      "Movie ID for 'Stay Prayed Up': 869628\n"
     ]
    },
    {
     "name": "stderr",
     "output_type": "stream",
     "text": [
      "/opt/anaconda3/lib/python3.11/site-packages/urllib3/connectionpool.py:1100: InsecureRequestWarning: Unverified HTTPS request is being made to host 'api.themoviedb.org'. Adding certificate verification is strongly advised. See: https://urllib3.readthedocs.io/en/latest/advanced-usage.html#tls-warnings\n",
      "  warnings.warn(\n"
     ]
    },
    {
     "name": "stdout",
     "output_type": "stream",
     "text": [
      "Details for 'Stay Prayed Up' found and added to the list.\n"
     ]
    },
    {
     "name": "stderr",
     "output_type": "stream",
     "text": [
      "/opt/anaconda3/lib/python3.11/site-packages/urllib3/connectionpool.py:1100: InsecureRequestWarning: Unverified HTTPS request is being made to host 'api.themoviedb.org'. Adding certificate verification is strongly advised. See: https://urllib3.readthedocs.io/en/latest/advanced-usage.html#tls-warnings\n",
      "  warnings.warn(\n"
     ]
    },
    {
     "name": "stdout",
     "output_type": "stream",
     "text": [
      "Movie ID for 'Benediction': 399178\n"
     ]
    },
    {
     "name": "stderr",
     "output_type": "stream",
     "text": [
      "/opt/anaconda3/lib/python3.11/site-packages/urllib3/connectionpool.py:1100: InsecureRequestWarning: Unverified HTTPS request is being made to host 'api.themoviedb.org'. Adding certificate verification is strongly advised. See: https://urllib3.readthedocs.io/en/latest/advanced-usage.html#tls-warnings\n",
      "  warnings.warn(\n"
     ]
    },
    {
     "name": "stdout",
     "output_type": "stream",
     "text": [
      "Details for 'Benediction' found and added to the list.\n"
     ]
    },
    {
     "name": "stderr",
     "output_type": "stream",
     "text": [
      "/opt/anaconda3/lib/python3.11/site-packages/urllib3/connectionpool.py:1100: InsecureRequestWarning: Unverified HTTPS request is being made to host 'api.themoviedb.org'. Adding certificate verification is strongly advised. See: https://urllib3.readthedocs.io/en/latest/advanced-usage.html#tls-warnings\n",
      "  warnings.warn(\n"
     ]
    },
    {
     "name": "stdout",
     "output_type": "stream",
     "text": [
      "Movie ID for 'Dinner in America': 653664\n"
     ]
    },
    {
     "name": "stderr",
     "output_type": "stream",
     "text": [
      "/opt/anaconda3/lib/python3.11/site-packages/urllib3/connectionpool.py:1100: InsecureRequestWarning: Unverified HTTPS request is being made to host 'api.themoviedb.org'. Adding certificate verification is strongly advised. See: https://urllib3.readthedocs.io/en/latest/advanced-usage.html#tls-warnings\n",
      "  warnings.warn(\n"
     ]
    },
    {
     "name": "stdout",
     "output_type": "stream",
     "text": [
      "Details for 'Dinner in America' found and added to the list.\n"
     ]
    },
    {
     "name": "stderr",
     "output_type": "stream",
     "text": [
      "/opt/anaconda3/lib/python3.11/site-packages/urllib3/connectionpool.py:1100: InsecureRequestWarning: Unverified HTTPS request is being made to host 'api.themoviedb.org'. Adding certificate verification is strongly advised. See: https://urllib3.readthedocs.io/en/latest/advanced-usage.html#tls-warnings\n",
      "  warnings.warn(\n"
     ]
    },
    {
     "name": "stdout",
     "output_type": "stream",
     "text": [
      "Movie ID for 'In a New York Minute': 571285\n"
     ]
    },
    {
     "name": "stderr",
     "output_type": "stream",
     "text": [
      "/opt/anaconda3/lib/python3.11/site-packages/urllib3/connectionpool.py:1100: InsecureRequestWarning: Unverified HTTPS request is being made to host 'api.themoviedb.org'. Adding certificate verification is strongly advised. See: https://urllib3.readthedocs.io/en/latest/advanced-usage.html#tls-warnings\n",
      "  warnings.warn(\n"
     ]
    },
    {
     "name": "stdout",
     "output_type": "stream",
     "text": [
      "Details for 'In a New York Minute' found and added to the list.\n"
     ]
    },
    {
     "name": "stderr",
     "output_type": "stream",
     "text": [
      "/opt/anaconda3/lib/python3.11/site-packages/urllib3/connectionpool.py:1100: InsecureRequestWarning: Unverified HTTPS request is being made to host 'api.themoviedb.org'. Adding certificate verification is strongly advised. See: https://urllib3.readthedocs.io/en/latest/advanced-usage.html#tls-warnings\n",
      "  warnings.warn(\n"
     ]
    },
    {
     "name": "stdout",
     "output_type": "stream",
     "text": [
      "Movie ID for 'Anaïs in Love': 781453\n"
     ]
    },
    {
     "name": "stderr",
     "output_type": "stream",
     "text": [
      "/opt/anaconda3/lib/python3.11/site-packages/urllib3/connectionpool.py:1100: InsecureRequestWarning: Unverified HTTPS request is being made to host 'api.themoviedb.org'. Adding certificate verification is strongly advised. See: https://urllib3.readthedocs.io/en/latest/advanced-usage.html#tls-warnings\n",
      "  warnings.warn(\n"
     ]
    },
    {
     "name": "stdout",
     "output_type": "stream",
     "text": [
      "Details for 'Anaïs in Love' found and added to the list.\n"
     ]
    },
    {
     "name": "stderr",
     "output_type": "stream",
     "text": [
      "/opt/anaconda3/lib/python3.11/site-packages/urllib3/connectionpool.py:1100: InsecureRequestWarning: Unverified HTTPS request is being made to host 'api.themoviedb.org'. Adding certificate verification is strongly advised. See: https://urllib3.readthedocs.io/en/latest/advanced-usage.html#tls-warnings\n",
      "  warnings.warn(\n"
     ]
    },
    {
     "name": "stdout",
     "output_type": "stream",
     "text": [
      "Movie ID for 'I Love America': 846238\n"
     ]
    },
    {
     "name": "stderr",
     "output_type": "stream",
     "text": [
      "/opt/anaconda3/lib/python3.11/site-packages/urllib3/connectionpool.py:1100: InsecureRequestWarning: Unverified HTTPS request is being made to host 'api.themoviedb.org'. Adding certificate verification is strongly advised. See: https://urllib3.readthedocs.io/en/latest/advanced-usage.html#tls-warnings\n",
      "  warnings.warn(\n"
     ]
    },
    {
     "name": "stdout",
     "output_type": "stream",
     "text": [
      "Details for 'I Love America' found and added to the list.\n"
     ]
    },
    {
     "name": "stderr",
     "output_type": "stream",
     "text": [
      "/opt/anaconda3/lib/python3.11/site-packages/urllib3/connectionpool.py:1100: InsecureRequestWarning: Unverified HTTPS request is being made to host 'api.themoviedb.org'. Adding certificate verification is strongly advised. See: https://urllib3.readthedocs.io/en/latest/advanced-usage.html#tls-warnings\n",
      "  warnings.warn(\n"
     ]
    },
    {
     "name": "stdout",
     "output_type": "stream",
     "text": [
      "Movie ID for 'See You Then': 794903\n"
     ]
    },
    {
     "name": "stderr",
     "output_type": "stream",
     "text": [
      "/opt/anaconda3/lib/python3.11/site-packages/urllib3/connectionpool.py:1100: InsecureRequestWarning: Unverified HTTPS request is being made to host 'api.themoviedb.org'. Adding certificate verification is strongly advised. See: https://urllib3.readthedocs.io/en/latest/advanced-usage.html#tls-warnings\n",
      "  warnings.warn(\n"
     ]
    },
    {
     "name": "stdout",
     "output_type": "stream",
     "text": [
      "Details for 'See You Then' found and added to the list.\n"
     ]
    },
    {
     "name": "stderr",
     "output_type": "stream",
     "text": [
      "/opt/anaconda3/lib/python3.11/site-packages/urllib3/connectionpool.py:1100: InsecureRequestWarning: Unverified HTTPS request is being made to host 'api.themoviedb.org'. Adding certificate verification is strongly advised. See: https://urllib3.readthedocs.io/en/latest/advanced-usage.html#tls-warnings\n",
      "  warnings.warn(\n"
     ]
    },
    {
     "name": "stdout",
     "output_type": "stream",
     "text": [
      "Movie ID for 'La Mami': 640235\n"
     ]
    },
    {
     "name": "stderr",
     "output_type": "stream",
     "text": [
      "/opt/anaconda3/lib/python3.11/site-packages/urllib3/connectionpool.py:1100: InsecureRequestWarning: Unverified HTTPS request is being made to host 'api.themoviedb.org'. Adding certificate verification is strongly advised. See: https://urllib3.readthedocs.io/en/latest/advanced-usage.html#tls-warnings\n",
      "  warnings.warn(\n"
     ]
    },
    {
     "name": "stdout",
     "output_type": "stream",
     "text": [
      "Details for 'La Mami' found and added to the list.\n"
     ]
    },
    {
     "name": "stderr",
     "output_type": "stream",
     "text": [
      "/opt/anaconda3/lib/python3.11/site-packages/urllib3/connectionpool.py:1100: InsecureRequestWarning: Unverified HTTPS request is being made to host 'api.themoviedb.org'. Adding certificate verification is strongly advised. See: https://urllib3.readthedocs.io/en/latest/advanced-usage.html#tls-warnings\n",
      "  warnings.warn(\n"
     ]
    },
    {
     "name": "stdout",
     "output_type": "stream",
     "text": [
      "Movie ID for 'Love After Love': 377278\n"
     ]
    },
    {
     "name": "stderr",
     "output_type": "stream",
     "text": [
      "/opt/anaconda3/lib/python3.11/site-packages/urllib3/connectionpool.py:1100: InsecureRequestWarning: Unverified HTTPS request is being made to host 'api.themoviedb.org'. Adding certificate verification is strongly advised. See: https://urllib3.readthedocs.io/en/latest/advanced-usage.html#tls-warnings\n",
      "  warnings.warn(\n"
     ]
    },
    {
     "name": "stdout",
     "output_type": "stream",
     "text": [
      "Details for 'Love After Love' found and added to the list.\n"
     ]
    },
    {
     "name": "stderr",
     "output_type": "stream",
     "text": [
      "/opt/anaconda3/lib/python3.11/site-packages/urllib3/connectionpool.py:1100: InsecureRequestWarning: Unverified HTTPS request is being made to host 'api.themoviedb.org'. Adding certificate verification is strongly advised. See: https://urllib3.readthedocs.io/en/latest/advanced-usage.html#tls-warnings\n",
      "  warnings.warn(\n"
     ]
    },
    {
     "name": "stdout",
     "output_type": "stream",
     "text": [
      "Movie ID for 'Deep Water': 619979\n"
     ]
    },
    {
     "name": "stderr",
     "output_type": "stream",
     "text": [
      "/opt/anaconda3/lib/python3.11/site-packages/urllib3/connectionpool.py:1100: InsecureRequestWarning: Unverified HTTPS request is being made to host 'api.themoviedb.org'. Adding certificate verification is strongly advised. See: https://urllib3.readthedocs.io/en/latest/advanced-usage.html#tls-warnings\n",
      "  warnings.warn(\n"
     ]
    },
    {
     "name": "stdout",
     "output_type": "stream",
     "text": [
      "Details for 'Deep Water' found and added to the list.\n"
     ]
    },
    {
     "name": "stderr",
     "output_type": "stream",
     "text": [
      "/opt/anaconda3/lib/python3.11/site-packages/urllib3/connectionpool.py:1100: InsecureRequestWarning: Unverified HTTPS request is being made to host 'api.themoviedb.org'. Adding certificate verification is strongly advised. See: https://urllib3.readthedocs.io/en/latest/advanced-usage.html#tls-warnings\n",
      "  warnings.warn(\n"
     ]
    },
    {
     "name": "stdout",
     "output_type": "stream",
     "text": [
      "Movie ID for 'Lucy and Desi': 736280\n"
     ]
    },
    {
     "name": "stderr",
     "output_type": "stream",
     "text": [
      "/opt/anaconda3/lib/python3.11/site-packages/urllib3/connectionpool.py:1100: InsecureRequestWarning: Unverified HTTPS request is being made to host 'api.themoviedb.org'. Adding certificate verification is strongly advised. See: https://urllib3.readthedocs.io/en/latest/advanced-usage.html#tls-warnings\n",
      "  warnings.warn(\n"
     ]
    },
    {
     "name": "stdout",
     "output_type": "stream",
     "text": [
      "Details for 'Lucy and Desi' found and added to the list.\n"
     ]
    },
    {
     "name": "stderr",
     "output_type": "stream",
     "text": [
      "/opt/anaconda3/lib/python3.11/site-packages/urllib3/connectionpool.py:1100: InsecureRequestWarning: Unverified HTTPS request is being made to host 'api.themoviedb.org'. Adding certificate verification is strongly advised. See: https://urllib3.readthedocs.io/en/latest/advanced-usage.html#tls-warnings\n",
      "  warnings.warn(\n"
     ]
    },
    {
     "name": "stdout",
     "output_type": "stream",
     "text": [
      "Movie ID for 'Cyrano': 730047\n"
     ]
    },
    {
     "name": "stderr",
     "output_type": "stream",
     "text": [
      "/opt/anaconda3/lib/python3.11/site-packages/urllib3/connectionpool.py:1100: InsecureRequestWarning: Unverified HTTPS request is being made to host 'api.themoviedb.org'. Adding certificate verification is strongly advised. See: https://urllib3.readthedocs.io/en/latest/advanced-usage.html#tls-warnings\n",
      "  warnings.warn(\n"
     ]
    },
    {
     "name": "stdout",
     "output_type": "stream",
     "text": [
      "Details for 'Cyrano' found and added to the list.\n"
     ]
    },
    {
     "name": "stderr",
     "output_type": "stream",
     "text": [
      "/opt/anaconda3/lib/python3.11/site-packages/urllib3/connectionpool.py:1100: InsecureRequestWarning: Unverified HTTPS request is being made to host 'api.themoviedb.org'. Adding certificate verification is strongly advised. See: https://urllib3.readthedocs.io/en/latest/advanced-usage.html#tls-warnings\n",
      "  warnings.warn(\n"
     ]
    },
    {
     "name": "stdout",
     "output_type": "stream",
     "text": [
      "Movie ID for 'The In Between': 818750\n"
     ]
    },
    {
     "name": "stderr",
     "output_type": "stream",
     "text": [
      "/opt/anaconda3/lib/python3.11/site-packages/urllib3/connectionpool.py:1100: InsecureRequestWarning: Unverified HTTPS request is being made to host 'api.themoviedb.org'. Adding certificate verification is strongly advised. See: https://urllib3.readthedocs.io/en/latest/advanced-usage.html#tls-warnings\n",
      "  warnings.warn(\n"
     ]
    },
    {
     "name": "stdout",
     "output_type": "stream",
     "text": [
      "Details for 'The In Between' found and added to the list.\n"
     ]
    },
    {
     "name": "stderr",
     "output_type": "stream",
     "text": [
      "/opt/anaconda3/lib/python3.11/site-packages/urllib3/connectionpool.py:1100: InsecureRequestWarning: Unverified HTTPS request is being made to host 'api.themoviedb.org'. Adding certificate verification is strongly advised. See: https://urllib3.readthedocs.io/en/latest/advanced-usage.html#tls-warnings\n",
      "  warnings.warn(\n"
     ]
    },
    {
     "name": "stdout",
     "output_type": "stream",
     "text": [
      "Movie ID for 'Book of Love': 120515\n"
     ]
    },
    {
     "name": "stderr",
     "output_type": "stream",
     "text": [
      "/opt/anaconda3/lib/python3.11/site-packages/urllib3/connectionpool.py:1100: InsecureRequestWarning: Unverified HTTPS request is being made to host 'api.themoviedb.org'. Adding certificate verification is strongly advised. See: https://urllib3.readthedocs.io/en/latest/advanced-usage.html#tls-warnings\n",
      "  warnings.warn(\n"
     ]
    },
    {
     "name": "stdout",
     "output_type": "stream",
     "text": [
      "Details for 'Book of Love' found and added to the list.\n"
     ]
    },
    {
     "name": "stderr",
     "output_type": "stream",
     "text": [
      "/opt/anaconda3/lib/python3.11/site-packages/urllib3/connectionpool.py:1100: InsecureRequestWarning: Unverified HTTPS request is being made to host 'api.themoviedb.org'. Adding certificate verification is strongly advised. See: https://urllib3.readthedocs.io/en/latest/advanced-usage.html#tls-warnings\n",
      "  warnings.warn(\n"
     ]
    },
    {
     "name": "stdout",
     "output_type": "stream",
     "text": [
      "Movie ID for 'Lingui, the Sacred Bonds': 820693\n"
     ]
    },
    {
     "name": "stderr",
     "output_type": "stream",
     "text": [
      "/opt/anaconda3/lib/python3.11/site-packages/urllib3/connectionpool.py:1100: InsecureRequestWarning: Unverified HTTPS request is being made to host 'api.themoviedb.org'. Adding certificate verification is strongly advised. See: https://urllib3.readthedocs.io/en/latest/advanced-usage.html#tls-warnings\n",
      "  warnings.warn(\n"
     ]
    },
    {
     "name": "stdout",
     "output_type": "stream",
     "text": [
      "Details for 'Lingui, the Sacred Bonds' found and added to the list.\n"
     ]
    },
    {
     "name": "stderr",
     "output_type": "stream",
     "text": [
      "/opt/anaconda3/lib/python3.11/site-packages/urllib3/connectionpool.py:1100: InsecureRequestWarning: Unverified HTTPS request is being made to host 'api.themoviedb.org'. Adding certificate verification is strongly advised. See: https://urllib3.readthedocs.io/en/latest/advanced-usage.html#tls-warnings\n",
      "  warnings.warn(\n"
     ]
    },
    {
     "name": "stdout",
     "output_type": "stream",
     "text": [
      "Movie ID for 'The Pink Cloud': 776490\n"
     ]
    },
    {
     "name": "stderr",
     "output_type": "stream",
     "text": [
      "/opt/anaconda3/lib/python3.11/site-packages/urllib3/connectionpool.py:1100: InsecureRequestWarning: Unverified HTTPS request is being made to host 'api.themoviedb.org'. Adding certificate verification is strongly advised. See: https://urllib3.readthedocs.io/en/latest/advanced-usage.html#tls-warnings\n",
      "  warnings.warn(\n"
     ]
    },
    {
     "name": "stdout",
     "output_type": "stream",
     "text": [
      "Details for 'The Pink Cloud' found and added to the list.\n"
     ]
    },
    {
     "name": "stderr",
     "output_type": "stream",
     "text": [
      "/opt/anaconda3/lib/python3.11/site-packages/urllib3/connectionpool.py:1100: InsecureRequestWarning: Unverified HTTPS request is being made to host 'api.themoviedb.org'. Adding certificate verification is strongly advised. See: https://urllib3.readthedocs.io/en/latest/advanced-usage.html#tls-warnings\n",
      "  warnings.warn(\n"
     ]
    },
    {
     "name": "stdout",
     "output_type": "stream",
     "text": [
      "Movie ID for 'A Journal for Jordan': 501841\n"
     ]
    },
    {
     "name": "stderr",
     "output_type": "stream",
     "text": [
      "/opt/anaconda3/lib/python3.11/site-packages/urllib3/connectionpool.py:1100: InsecureRequestWarning: Unverified HTTPS request is being made to host 'api.themoviedb.org'. Adding certificate verification is strongly advised. See: https://urllib3.readthedocs.io/en/latest/advanced-usage.html#tls-warnings\n",
      "  warnings.warn(\n"
     ]
    },
    {
     "name": "stdout",
     "output_type": "stream",
     "text": [
      "Details for 'A Journal for Jordan' found and added to the list.\n"
     ]
    },
    {
     "name": "stderr",
     "output_type": "stream",
     "text": [
      "/opt/anaconda3/lib/python3.11/site-packages/urllib3/connectionpool.py:1100: InsecureRequestWarning: Unverified HTTPS request is being made to host 'api.themoviedb.org'. Adding certificate verification is strongly advised. See: https://urllib3.readthedocs.io/en/latest/advanced-usage.html#tls-warnings\n",
      "  warnings.warn(\n"
     ]
    },
    {
     "name": "stdout",
     "output_type": "stream",
     "text": [
      "Movie ID for 'West Side Story': 1725\n"
     ]
    },
    {
     "name": "stderr",
     "output_type": "stream",
     "text": [
      "/opt/anaconda3/lib/python3.11/site-packages/urllib3/connectionpool.py:1100: InsecureRequestWarning: Unverified HTTPS request is being made to host 'api.themoviedb.org'. Adding certificate verification is strongly advised. See: https://urllib3.readthedocs.io/en/latest/advanced-usage.html#tls-warnings\n",
      "  warnings.warn(\n"
     ]
    },
    {
     "name": "stdout",
     "output_type": "stream",
     "text": [
      "Details for 'West Side Story' found and added to the list.\n",
      "Sleeping for 1 second before the next request.\n"
     ]
    },
    {
     "name": "stderr",
     "output_type": "stream",
     "text": [
      "/opt/anaconda3/lib/python3.11/site-packages/urllib3/connectionpool.py:1100: InsecureRequestWarning: Unverified HTTPS request is being made to host 'api.themoviedb.org'. Adding certificate verification is strongly advised. See: https://urllib3.readthedocs.io/en/latest/advanced-usage.html#tls-warnings\n",
      "  warnings.warn(\n"
     ]
    },
    {
     "name": "stdout",
     "output_type": "stream",
     "text": [
      "No results found for 'Aulcie'\n"
     ]
    },
    {
     "name": "stderr",
     "output_type": "stream",
     "text": [
      "/opt/anaconda3/lib/python3.11/site-packages/urllib3/connectionpool.py:1100: InsecureRequestWarning: Unverified HTTPS request is being made to host 'api.themoviedb.org'. Adding certificate verification is strongly advised. See: https://urllib3.readthedocs.io/en/latest/advanced-usage.html#tls-warnings\n",
      "  warnings.warn(\n"
     ]
    },
    {
     "name": "stdout",
     "output_type": "stream",
     "text": [
      "Movie ID for 'Love Is Love Is Love': 238675\n"
     ]
    },
    {
     "name": "stderr",
     "output_type": "stream",
     "text": [
      "/opt/anaconda3/lib/python3.11/site-packages/urllib3/connectionpool.py:1100: InsecureRequestWarning: Unverified HTTPS request is being made to host 'api.themoviedb.org'. Adding certificate verification is strongly advised. See: https://urllib3.readthedocs.io/en/latest/advanced-usage.html#tls-warnings\n",
      "  warnings.warn(\n"
     ]
    },
    {
     "name": "stdout",
     "output_type": "stream",
     "text": [
      "Details for 'Love Is Love Is Love' found and added to the list.\n"
     ]
    },
    {
     "name": "stderr",
     "output_type": "stream",
     "text": [
      "/opt/anaconda3/lib/python3.11/site-packages/urllib3/connectionpool.py:1100: InsecureRequestWarning: Unverified HTTPS request is being made to host 'api.themoviedb.org'. Adding certificate verification is strongly advised. See: https://urllib3.readthedocs.io/en/latest/advanced-usage.html#tls-warnings\n",
      "  warnings.warn(\n"
     ]
    },
    {
     "name": "stdout",
     "output_type": "stream",
     "text": [
      "Movie ID for 'Love Hard': 734265\n"
     ]
    },
    {
     "name": "stderr",
     "output_type": "stream",
     "text": [
      "/opt/anaconda3/lib/python3.11/site-packages/urllib3/connectionpool.py:1100: InsecureRequestWarning: Unverified HTTPS request is being made to host 'api.themoviedb.org'. Adding certificate verification is strongly advised. See: https://urllib3.readthedocs.io/en/latest/advanced-usage.html#tls-warnings\n",
      "  warnings.warn(\n"
     ]
    },
    {
     "name": "stdout",
     "output_type": "stream",
     "text": [
      "Details for 'Love Hard' found and added to the list.\n"
     ]
    },
    {
     "name": "stderr",
     "output_type": "stream",
     "text": [
      "/opt/anaconda3/lib/python3.11/site-packages/urllib3/connectionpool.py:1100: InsecureRequestWarning: Unverified HTTPS request is being made to host 'api.themoviedb.org'. Adding certificate verification is strongly advised. See: https://urllib3.readthedocs.io/en/latest/advanced-usage.html#tls-warnings\n",
      "  warnings.warn(\n"
     ]
    },
    {
     "name": "stdout",
     "output_type": "stream",
     "text": [
      "Movie ID for 'Bergman Island': 477044\n"
     ]
    },
    {
     "name": "stderr",
     "output_type": "stream",
     "text": [
      "/opt/anaconda3/lib/python3.11/site-packages/urllib3/connectionpool.py:1100: InsecureRequestWarning: Unverified HTTPS request is being made to host 'api.themoviedb.org'. Adding certificate verification is strongly advised. See: https://urllib3.readthedocs.io/en/latest/advanced-usage.html#tls-warnings\n",
      "  warnings.warn(\n"
     ]
    },
    {
     "name": "stdout",
     "output_type": "stream",
     "text": [
      "Details for 'Bergman Island' found and added to the list.\n"
     ]
    },
    {
     "name": "stderr",
     "output_type": "stream",
     "text": [
      "/opt/anaconda3/lib/python3.11/site-packages/urllib3/connectionpool.py:1100: InsecureRequestWarning: Unverified HTTPS request is being made to host 'api.themoviedb.org'. Adding certificate verification is strongly advised. See: https://urllib3.readthedocs.io/en/latest/advanced-usage.html#tls-warnings\n",
      "  warnings.warn(\n"
     ]
    },
    {
     "name": "stdout",
     "output_type": "stream",
     "text": [
      "Movie ID for 'Hard Luck Love Song': 536208\n"
     ]
    },
    {
     "name": "stderr",
     "output_type": "stream",
     "text": [
      "/opt/anaconda3/lib/python3.11/site-packages/urllib3/connectionpool.py:1100: InsecureRequestWarning: Unverified HTTPS request is being made to host 'api.themoviedb.org'. Adding certificate verification is strongly advised. See: https://urllib3.readthedocs.io/en/latest/advanced-usage.html#tls-warnings\n",
      "  warnings.warn(\n"
     ]
    },
    {
     "name": "stdout",
     "output_type": "stream",
     "text": [
      "Details for 'Hard Luck Love Song' found and added to the list.\n"
     ]
    },
    {
     "name": "stderr",
     "output_type": "stream",
     "text": [
      "/opt/anaconda3/lib/python3.11/site-packages/urllib3/connectionpool.py:1100: InsecureRequestWarning: Unverified HTTPS request is being made to host 'api.themoviedb.org'. Adding certificate verification is strongly advised. See: https://urllib3.readthedocs.io/en/latest/advanced-usage.html#tls-warnings\n",
      "  warnings.warn(\n"
     ]
    },
    {
     "name": "stdout",
     "output_type": "stream",
     "text": [
      "Movie ID for 'South of Heaven': 645861\n"
     ]
    },
    {
     "name": "stderr",
     "output_type": "stream",
     "text": [
      "/opt/anaconda3/lib/python3.11/site-packages/urllib3/connectionpool.py:1100: InsecureRequestWarning: Unverified HTTPS request is being made to host 'api.themoviedb.org'. Adding certificate verification is strongly advised. See: https://urllib3.readthedocs.io/en/latest/advanced-usage.html#tls-warnings\n",
      "  warnings.warn(\n"
     ]
    },
    {
     "name": "stdout",
     "output_type": "stream",
     "text": [
      "Details for 'South of Heaven' found and added to the list.\n"
     ]
    },
    {
     "name": "stderr",
     "output_type": "stream",
     "text": [
      "/opt/anaconda3/lib/python3.11/site-packages/urllib3/connectionpool.py:1100: InsecureRequestWarning: Unverified HTTPS request is being made to host 'api.themoviedb.org'. Adding certificate verification is strongly advised. See: https://urllib3.readthedocs.io/en/latest/advanced-usage.html#tls-warnings\n",
      "  warnings.warn(\n"
     ]
    },
    {
     "name": "stdout",
     "output_type": "stream",
     "text": [
      "Movie ID for 'Wife of a Spy': 688301\n"
     ]
    },
    {
     "name": "stderr",
     "output_type": "stream",
     "text": [
      "/opt/anaconda3/lib/python3.11/site-packages/urllib3/connectionpool.py:1100: InsecureRequestWarning: Unverified HTTPS request is being made to host 'api.themoviedb.org'. Adding certificate verification is strongly advised. See: https://urllib3.readthedocs.io/en/latest/advanced-usage.html#tls-warnings\n",
      "  warnings.warn(\n"
     ]
    },
    {
     "name": "stdout",
     "output_type": "stream",
     "text": [
      "Details for 'Wife of a Spy' found and added to the list.\n"
     ]
    },
    {
     "name": "stderr",
     "output_type": "stream",
     "text": [
      "/opt/anaconda3/lib/python3.11/site-packages/urllib3/connectionpool.py:1100: InsecureRequestWarning: Unverified HTTPS request is being made to host 'api.themoviedb.org'. Adding certificate verification is strongly advised. See: https://urllib3.readthedocs.io/en/latest/advanced-usage.html#tls-warnings\n",
      "  warnings.warn(\n"
     ]
    },
    {
     "name": "stdout",
     "output_type": "stream",
     "text": [
      "Movie ID for 'Happier Than Ever': 853088\n"
     ]
    },
    {
     "name": "stderr",
     "output_type": "stream",
     "text": [
      "/opt/anaconda3/lib/python3.11/site-packages/urllib3/connectionpool.py:1100: InsecureRequestWarning: Unverified HTTPS request is being made to host 'api.themoviedb.org'. Adding certificate verification is strongly advised. See: https://urllib3.readthedocs.io/en/latest/advanced-usage.html#tls-warnings\n",
      "  warnings.warn(\n"
     ]
    },
    {
     "name": "stdout",
     "output_type": "stream",
     "text": [
      "Details for 'Happier Than Ever' found and added to the list.\n"
     ]
    },
    {
     "name": "stderr",
     "output_type": "stream",
     "text": [
      "/opt/anaconda3/lib/python3.11/site-packages/urllib3/connectionpool.py:1100: InsecureRequestWarning: Unverified HTTPS request is being made to host 'api.themoviedb.org'. Adding certificate verification is strongly advised. See: https://urllib3.readthedocs.io/en/latest/advanced-usage.html#tls-warnings\n",
      "  warnings.warn(\n"
     ]
    },
    {
     "name": "stdout",
     "output_type": "stream",
     "text": [
      "Movie ID for 'Together': 837548\n"
     ]
    },
    {
     "name": "stderr",
     "output_type": "stream",
     "text": [
      "/opt/anaconda3/lib/python3.11/site-packages/urllib3/connectionpool.py:1100: InsecureRequestWarning: Unverified HTTPS request is being made to host 'api.themoviedb.org'. Adding certificate verification is strongly advised. See: https://urllib3.readthedocs.io/en/latest/advanced-usage.html#tls-warnings\n",
      "  warnings.warn(\n"
     ]
    },
    {
     "name": "stdout",
     "output_type": "stream",
     "text": [
      "Details for 'Together' found and added to the list.\n"
     ]
    },
    {
     "name": "stderr",
     "output_type": "stream",
     "text": [
      "/opt/anaconda3/lib/python3.11/site-packages/urllib3/connectionpool.py:1100: InsecureRequestWarning: Unverified HTTPS request is being made to host 'api.themoviedb.org'. Adding certificate verification is strongly advised. See: https://urllib3.readthedocs.io/en/latest/advanced-usage.html#tls-warnings\n",
      "  warnings.warn(\n"
     ]
    },
    {
     "name": "stdout",
     "output_type": "stream",
     "text": [
      "Movie ID for 'Annette': 424277\n"
     ]
    },
    {
     "name": "stderr",
     "output_type": "stream",
     "text": [
      "/opt/anaconda3/lib/python3.11/site-packages/urllib3/connectionpool.py:1100: InsecureRequestWarning: Unverified HTTPS request is being made to host 'api.themoviedb.org'. Adding certificate verification is strongly advised. See: https://urllib3.readthedocs.io/en/latest/advanced-usage.html#tls-warnings\n",
      "  warnings.warn(\n"
     ]
    },
    {
     "name": "stdout",
     "output_type": "stream",
     "text": [
      "Details for 'Annette' found and added to the list.\n"
     ]
    },
    {
     "name": "stderr",
     "output_type": "stream",
     "text": [
      "/opt/anaconda3/lib/python3.11/site-packages/urllib3/connectionpool.py:1100: InsecureRequestWarning: Unverified HTTPS request is being made to host 'api.themoviedb.org'. Adding certificate verification is strongly advised. See: https://urllib3.readthedocs.io/en/latest/advanced-usage.html#tls-warnings\n",
      "  warnings.warn(\n"
     ]
    },
    {
     "name": "stdout",
     "output_type": "stream",
     "text": [
      "Movie ID for 'Resort to Love': 785539\n"
     ]
    },
    {
     "name": "stderr",
     "output_type": "stream",
     "text": [
      "/opt/anaconda3/lib/python3.11/site-packages/urllib3/connectionpool.py:1100: InsecureRequestWarning: Unverified HTTPS request is being made to host 'api.themoviedb.org'. Adding certificate verification is strongly advised. See: https://urllib3.readthedocs.io/en/latest/advanced-usage.html#tls-warnings\n",
      "  warnings.warn(\n"
     ]
    },
    {
     "name": "stdout",
     "output_type": "stream",
     "text": [
      "Details for 'Resort to Love' found and added to the list.\n"
     ]
    },
    {
     "name": "stderr",
     "output_type": "stream",
     "text": [
      "/opt/anaconda3/lib/python3.11/site-packages/urllib3/connectionpool.py:1100: InsecureRequestWarning: Unverified HTTPS request is being made to host 'api.themoviedb.org'. Adding certificate verification is strongly advised. See: https://urllib3.readthedocs.io/en/latest/advanced-usage.html#tls-warnings\n",
      "  warnings.warn(\n"
     ]
    },
    {
     "name": "stdout",
     "output_type": "stream",
     "text": [
      "Movie ID for 'Woodstock 99: Peace, Love and Rage': 848562\n"
     ]
    },
    {
     "name": "stderr",
     "output_type": "stream",
     "text": [
      "/opt/anaconda3/lib/python3.11/site-packages/urllib3/connectionpool.py:1100: InsecureRequestWarning: Unverified HTTPS request is being made to host 'api.themoviedb.org'. Adding certificate verification is strongly advised. See: https://urllib3.readthedocs.io/en/latest/advanced-usage.html#tls-warnings\n",
      "  warnings.warn(\n"
     ]
    },
    {
     "name": "stdout",
     "output_type": "stream",
     "text": [
      "Details for 'Woodstock 99: Peace, Love and Rage' found and added to the list.\n"
     ]
    },
    {
     "name": "stderr",
     "output_type": "stream",
     "text": [
      "/opt/anaconda3/lib/python3.11/site-packages/urllib3/connectionpool.py:1100: InsecureRequestWarning: Unverified HTTPS request is being made to host 'api.themoviedb.org'. Adding certificate verification is strongly advised. See: https://urllib3.readthedocs.io/en/latest/advanced-usage.html#tls-warnings\n",
      "  warnings.warn(\n"
     ]
    },
    {
     "name": "stdout",
     "output_type": "stream",
     "text": [
      "Movie ID for 'Casanova, Last Love': 504605\n"
     ]
    },
    {
     "name": "stderr",
     "output_type": "stream",
     "text": [
      "/opt/anaconda3/lib/python3.11/site-packages/urllib3/connectionpool.py:1100: InsecureRequestWarning: Unverified HTTPS request is being made to host 'api.themoviedb.org'. Adding certificate verification is strongly advised. See: https://urllib3.readthedocs.io/en/latest/advanced-usage.html#tls-warnings\n",
      "  warnings.warn(\n"
     ]
    },
    {
     "name": "stdout",
     "output_type": "stream",
     "text": [
      "Details for 'Casanova, Last Love' found and added to the list.\n"
     ]
    },
    {
     "name": "stderr",
     "output_type": "stream",
     "text": [
      "/opt/anaconda3/lib/python3.11/site-packages/urllib3/connectionpool.py:1100: InsecureRequestWarning: Unverified HTTPS request is being made to host 'api.themoviedb.org'. Adding certificate verification is strongly advised. See: https://urllib3.readthedocs.io/en/latest/advanced-usage.html#tls-warnings\n",
      "  warnings.warn(\n"
     ]
    },
    {
     "name": "stdout",
     "output_type": "stream",
     "text": [
      "Movie ID for 'Running Against the Wind': 631831\n"
     ]
    },
    {
     "name": "stderr",
     "output_type": "stream",
     "text": [
      "/opt/anaconda3/lib/python3.11/site-packages/urllib3/connectionpool.py:1100: InsecureRequestWarning: Unverified HTTPS request is being made to host 'api.themoviedb.org'. Adding certificate verification is strongly advised. See: https://urllib3.readthedocs.io/en/latest/advanced-usage.html#tls-warnings\n",
      "  warnings.warn(\n"
     ]
    },
    {
     "name": "stdout",
     "output_type": "stream",
     "text": [
      "Details for 'Running Against the Wind' found and added to the list.\n"
     ]
    },
    {
     "name": "stderr",
     "output_type": "stream",
     "text": [
      "/opt/anaconda3/lib/python3.11/site-packages/urllib3/connectionpool.py:1100: InsecureRequestWarning: Unverified HTTPS request is being made to host 'api.themoviedb.org'. Adding certificate verification is strongly advised. See: https://urllib3.readthedocs.io/en/latest/advanced-usage.html#tls-warnings\n",
      "  warnings.warn(\n"
     ]
    },
    {
     "name": "stdout",
     "output_type": "stream",
     "text": [
      "Movie ID for 'Asia': 1317434\n"
     ]
    },
    {
     "name": "stderr",
     "output_type": "stream",
     "text": [
      "/opt/anaconda3/lib/python3.11/site-packages/urllib3/connectionpool.py:1100: InsecureRequestWarning: Unverified HTTPS request is being made to host 'api.themoviedb.org'. Adding certificate verification is strongly advised. See: https://urllib3.readthedocs.io/en/latest/advanced-usage.html#tls-warnings\n",
      "  warnings.warn(\n"
     ]
    },
    {
     "name": "stdout",
     "output_type": "stream",
     "text": [
      "Details for 'Asia' found and added to the list.\n"
     ]
    },
    {
     "name": "stderr",
     "output_type": "stream",
     "text": [
      "/opt/anaconda3/lib/python3.11/site-packages/urllib3/connectionpool.py:1100: InsecureRequestWarning: Unverified HTTPS request is being made to host 'api.themoviedb.org'. Adding certificate verification is strongly advised. See: https://urllib3.readthedocs.io/en/latest/advanced-usage.html#tls-warnings\n",
      "  warnings.warn(\n"
     ]
    },
    {
     "name": "stdout",
     "output_type": "stream",
     "text": [
      "Movie ID for 'Undine': 615761\n"
     ]
    },
    {
     "name": "stderr",
     "output_type": "stream",
     "text": [
      "/opt/anaconda3/lib/python3.11/site-packages/urllib3/connectionpool.py:1100: InsecureRequestWarning: Unverified HTTPS request is being made to host 'api.themoviedb.org'. Adding certificate verification is strongly advised. See: https://urllib3.readthedocs.io/en/latest/advanced-usage.html#tls-warnings\n",
      "  warnings.warn(\n"
     ]
    },
    {
     "name": "stdout",
     "output_type": "stream",
     "text": [
      "Details for 'Undine' found and added to the list.\n"
     ]
    },
    {
     "name": "stderr",
     "output_type": "stream",
     "text": [
      "/opt/anaconda3/lib/python3.11/site-packages/urllib3/connectionpool.py:1100: InsecureRequestWarning: Unverified HTTPS request is being made to host 'api.themoviedb.org'. Adding certificate verification is strongly advised. See: https://urllib3.readthedocs.io/en/latest/advanced-usage.html#tls-warnings\n",
      "  warnings.warn(\n"
     ]
    },
    {
     "name": "stdout",
     "output_type": "stream",
     "text": [
      "Movie ID for 'This Town': 673640\n"
     ]
    },
    {
     "name": "stderr",
     "output_type": "stream",
     "text": [
      "/opt/anaconda3/lib/python3.11/site-packages/urllib3/connectionpool.py:1100: InsecureRequestWarning: Unverified HTTPS request is being made to host 'api.themoviedb.org'. Adding certificate verification is strongly advised. See: https://urllib3.readthedocs.io/en/latest/advanced-usage.html#tls-warnings\n",
      "  warnings.warn(\n"
     ]
    },
    {
     "name": "stdout",
     "output_type": "stream",
     "text": [
      "Details for 'This Town' found and added to the list.\n"
     ]
    },
    {
     "name": "stderr",
     "output_type": "stream",
     "text": [
      "/opt/anaconda3/lib/python3.11/site-packages/urllib3/connectionpool.py:1100: InsecureRequestWarning: Unverified HTTPS request is being made to host 'api.themoviedb.org'. Adding certificate verification is strongly advised. See: https://urllib3.readthedocs.io/en/latest/advanced-usage.html#tls-warnings\n",
      "  warnings.warn(\n"
     ]
    },
    {
     "name": "stdout",
     "output_type": "stream",
     "text": [
      "Movie ID for 'Tu Me Manques': 612437\n"
     ]
    },
    {
     "name": "stderr",
     "output_type": "stream",
     "text": [
      "/opt/anaconda3/lib/python3.11/site-packages/urllib3/connectionpool.py:1100: InsecureRequestWarning: Unverified HTTPS request is being made to host 'api.themoviedb.org'. Adding certificate verification is strongly advised. See: https://urllib3.readthedocs.io/en/latest/advanced-usage.html#tls-warnings\n",
      "  warnings.warn(\n"
     ]
    },
    {
     "name": "stdout",
     "output_type": "stream",
     "text": [
      "Details for 'Tu Me Manques' found and added to the list.\n"
     ]
    },
    {
     "name": "stderr",
     "output_type": "stream",
     "text": [
      "/opt/anaconda3/lib/python3.11/site-packages/urllib3/connectionpool.py:1100: InsecureRequestWarning: Unverified HTTPS request is being made to host 'api.themoviedb.org'. Adding certificate verification is strongly advised. See: https://urllib3.readthedocs.io/en/latest/advanced-usage.html#tls-warnings\n",
      "  warnings.warn(\n"
     ]
    },
    {
     "name": "stdout",
     "output_type": "stream",
     "text": [
      "Movie ID for 'Monday': 550524\n"
     ]
    },
    {
     "name": "stderr",
     "output_type": "stream",
     "text": [
      "/opt/anaconda3/lib/python3.11/site-packages/urllib3/connectionpool.py:1100: InsecureRequestWarning: Unverified HTTPS request is being made to host 'api.themoviedb.org'. Adding certificate verification is strongly advised. See: https://urllib3.readthedocs.io/en/latest/advanced-usage.html#tls-warnings\n",
      "  warnings.warn(\n"
     ]
    },
    {
     "name": "stdout",
     "output_type": "stream",
     "text": [
      "Details for 'Monday' found and added to the list.\n"
     ]
    },
    {
     "name": "stderr",
     "output_type": "stream",
     "text": [
      "/opt/anaconda3/lib/python3.11/site-packages/urllib3/connectionpool.py:1100: InsecureRequestWarning: Unverified HTTPS request is being made to host 'api.themoviedb.org'. Adding certificate verification is strongly advised. See: https://urllib3.readthedocs.io/en/latest/advanced-usage.html#tls-warnings\n",
      "  warnings.warn(\n"
     ]
    },
    {
     "name": "stdout",
     "output_type": "stream",
     "text": [
      "Movie ID for 'Ride or Die': 573435\n"
     ]
    },
    {
     "name": "stderr",
     "output_type": "stream",
     "text": [
      "/opt/anaconda3/lib/python3.11/site-packages/urllib3/connectionpool.py:1100: InsecureRequestWarning: Unverified HTTPS request is being made to host 'api.themoviedb.org'. Adding certificate verification is strongly advised. See: https://urllib3.readthedocs.io/en/latest/advanced-usage.html#tls-warnings\n",
      "  warnings.warn(\n"
     ]
    },
    {
     "name": "stdout",
     "output_type": "stream",
     "text": [
      "Details for 'Ride or Die' found and added to the list.\n"
     ]
    },
    {
     "name": "stderr",
     "output_type": "stream",
     "text": [
      "/opt/anaconda3/lib/python3.11/site-packages/urllib3/connectionpool.py:1100: InsecureRequestWarning: Unverified HTTPS request is being made to host 'api.themoviedb.org'. Adding certificate verification is strongly advised. See: https://urllib3.readthedocs.io/en/latest/advanced-usage.html#tls-warnings\n",
      "  warnings.warn(\n"
     ]
    },
    {
     "name": "stdout",
     "output_type": "stream",
     "text": [
      "Movie ID for 'Future People': 816819\n"
     ]
    },
    {
     "name": "stderr",
     "output_type": "stream",
     "text": [
      "/opt/anaconda3/lib/python3.11/site-packages/urllib3/connectionpool.py:1100: InsecureRequestWarning: Unverified HTTPS request is being made to host 'api.themoviedb.org'. Adding certificate verification is strongly advised. See: https://urllib3.readthedocs.io/en/latest/advanced-usage.html#tls-warnings\n",
      "  warnings.warn(\n"
     ]
    },
    {
     "name": "stdout",
     "output_type": "stream",
     "text": [
      "Details for 'Future People' found and added to the list.\n"
     ]
    },
    {
     "name": "stderr",
     "output_type": "stream",
     "text": [
      "/opt/anaconda3/lib/python3.11/site-packages/urllib3/connectionpool.py:1100: InsecureRequestWarning: Unverified HTTPS request is being made to host 'api.themoviedb.org'. Adding certificate verification is strongly advised. See: https://urllib3.readthedocs.io/en/latest/advanced-usage.html#tls-warnings\n",
      "  warnings.warn(\n"
     ]
    },
    {
     "name": "stdout",
     "output_type": "stream",
     "text": [
      "Movie ID for 'Luz': 633318\n"
     ]
    },
    {
     "name": "stderr",
     "output_type": "stream",
     "text": [
      "/opt/anaconda3/lib/python3.11/site-packages/urllib3/connectionpool.py:1100: InsecureRequestWarning: Unverified HTTPS request is being made to host 'api.themoviedb.org'. Adding certificate verification is strongly advised. See: https://urllib3.readthedocs.io/en/latest/advanced-usage.html#tls-warnings\n",
      "  warnings.warn(\n"
     ]
    },
    {
     "name": "stdout",
     "output_type": "stream",
     "text": [
      "Details for 'Luz' found and added to the list.\n"
     ]
    },
    {
     "name": "stderr",
     "output_type": "stream",
     "text": [
      "/opt/anaconda3/lib/python3.11/site-packages/urllib3/connectionpool.py:1100: InsecureRequestWarning: Unverified HTTPS request is being made to host 'api.themoviedb.org'. Adding certificate verification is strongly advised. See: https://urllib3.readthedocs.io/en/latest/advanced-usage.html#tls-warnings\n",
      "  warnings.warn(\n"
     ]
    },
    {
     "name": "stdout",
     "output_type": "stream",
     "text": [
      "Movie ID for 'Happily': 673319\n"
     ]
    },
    {
     "name": "stderr",
     "output_type": "stream",
     "text": [
      "/opt/anaconda3/lib/python3.11/site-packages/urllib3/connectionpool.py:1100: InsecureRequestWarning: Unverified HTTPS request is being made to host 'api.themoviedb.org'. Adding certificate verification is strongly advised. See: https://urllib3.readthedocs.io/en/latest/advanced-usage.html#tls-warnings\n",
      "  warnings.warn(\n"
     ]
    },
    {
     "name": "stdout",
     "output_type": "stream",
     "text": [
      "Details for 'Happily' found and added to the list.\n"
     ]
    },
    {
     "name": "stderr",
     "output_type": "stream",
     "text": [
      "/opt/anaconda3/lib/python3.11/site-packages/urllib3/connectionpool.py:1100: InsecureRequestWarning: Unverified HTTPS request is being made to host 'api.themoviedb.org'. Adding certificate verification is strongly advised. See: https://urllib3.readthedocs.io/en/latest/advanced-usage.html#tls-warnings\n",
      "  warnings.warn(\n"
     ]
    },
    {
     "name": "stdout",
     "output_type": "stream",
     "text": [
      "Movie ID for 'This Is the Life': 97399\n"
     ]
    },
    {
     "name": "stderr",
     "output_type": "stream",
     "text": [
      "/opt/anaconda3/lib/python3.11/site-packages/urllib3/connectionpool.py:1100: InsecureRequestWarning: Unverified HTTPS request is being made to host 'api.themoviedb.org'. Adding certificate verification is strongly advised. See: https://urllib3.readthedocs.io/en/latest/advanced-usage.html#tls-warnings\n",
      "  warnings.warn(\n"
     ]
    },
    {
     "name": "stdout",
     "output_type": "stream",
     "text": [
      "Details for 'This Is the Life' found and added to the list.\n"
     ]
    },
    {
     "name": "stderr",
     "output_type": "stream",
     "text": [
      "/opt/anaconda3/lib/python3.11/site-packages/urllib3/connectionpool.py:1100: InsecureRequestWarning: Unverified HTTPS request is being made to host 'api.themoviedb.org'. Adding certificate verification is strongly advised. See: https://urllib3.readthedocs.io/en/latest/advanced-usage.html#tls-warnings\n",
      "  warnings.warn(\n"
     ]
    },
    {
     "name": "stdout",
     "output_type": "stream",
     "text": [
      "Movie ID for 'To All the Boys: Always and Forever': 614409\n"
     ]
    },
    {
     "name": "stderr",
     "output_type": "stream",
     "text": [
      "/opt/anaconda3/lib/python3.11/site-packages/urllib3/connectionpool.py:1100: InsecureRequestWarning: Unverified HTTPS request is being made to host 'api.themoviedb.org'. Adding certificate verification is strongly advised. See: https://urllib3.readthedocs.io/en/latest/advanced-usage.html#tls-warnings\n",
      "  warnings.warn(\n"
     ]
    },
    {
     "name": "stdout",
     "output_type": "stream",
     "text": [
      "Details for 'To All the Boys: Always and Forever' found and added to the list.\n"
     ]
    },
    {
     "name": "stderr",
     "output_type": "stream",
     "text": [
      "/opt/anaconda3/lib/python3.11/site-packages/urllib3/connectionpool.py:1100: InsecureRequestWarning: Unverified HTTPS request is being made to host 'api.themoviedb.org'. Adding certificate verification is strongly advised. See: https://urllib3.readthedocs.io/en/latest/advanced-usage.html#tls-warnings\n",
      "  warnings.warn(\n"
     ]
    },
    {
     "name": "stdout",
     "output_type": "stream",
     "text": [
      "Movie ID for 'Young Hearts': 1232449\n"
     ]
    },
    {
     "name": "stderr",
     "output_type": "stream",
     "text": [
      "/opt/anaconda3/lib/python3.11/site-packages/urllib3/connectionpool.py:1100: InsecureRequestWarning: Unverified HTTPS request is being made to host 'api.themoviedb.org'. Adding certificate verification is strongly advised. See: https://urllib3.readthedocs.io/en/latest/advanced-usage.html#tls-warnings\n",
      "  warnings.warn(\n"
     ]
    },
    {
     "name": "stdout",
     "output_type": "stream",
     "text": [
      "Details for 'Young Hearts' found and added to the list.\n"
     ]
    },
    {
     "name": "stderr",
     "output_type": "stream",
     "text": [
      "/opt/anaconda3/lib/python3.11/site-packages/urllib3/connectionpool.py:1100: InsecureRequestWarning: Unverified HTTPS request is being made to host 'api.themoviedb.org'. Adding certificate verification is strongly advised. See: https://urllib3.readthedocs.io/en/latest/advanced-usage.html#tls-warnings\n",
      "  warnings.warn(\n"
     ]
    },
    {
     "name": "stdout",
     "output_type": "stream",
     "text": [
      "Movie ID for 'Little Fish': 586791\n"
     ]
    },
    {
     "name": "stderr",
     "output_type": "stream",
     "text": [
      "/opt/anaconda3/lib/python3.11/site-packages/urllib3/connectionpool.py:1100: InsecureRequestWarning: Unverified HTTPS request is being made to host 'api.themoviedb.org'. Adding certificate verification is strongly advised. See: https://urllib3.readthedocs.io/en/latest/advanced-usage.html#tls-warnings\n",
      "  warnings.warn(\n"
     ]
    },
    {
     "name": "stdout",
     "output_type": "stream",
     "text": [
      "Details for 'Little Fish' found and added to the list.\n"
     ]
    },
    {
     "name": "stderr",
     "output_type": "stream",
     "text": [
      "/opt/anaconda3/lib/python3.11/site-packages/urllib3/connectionpool.py:1100: InsecureRequestWarning: Unverified HTTPS request is being made to host 'api.themoviedb.org'. Adding certificate verification is strongly advised. See: https://urllib3.readthedocs.io/en/latest/advanced-usage.html#tls-warnings\n",
      "  warnings.warn(\n"
     ]
    },
    {
     "name": "stdout",
     "output_type": "stream",
     "text": [
      "Movie ID for 'Two of Us': 621744\n"
     ]
    },
    {
     "name": "stderr",
     "output_type": "stream",
     "text": [
      "/opt/anaconda3/lib/python3.11/site-packages/urllib3/connectionpool.py:1100: InsecureRequestWarning: Unverified HTTPS request is being made to host 'api.themoviedb.org'. Adding certificate verification is strongly advised. See: https://urllib3.readthedocs.io/en/latest/advanced-usage.html#tls-warnings\n",
      "  warnings.warn(\n"
     ]
    },
    {
     "name": "stdout",
     "output_type": "stream",
     "text": [
      "Details for 'Two of Us' found and added to the list.\n"
     ]
    },
    {
     "name": "stderr",
     "output_type": "stream",
     "text": [
      "/opt/anaconda3/lib/python3.11/site-packages/urllib3/connectionpool.py:1100: InsecureRequestWarning: Unverified HTTPS request is being made to host 'api.themoviedb.org'. Adding certificate verification is strongly advised. See: https://urllib3.readthedocs.io/en/latest/advanced-usage.html#tls-warnings\n",
      "  warnings.warn(\n"
     ]
    },
    {
     "name": "stdout",
     "output_type": "stream",
     "text": [
      "Movie ID for 'Atlantis': 15466\n"
     ]
    },
    {
     "name": "stderr",
     "output_type": "stream",
     "text": [
      "/opt/anaconda3/lib/python3.11/site-packages/urllib3/connectionpool.py:1100: InsecureRequestWarning: Unverified HTTPS request is being made to host 'api.themoviedb.org'. Adding certificate verification is strongly advised. See: https://urllib3.readthedocs.io/en/latest/advanced-usage.html#tls-warnings\n",
      "  warnings.warn(\n"
     ]
    },
    {
     "name": "stdout",
     "output_type": "stream",
     "text": [
      "Details for 'Atlantis' found and added to the list.\n"
     ]
    },
    {
     "name": "stderr",
     "output_type": "stream",
     "text": [
      "/opt/anaconda3/lib/python3.11/site-packages/urllib3/connectionpool.py:1100: InsecureRequestWarning: Unverified HTTPS request is being made to host 'api.themoviedb.org'. Adding certificate verification is strongly advised. See: https://urllib3.readthedocs.io/en/latest/advanced-usage.html#tls-warnings\n",
      "  warnings.warn(\n"
     ]
    },
    {
     "name": "stdout",
     "output_type": "stream",
     "text": [
      "Movie ID for 'Preparations to Be Together': 727002\n"
     ]
    },
    {
     "name": "stderr",
     "output_type": "stream",
     "text": [
      "/opt/anaconda3/lib/python3.11/site-packages/urllib3/connectionpool.py:1100: InsecureRequestWarning: Unverified HTTPS request is being made to host 'api.themoviedb.org'. Adding certificate verification is strongly advised. See: https://urllib3.readthedocs.io/en/latest/advanced-usage.html#tls-warnings\n",
      "  warnings.warn(\n"
     ]
    },
    {
     "name": "stdout",
     "output_type": "stream",
     "text": [
      "Details for 'Preparations to Be Together' found and added to the list.\n"
     ]
    },
    {
     "name": "stderr",
     "output_type": "stream",
     "text": [
      "/opt/anaconda3/lib/python3.11/site-packages/urllib3/connectionpool.py:1100: InsecureRequestWarning: Unverified HTTPS request is being made to host 'api.themoviedb.org'. Adding certificate verification is strongly advised. See: https://urllib3.readthedocs.io/en/latest/advanced-usage.html#tls-warnings\n",
      "  warnings.warn(\n"
     ]
    },
    {
     "name": "stdout",
     "output_type": "stream",
     "text": [
      "Movie ID for 'Your Name Engraved Herein': 719410\n"
     ]
    },
    {
     "name": "stderr",
     "output_type": "stream",
     "text": [
      "/opt/anaconda3/lib/python3.11/site-packages/urllib3/connectionpool.py:1100: InsecureRequestWarning: Unverified HTTPS request is being made to host 'api.themoviedb.org'. Adding certificate verification is strongly advised. See: https://urllib3.readthedocs.io/en/latest/advanced-usage.html#tls-warnings\n",
      "  warnings.warn(\n"
     ]
    },
    {
     "name": "stdout",
     "output_type": "stream",
     "text": [
      "Details for 'Your Name Engraved Herein' found and added to the list.\n"
     ]
    },
    {
     "name": "stderr",
     "output_type": "stream",
     "text": [
      "/opt/anaconda3/lib/python3.11/site-packages/urllib3/connectionpool.py:1100: InsecureRequestWarning: Unverified HTTPS request is being made to host 'api.themoviedb.org'. Adding certificate verification is strongly advised. See: https://urllib3.readthedocs.io/en/latest/advanced-usage.html#tls-warnings\n",
      "  warnings.warn(\n"
     ]
    },
    {
     "name": "stdout",
     "output_type": "stream",
     "text": [
      "Movie ID for 'Sylvie’s Love': 584288\n"
     ]
    },
    {
     "name": "stderr",
     "output_type": "stream",
     "text": [
      "/opt/anaconda3/lib/python3.11/site-packages/urllib3/connectionpool.py:1100: InsecureRequestWarning: Unverified HTTPS request is being made to host 'api.themoviedb.org'. Adding certificate verification is strongly advised. See: https://urllib3.readthedocs.io/en/latest/advanced-usage.html#tls-warnings\n",
      "  warnings.warn(\n"
     ]
    },
    {
     "name": "stdout",
     "output_type": "stream",
     "text": [
      "Details for 'Sylvie’s Love' found and added to the list.\n"
     ]
    },
    {
     "name": "stderr",
     "output_type": "stream",
     "text": [
      "/opt/anaconda3/lib/python3.11/site-packages/urllib3/connectionpool.py:1100: InsecureRequestWarning: Unverified HTTPS request is being made to host 'api.themoviedb.org'. Adding certificate verification is strongly advised. See: https://urllib3.readthedocs.io/en/latest/advanced-usage.html#tls-warnings\n",
      "  warnings.warn(\n"
     ]
    },
    {
     "name": "stdout",
     "output_type": "stream",
     "text": [
      "Movie ID for 'Ariana Grande: Excuse Me, I Love You': 774372\n"
     ]
    },
    {
     "name": "stderr",
     "output_type": "stream",
     "text": [
      "/opt/anaconda3/lib/python3.11/site-packages/urllib3/connectionpool.py:1100: InsecureRequestWarning: Unverified HTTPS request is being made to host 'api.themoviedb.org'. Adding certificate verification is strongly advised. See: https://urllib3.readthedocs.io/en/latest/advanced-usage.html#tls-warnings\n",
      "  warnings.warn(\n"
     ]
    },
    {
     "name": "stdout",
     "output_type": "stream",
     "text": [
      "Details for 'Ariana Grande: Excuse Me, I Love You' found and added to the list.\n"
     ]
    },
    {
     "name": "stderr",
     "output_type": "stream",
     "text": [
      "/opt/anaconda3/lib/python3.11/site-packages/urllib3/connectionpool.py:1100: InsecureRequestWarning: Unverified HTTPS request is being made to host 'api.themoviedb.org'. Adding certificate verification is strongly advised. See: https://urllib3.readthedocs.io/en/latest/advanced-usage.html#tls-warnings\n",
      "  warnings.warn(\n"
     ]
    },
    {
     "name": "stdout",
     "output_type": "stream",
     "text": [
      "Movie ID for 'Museum Town': 576552\n"
     ]
    },
    {
     "name": "stderr",
     "output_type": "stream",
     "text": [
      "/opt/anaconda3/lib/python3.11/site-packages/urllib3/connectionpool.py:1100: InsecureRequestWarning: Unverified HTTPS request is being made to host 'api.themoviedb.org'. Adding certificate verification is strongly advised. See: https://urllib3.readthedocs.io/en/latest/advanced-usage.html#tls-warnings\n",
      "  warnings.warn(\n"
     ]
    },
    {
     "name": "stdout",
     "output_type": "stream",
     "text": [
      "Details for 'Museum Town' found and added to the list.\n"
     ]
    },
    {
     "name": "stderr",
     "output_type": "stream",
     "text": [
      "/opt/anaconda3/lib/python3.11/site-packages/urllib3/connectionpool.py:1100: InsecureRequestWarning: Unverified HTTPS request is being made to host 'api.themoviedb.org'. Adding certificate verification is strongly advised. See: https://urllib3.readthedocs.io/en/latest/advanced-usage.html#tls-warnings\n",
      "  warnings.warn(\n"
     ]
    },
    {
     "name": "stdout",
     "output_type": "stream",
     "text": [
      "Movie ID for 'Wild Mountain Thyme': 628333\n"
     ]
    },
    {
     "name": "stderr",
     "output_type": "stream",
     "text": [
      "/opt/anaconda3/lib/python3.11/site-packages/urllib3/connectionpool.py:1100: InsecureRequestWarning: Unverified HTTPS request is being made to host 'api.themoviedb.org'. Adding certificate verification is strongly advised. See: https://urllib3.readthedocs.io/en/latest/advanced-usage.html#tls-warnings\n",
      "  warnings.warn(\n"
     ]
    },
    {
     "name": "stdout",
     "output_type": "stream",
     "text": [
      "Details for 'Wild Mountain Thyme' found and added to the list.\n"
     ]
    },
    {
     "name": "stderr",
     "output_type": "stream",
     "text": [
      "/opt/anaconda3/lib/python3.11/site-packages/urllib3/connectionpool.py:1100: InsecureRequestWarning: Unverified HTTPS request is being made to host 'api.themoviedb.org'. Adding certificate verification is strongly advised. See: https://urllib3.readthedocs.io/en/latest/advanced-usage.html#tls-warnings\n",
      "  warnings.warn(\n"
     ]
    },
    {
     "name": "stdout",
     "output_type": "stream",
     "text": [
      "Movie ID for 'My Psychedelic Love Story': 750595\n"
     ]
    },
    {
     "name": "stderr",
     "output_type": "stream",
     "text": [
      "/opt/anaconda3/lib/python3.11/site-packages/urllib3/connectionpool.py:1100: InsecureRequestWarning: Unverified HTTPS request is being made to host 'api.themoviedb.org'. Adding certificate verification is strongly advised. See: https://urllib3.readthedocs.io/en/latest/advanced-usage.html#tls-warnings\n",
      "  warnings.warn(\n"
     ]
    },
    {
     "name": "stdout",
     "output_type": "stream",
     "text": [
      "Details for 'My Psychedelic Love Story' found and added to the list.\n"
     ]
    },
    {
     "name": "stderr",
     "output_type": "stream",
     "text": [
      "/opt/anaconda3/lib/python3.11/site-packages/urllib3/connectionpool.py:1100: InsecureRequestWarning: Unverified HTTPS request is being made to host 'api.themoviedb.org'. Adding certificate verification is strongly advised. See: https://urllib3.readthedocs.io/en/latest/advanced-usage.html#tls-warnings\n",
      "  warnings.warn(\n"
     ]
    },
    {
     "name": "stdout",
     "output_type": "stream",
     "text": [
      "Movie ID for '69: The Saga of Danny Hernandez': 765057\n"
     ]
    },
    {
     "name": "stderr",
     "output_type": "stream",
     "text": [
      "/opt/anaconda3/lib/python3.11/site-packages/urllib3/connectionpool.py:1100: InsecureRequestWarning: Unverified HTTPS request is being made to host 'api.themoviedb.org'. Adding certificate verification is strongly advised. See: https://urllib3.readthedocs.io/en/latest/advanced-usage.html#tls-warnings\n",
      "  warnings.warn(\n"
     ]
    },
    {
     "name": "stdout",
     "output_type": "stream",
     "text": [
      "Details for '69: The Saga of Danny Hernandez' found and added to the list.\n"
     ]
    },
    {
     "name": "stderr",
     "output_type": "stream",
     "text": [
      "/opt/anaconda3/lib/python3.11/site-packages/urllib3/connectionpool.py:1100: InsecureRequestWarning: Unverified HTTPS request is being made to host 'api.themoviedb.org'. Adding certificate verification is strongly advised. See: https://urllib3.readthedocs.io/en/latest/advanced-usage.html#tls-warnings\n",
      "  warnings.warn(\n"
     ]
    },
    {
     "name": "stdout",
     "output_type": "stream",
     "text": [
      "Movie ID for 'Ammonite': 568467\n"
     ]
    },
    {
     "name": "stderr",
     "output_type": "stream",
     "text": [
      "/opt/anaconda3/lib/python3.11/site-packages/urllib3/connectionpool.py:1100: InsecureRequestWarning: Unverified HTTPS request is being made to host 'api.themoviedb.org'. Adding certificate verification is strongly advised. See: https://urllib3.readthedocs.io/en/latest/advanced-usage.html#tls-warnings\n",
      "  warnings.warn(\n"
     ]
    },
    {
     "name": "stdout",
     "output_type": "stream",
     "text": [
      "Details for 'Ammonite' found and added to the list.\n"
     ]
    },
    {
     "name": "stderr",
     "output_type": "stream",
     "text": [
      "/opt/anaconda3/lib/python3.11/site-packages/urllib3/connectionpool.py:1100: InsecureRequestWarning: Unverified HTTPS request is being made to host 'api.themoviedb.org'. Adding certificate verification is strongly advised. See: https://urllib3.readthedocs.io/en/latest/advanced-usage.html#tls-warnings\n",
      "  warnings.warn(\n"
     ]
    },
    {
     "name": "stdout",
     "output_type": "stream",
     "text": [
      "Movie ID for 'Love and Monsters': 590223\n"
     ]
    },
    {
     "name": "stderr",
     "output_type": "stream",
     "text": [
      "/opt/anaconda3/lib/python3.11/site-packages/urllib3/connectionpool.py:1100: InsecureRequestWarning: Unverified HTTPS request is being made to host 'api.themoviedb.org'. Adding certificate verification is strongly advised. See: https://urllib3.readthedocs.io/en/latest/advanced-usage.html#tls-warnings\n",
      "  warnings.warn(\n"
     ]
    },
    {
     "name": "stdout",
     "output_type": "stream",
     "text": [
      "Details for 'Love and Monsters' found and added to the list.\n"
     ]
    },
    {
     "name": "stderr",
     "output_type": "stream",
     "text": [
      "/opt/anaconda3/lib/python3.11/site-packages/urllib3/connectionpool.py:1100: InsecureRequestWarning: Unverified HTTPS request is being made to host 'api.themoviedb.org'. Adding certificate verification is strongly advised. See: https://urllib3.readthedocs.io/en/latest/advanced-usage.html#tls-warnings\n",
      "  warnings.warn(\n"
     ]
    },
    {
     "name": "stdout",
     "output_type": "stream",
     "text": [
      "Movie ID for 'Dick Johnson Is Dead': 653574\n"
     ]
    },
    {
     "name": "stderr",
     "output_type": "stream",
     "text": [
      "/opt/anaconda3/lib/python3.11/site-packages/urllib3/connectionpool.py:1100: InsecureRequestWarning: Unverified HTTPS request is being made to host 'api.themoviedb.org'. Adding certificate verification is strongly advised. See: https://urllib3.readthedocs.io/en/latest/advanced-usage.html#tls-warnings\n",
      "  warnings.warn(\n"
     ]
    },
    {
     "name": "stdout",
     "output_type": "stream",
     "text": [
      "Details for 'Dick Johnson Is Dead' found and added to the list.\n"
     ]
    },
    {
     "name": "stderr",
     "output_type": "stream",
     "text": [
      "/opt/anaconda3/lib/python3.11/site-packages/urllib3/connectionpool.py:1100: InsecureRequestWarning: Unverified HTTPS request is being made to host 'api.themoviedb.org'. Adding certificate verification is strongly advised. See: https://urllib3.readthedocs.io/en/latest/advanced-usage.html#tls-warnings\n",
      "  warnings.warn(\n"
     ]
    },
    {
     "name": "stdout",
     "output_type": "stream",
     "text": [
      "Movie ID for 'Love, Guaranteed': 644090\n"
     ]
    },
    {
     "name": "stderr",
     "output_type": "stream",
     "text": [
      "/opt/anaconda3/lib/python3.11/site-packages/urllib3/connectionpool.py:1100: InsecureRequestWarning: Unverified HTTPS request is being made to host 'api.themoviedb.org'. Adding certificate verification is strongly advised. See: https://urllib3.readthedocs.io/en/latest/advanced-usage.html#tls-warnings\n",
      "  warnings.warn(\n"
     ]
    },
    {
     "name": "stdout",
     "output_type": "stream",
     "text": [
      "Details for 'Love, Guaranteed' found and added to the list.\n"
     ]
    },
    {
     "name": "stderr",
     "output_type": "stream",
     "text": [
      "/opt/anaconda3/lib/python3.11/site-packages/urllib3/connectionpool.py:1100: InsecureRequestWarning: Unverified HTTPS request is being made to host 'api.themoviedb.org'. Adding certificate verification is strongly advised. See: https://urllib3.readthedocs.io/en/latest/advanced-usage.html#tls-warnings\n",
      "  warnings.warn(\n"
     ]
    },
    {
     "name": "stdout",
     "output_type": "stream",
     "text": [
      "Movie ID for 'Feel the Beat': 707886\n"
     ]
    },
    {
     "name": "stderr",
     "output_type": "stream",
     "text": [
      "/opt/anaconda3/lib/python3.11/site-packages/urllib3/connectionpool.py:1100: InsecureRequestWarning: Unverified HTTPS request is being made to host 'api.themoviedb.org'. Adding certificate verification is strongly advised. See: https://urllib3.readthedocs.io/en/latest/advanced-usage.html#tls-warnings\n",
      "  warnings.warn(\n"
     ]
    },
    {
     "name": "stdout",
     "output_type": "stream",
     "text": [
      "Details for 'Feel the Beat' found and added to the list.\n"
     ]
    },
    {
     "name": "stderr",
     "output_type": "stream",
     "text": [
      "/opt/anaconda3/lib/python3.11/site-packages/urllib3/connectionpool.py:1100: InsecureRequestWarning: Unverified HTTPS request is being made to host 'api.themoviedb.org'. Adding certificate verification is strongly advised. See: https://urllib3.readthedocs.io/en/latest/advanced-usage.html#tls-warnings\n",
      "  warnings.warn(\n"
     ]
    },
    {
     "name": "stdout",
     "output_type": "stream",
     "text": [
      "Movie ID for 'Babyteeth': 522098\n"
     ]
    },
    {
     "name": "stderr",
     "output_type": "stream",
     "text": [
      "/opt/anaconda3/lib/python3.11/site-packages/urllib3/connectionpool.py:1100: InsecureRequestWarning: Unverified HTTPS request is being made to host 'api.themoviedb.org'. Adding certificate verification is strongly advised. See: https://urllib3.readthedocs.io/en/latest/advanced-usage.html#tls-warnings\n",
      "  warnings.warn(\n"
     ]
    },
    {
     "name": "stdout",
     "output_type": "stream",
     "text": [
      "Details for 'Babyteeth' found and added to the list.\n"
     ]
    },
    {
     "name": "stderr",
     "output_type": "stream",
     "text": [
      "/opt/anaconda3/lib/python3.11/site-packages/urllib3/connectionpool.py:1100: InsecureRequestWarning: Unverified HTTPS request is being made to host 'api.themoviedb.org'. Adding certificate verification is strongly advised. See: https://urllib3.readthedocs.io/en/latest/advanced-usage.html#tls-warnings\n",
      "  warnings.warn(\n"
     ]
    },
    {
     "name": "stdout",
     "output_type": "stream",
     "text": [
      "Movie ID for 'Spelling the Dream': 530973\n"
     ]
    },
    {
     "name": "stderr",
     "output_type": "stream",
     "text": [
      "/opt/anaconda3/lib/python3.11/site-packages/urllib3/connectionpool.py:1100: InsecureRequestWarning: Unverified HTTPS request is being made to host 'api.themoviedb.org'. Adding certificate verification is strongly advised. See: https://urllib3.readthedocs.io/en/latest/advanced-usage.html#tls-warnings\n",
      "  warnings.warn(\n"
     ]
    },
    {
     "name": "stdout",
     "output_type": "stream",
     "text": [
      "Details for 'Spelling the Dream' found and added to the list.\n"
     ]
    },
    {
     "name": "stderr",
     "output_type": "stream",
     "text": [
      "/opt/anaconda3/lib/python3.11/site-packages/urllib3/connectionpool.py:1100: InsecureRequestWarning: Unverified HTTPS request is being made to host 'api.themoviedb.org'. Adding certificate verification is strongly advised. See: https://urllib3.readthedocs.io/en/latest/advanced-usage.html#tls-warnings\n",
      "  warnings.warn(\n"
     ]
    },
    {
     "name": "stdout",
     "output_type": "stream",
     "text": [
      "Movie ID for 'A Secret Love': 687156\n"
     ]
    },
    {
     "name": "stderr",
     "output_type": "stream",
     "text": [
      "/opt/anaconda3/lib/python3.11/site-packages/urllib3/connectionpool.py:1100: InsecureRequestWarning: Unverified HTTPS request is being made to host 'api.themoviedb.org'. Adding certificate verification is strongly advised. See: https://urllib3.readthedocs.io/en/latest/advanced-usage.html#tls-warnings\n",
      "  warnings.warn(\n"
     ]
    },
    {
     "name": "stdout",
     "output_type": "stream",
     "text": [
      "Details for 'A Secret Love' found and added to the list.\n"
     ]
    },
    {
     "name": "stderr",
     "output_type": "stream",
     "text": [
      "/opt/anaconda3/lib/python3.11/site-packages/urllib3/connectionpool.py:1100: InsecureRequestWarning: Unverified HTTPS request is being made to host 'api.themoviedb.org'. Adding certificate verification is strongly advised. See: https://urllib3.readthedocs.io/en/latest/advanced-usage.html#tls-warnings\n",
      "  warnings.warn(\n"
     ]
    },
    {
     "name": "stdout",
     "output_type": "stream",
     "text": [
      "Movie ID for 'Love Wedding Repeat': 624808\n"
     ]
    },
    {
     "name": "stderr",
     "output_type": "stream",
     "text": [
      "/opt/anaconda3/lib/python3.11/site-packages/urllib3/connectionpool.py:1100: InsecureRequestWarning: Unverified HTTPS request is being made to host 'api.themoviedb.org'. Adding certificate verification is strongly advised. See: https://urllib3.readthedocs.io/en/latest/advanced-usage.html#tls-warnings\n",
      "  warnings.warn(\n"
     ]
    },
    {
     "name": "stdout",
     "output_type": "stream",
     "text": [
      "Details for 'Love Wedding Repeat' found and added to the list.\n"
     ]
    },
    {
     "name": "stderr",
     "output_type": "stream",
     "text": [
      "/opt/anaconda3/lib/python3.11/site-packages/urllib3/connectionpool.py:1100: InsecureRequestWarning: Unverified HTTPS request is being made to host 'api.themoviedb.org'. Adding certificate verification is strongly advised. See: https://urllib3.readthedocs.io/en/latest/advanced-usage.html#tls-warnings\n",
      "  warnings.warn(\n"
     ]
    },
    {
     "name": "stdout",
     "output_type": "stream",
     "text": [
      "Movie ID for 'Almost Love': 598586\n"
     ]
    },
    {
     "name": "stderr",
     "output_type": "stream",
     "text": [
      "/opt/anaconda3/lib/python3.11/site-packages/urllib3/connectionpool.py:1100: InsecureRequestWarning: Unverified HTTPS request is being made to host 'api.themoviedb.org'. Adding certificate verification is strongly advised. See: https://urllib3.readthedocs.io/en/latest/advanced-usage.html#tls-warnings\n",
      "  warnings.warn(\n"
     ]
    },
    {
     "name": "stdout",
     "output_type": "stream",
     "text": [
      "Details for 'Almost Love' found and added to the list.\n"
     ]
    },
    {
     "name": "stderr",
     "output_type": "stream",
     "text": [
      "/opt/anaconda3/lib/python3.11/site-packages/urllib3/connectionpool.py:1100: InsecureRequestWarning: Unverified HTTPS request is being made to host 'api.themoviedb.org'. Adding certificate verification is strongly advised. See: https://urllib3.readthedocs.io/en/latest/advanced-usage.html#tls-warnings\n",
      "  warnings.warn(\n"
     ]
    },
    {
     "name": "stdout",
     "output_type": "stream",
     "text": [
      "Movie ID for 'Hope Gap': 537140\n"
     ]
    },
    {
     "name": "stderr",
     "output_type": "stream",
     "text": [
      "/opt/anaconda3/lib/python3.11/site-packages/urllib3/connectionpool.py:1100: InsecureRequestWarning: Unverified HTTPS request is being made to host 'api.themoviedb.org'. Adding certificate verification is strongly advised. See: https://urllib3.readthedocs.io/en/latest/advanced-usage.html#tls-warnings\n",
      "  warnings.warn(\n"
     ]
    },
    {
     "name": "stdout",
     "output_type": "stream",
     "text": [
      "Details for 'Hope Gap' found and added to the list.\n"
     ]
    },
    {
     "name": "stderr",
     "output_type": "stream",
     "text": [
      "/opt/anaconda3/lib/python3.11/site-packages/urllib3/connectionpool.py:1100: InsecureRequestWarning: Unverified HTTPS request is being made to host 'api.themoviedb.org'. Adding certificate verification is strongly advised. See: https://urllib3.readthedocs.io/en/latest/advanced-usage.html#tls-warnings\n",
      "  warnings.warn(\n"
     ]
    },
    {
     "name": "stdout",
     "output_type": "stream",
     "text": [
      "Movie ID for 'All the Bright Places': 342470\n"
     ]
    },
    {
     "name": "stderr",
     "output_type": "stream",
     "text": [
      "/opt/anaconda3/lib/python3.11/site-packages/urllib3/connectionpool.py:1100: InsecureRequestWarning: Unverified HTTPS request is being made to host 'api.themoviedb.org'. Adding certificate verification is strongly advised. See: https://urllib3.readthedocs.io/en/latest/advanced-usage.html#tls-warnings\n",
      "  warnings.warn(\n"
     ]
    },
    {
     "name": "stdout",
     "output_type": "stream",
     "text": [
      "Details for 'All the Bright Places' found and added to the list.\n"
     ]
    },
    {
     "name": "stderr",
     "output_type": "stream",
     "text": [
      "/opt/anaconda3/lib/python3.11/site-packages/urllib3/connectionpool.py:1100: InsecureRequestWarning: Unverified HTTPS request is being made to host 'api.themoviedb.org'. Adding certificate verification is strongly advised. See: https://urllib3.readthedocs.io/en/latest/advanced-usage.html#tls-warnings\n",
      "  warnings.warn(\n"
     ]
    },
    {
     "name": "stdout",
     "output_type": "stream",
     "text": [
      "Movie ID for 'The Photograph': 589049\n"
     ]
    },
    {
     "name": "stderr",
     "output_type": "stream",
     "text": [
      "/opt/anaconda3/lib/python3.11/site-packages/urllib3/connectionpool.py:1100: InsecureRequestWarning: Unverified HTTPS request is being made to host 'api.themoviedb.org'. Adding certificate verification is strongly advised. See: https://urllib3.readthedocs.io/en/latest/advanced-usage.html#tls-warnings\n",
      "  warnings.warn(\n"
     ]
    },
    {
     "name": "stdout",
     "output_type": "stream",
     "text": [
      "Details for 'The Photograph' found and added to the list.\n",
      "Sleeping for 1 second before the next request.\n"
     ]
    },
    {
     "name": "stderr",
     "output_type": "stream",
     "text": [
      "/opt/anaconda3/lib/python3.11/site-packages/urllib3/connectionpool.py:1100: InsecureRequestWarning: Unverified HTTPS request is being made to host 'api.themoviedb.org'. Adding certificate verification is strongly advised. See: https://urllib3.readthedocs.io/en/latest/advanced-usage.html#tls-warnings\n",
      "  warnings.warn(\n"
     ]
    },
    {
     "name": "stdout",
     "output_type": "stream",
     "text": [
      "Movie ID for 'You Go to My Head': 508892\n"
     ]
    },
    {
     "name": "stderr",
     "output_type": "stream",
     "text": [
      "/opt/anaconda3/lib/python3.11/site-packages/urllib3/connectionpool.py:1100: InsecureRequestWarning: Unverified HTTPS request is being made to host 'api.themoviedb.org'. Adding certificate verification is strongly advised. See: https://urllib3.readthedocs.io/en/latest/advanced-usage.html#tls-warnings\n",
      "  warnings.warn(\n"
     ]
    },
    {
     "name": "stdout",
     "output_type": "stream",
     "text": [
      "Details for 'You Go to My Head' found and added to the list.\n"
     ]
    },
    {
     "name": "stderr",
     "output_type": "stream",
     "text": [
      "/opt/anaconda3/lib/python3.11/site-packages/urllib3/connectionpool.py:1100: InsecureRequestWarning: Unverified HTTPS request is being made to host 'api.themoviedb.org'. Adding certificate verification is strongly advised. See: https://urllib3.readthedocs.io/en/latest/advanced-usage.html#tls-warnings\n",
      "  warnings.warn(\n"
     ]
    },
    {
     "name": "stdout",
     "output_type": "stream",
     "text": [
      "Movie ID for 'Ordinary Love': 588787\n"
     ]
    },
    {
     "name": "stderr",
     "output_type": "stream",
     "text": [
      "/opt/anaconda3/lib/python3.11/site-packages/urllib3/connectionpool.py:1100: InsecureRequestWarning: Unverified HTTPS request is being made to host 'api.themoviedb.org'. Adding certificate verification is strongly advised. See: https://urllib3.readthedocs.io/en/latest/advanced-usage.html#tls-warnings\n",
      "  warnings.warn(\n"
     ]
    },
    {
     "name": "stdout",
     "output_type": "stream",
     "text": [
      "Details for 'Ordinary Love' found and added to the list.\n"
     ]
    },
    {
     "name": "stderr",
     "output_type": "stream",
     "text": [
      "/opt/anaconda3/lib/python3.11/site-packages/urllib3/connectionpool.py:1100: InsecureRequestWarning: Unverified HTTPS request is being made to host 'api.themoviedb.org'. Adding certificate verification is strongly advised. See: https://urllib3.readthedocs.io/en/latest/advanced-usage.html#tls-warnings\n",
      "  warnings.warn(\n"
     ]
    },
    {
     "name": "stdout",
     "output_type": "stream",
     "text": [
      "Movie ID for 'To All the Boys: P.S. I Still Love You': 565426\n"
     ]
    },
    {
     "name": "stderr",
     "output_type": "stream",
     "text": [
      "/opt/anaconda3/lib/python3.11/site-packages/urllib3/connectionpool.py:1100: InsecureRequestWarning: Unverified HTTPS request is being made to host 'api.themoviedb.org'. Adding certificate verification is strongly advised. See: https://urllib3.readthedocs.io/en/latest/advanced-usage.html#tls-warnings\n",
      "  warnings.warn(\n"
     ]
    },
    {
     "name": "stdout",
     "output_type": "stream",
     "text": [
      "Details for 'To All the Boys: P.S. I Still Love You' found and added to the list.\n"
     ]
    },
    {
     "name": "stderr",
     "output_type": "stream",
     "text": [
      "/opt/anaconda3/lib/python3.11/site-packages/urllib3/connectionpool.py:1100: InsecureRequestWarning: Unverified HTTPS request is being made to host 'api.themoviedb.org'. Adding certificate verification is strongly advised. See: https://urllib3.readthedocs.io/en/latest/advanced-usage.html#tls-warnings\n",
      "  warnings.warn(\n"
     ]
    },
    {
     "name": "stdout",
     "output_type": "stream",
     "text": [
      "Movie ID for 'The Woman Who Loves Giraffes': 544825\n"
     ]
    },
    {
     "name": "stderr",
     "output_type": "stream",
     "text": [
      "/opt/anaconda3/lib/python3.11/site-packages/urllib3/connectionpool.py:1100: InsecureRequestWarning: Unverified HTTPS request is being made to host 'api.themoviedb.org'. Adding certificate verification is strongly advised. See: https://urllib3.readthedocs.io/en/latest/advanced-usage.html#tls-warnings\n",
      "  warnings.warn(\n"
     ]
    },
    {
     "name": "stdout",
     "output_type": "stream",
     "text": [
      "Details for 'The Woman Who Loves Giraffes' found and added to the list.\n"
     ]
    },
    {
     "name": "stderr",
     "output_type": "stream",
     "text": [
      "/opt/anaconda3/lib/python3.11/site-packages/urllib3/connectionpool.py:1100: InsecureRequestWarning: Unverified HTTPS request is being made to host 'api.themoviedb.org'. Adding certificate verification is strongly advised. See: https://urllib3.readthedocs.io/en/latest/advanced-usage.html#tls-warnings\n",
      "  warnings.warn(\n"
     ]
    },
    {
     "name": "stdout",
     "output_type": "stream",
     "text": [
      "Movie ID for 'Queen & Slim': 40108\n"
     ]
    },
    {
     "name": "stderr",
     "output_type": "stream",
     "text": [
      "/opt/anaconda3/lib/python3.11/site-packages/urllib3/connectionpool.py:1100: InsecureRequestWarning: Unverified HTTPS request is being made to host 'api.themoviedb.org'. Adding certificate verification is strongly advised. See: https://urllib3.readthedocs.io/en/latest/advanced-usage.html#tls-warnings\n",
      "  warnings.warn(\n"
     ]
    },
    {
     "name": "stdout",
     "output_type": "stream",
     "text": [
      "Details for 'Queen & Slim' found and added to the list.\n"
     ]
    },
    {
     "name": "stderr",
     "output_type": "stream",
     "text": [
      "/opt/anaconda3/lib/python3.11/site-packages/urllib3/connectionpool.py:1100: InsecureRequestWarning: Unverified HTTPS request is being made to host 'api.themoviedb.org'. Adding certificate verification is strongly advised. See: https://urllib3.readthedocs.io/en/latest/advanced-usage.html#tls-warnings\n",
      "  warnings.warn(\n"
     ]
    },
    {
     "name": "stdout",
     "output_type": "stream",
     "text": [
      "Movie ID for 'Marriage Story': 492188\n"
     ]
    },
    {
     "name": "stderr",
     "output_type": "stream",
     "text": [
      "/opt/anaconda3/lib/python3.11/site-packages/urllib3/connectionpool.py:1100: InsecureRequestWarning: Unverified HTTPS request is being made to host 'api.themoviedb.org'. Adding certificate verification is strongly advised. See: https://urllib3.readthedocs.io/en/latest/advanced-usage.html#tls-warnings\n",
      "  warnings.warn(\n"
     ]
    },
    {
     "name": "stdout",
     "output_type": "stream",
     "text": [
      "Details for 'Marriage Story' found and added to the list.\n"
     ]
    },
    {
     "name": "stderr",
     "output_type": "stream",
     "text": [
      "/opt/anaconda3/lib/python3.11/site-packages/urllib3/connectionpool.py:1100: InsecureRequestWarning: Unverified HTTPS request is being made to host 'api.themoviedb.org'. Adding certificate verification is strongly advised. See: https://urllib3.readthedocs.io/en/latest/advanced-usage.html#tls-warnings\n",
      "  warnings.warn(\n"
     ]
    },
    {
     "name": "stdout",
     "output_type": "stream",
     "text": [
      "Movie ID for 'Cyrano, My Love': 544510\n"
     ]
    },
    {
     "name": "stderr",
     "output_type": "stream",
     "text": [
      "/opt/anaconda3/lib/python3.11/site-packages/urllib3/connectionpool.py:1100: InsecureRequestWarning: Unverified HTTPS request is being made to host 'api.themoviedb.org'. Adding certificate verification is strongly advised. See: https://urllib3.readthedocs.io/en/latest/advanced-usage.html#tls-warnings\n",
      "  warnings.warn(\n"
     ]
    },
    {
     "name": "stdout",
     "output_type": "stream",
     "text": [
      "Details for 'Cyrano, My Love' found and added to the list.\n"
     ]
    },
    {
     "name": "stderr",
     "output_type": "stream",
     "text": [
      "/opt/anaconda3/lib/python3.11/site-packages/urllib3/connectionpool.py:1100: InsecureRequestWarning: Unverified HTTPS request is being made to host 'api.themoviedb.org'. Adding certificate verification is strongly advised. See: https://urllib3.readthedocs.io/en/latest/advanced-usage.html#tls-warnings\n",
      "  warnings.warn(\n"
     ]
    },
    {
     "name": "stdout",
     "output_type": "stream",
     "text": [
      "Movie ID for 'Pretenders': 346666\n"
     ]
    },
    {
     "name": "stderr",
     "output_type": "stream",
     "text": [
      "/opt/anaconda3/lib/python3.11/site-packages/urllib3/connectionpool.py:1100: InsecureRequestWarning: Unverified HTTPS request is being made to host 'api.themoviedb.org'. Adding certificate verification is strongly advised. See: https://urllib3.readthedocs.io/en/latest/advanced-usage.html#tls-warnings\n",
      "  warnings.warn(\n"
     ]
    },
    {
     "name": "stdout",
     "output_type": "stream",
     "text": [
      "Details for 'Pretenders' found and added to the list.\n"
     ]
    },
    {
     "name": "stderr",
     "output_type": "stream",
     "text": [
      "/opt/anaconda3/lib/python3.11/site-packages/urllib3/connectionpool.py:1100: InsecureRequestWarning: Unverified HTTPS request is being made to host 'api.themoviedb.org'. Adding certificate verification is strongly advised. See: https://urllib3.readthedocs.io/en/latest/advanced-usage.html#tls-warnings\n",
      "  warnings.warn(\n"
     ]
    },
    {
     "name": "stdout",
     "output_type": "stream",
     "text": [
      "Movie ID for 'First Love': 597094\n"
     ]
    },
    {
     "name": "stderr",
     "output_type": "stream",
     "text": [
      "/opt/anaconda3/lib/python3.11/site-packages/urllib3/connectionpool.py:1100: InsecureRequestWarning: Unverified HTTPS request is being made to host 'api.themoviedb.org'. Adding certificate verification is strongly advised. See: https://urllib3.readthedocs.io/en/latest/advanced-usage.html#tls-warnings\n",
      "  warnings.warn(\n"
     ]
    },
    {
     "name": "stdout",
     "output_type": "stream",
     "text": [
      "Details for 'First Love' found and added to the list.\n"
     ]
    },
    {
     "name": "stderr",
     "output_type": "stream",
     "text": [
      "/opt/anaconda3/lib/python3.11/site-packages/urllib3/connectionpool.py:1100: InsecureRequestWarning: Unverified HTTPS request is being made to host 'api.themoviedb.org'. Adding certificate verification is strongly advised. See: https://urllib3.readthedocs.io/en/latest/advanced-usage.html#tls-warnings\n",
      "  warnings.warn(\n"
     ]
    },
    {
     "name": "stdout",
     "output_type": "stream",
     "text": [
      "Movie ID for 'Loro': 541660\n"
     ]
    },
    {
     "name": "stderr",
     "output_type": "stream",
     "text": [
      "/opt/anaconda3/lib/python3.11/site-packages/urllib3/connectionpool.py:1100: InsecureRequestWarning: Unverified HTTPS request is being made to host 'api.themoviedb.org'. Adding certificate verification is strongly advised. See: https://urllib3.readthedocs.io/en/latest/advanced-usage.html#tls-warnings\n",
      "  warnings.warn(\n"
     ]
    },
    {
     "name": "stdout",
     "output_type": "stream",
     "text": [
      "Details for 'Loro' found and added to the list.\n"
     ]
    },
    {
     "name": "stderr",
     "output_type": "stream",
     "text": [
      "/opt/anaconda3/lib/python3.11/site-packages/urllib3/connectionpool.py:1100: InsecureRequestWarning: Unverified HTTPS request is being made to host 'api.themoviedb.org'. Adding certificate verification is strongly advised. See: https://urllib3.readthedocs.io/en/latest/advanced-usage.html#tls-warnings\n",
      "  warnings.warn(\n"
     ]
    },
    {
     "name": "stdout",
     "output_type": "stream",
     "text": [
      "Movie ID for 'Falling Inn Love': 623195\n"
     ]
    },
    {
     "name": "stderr",
     "output_type": "stream",
     "text": [
      "/opt/anaconda3/lib/python3.11/site-packages/urllib3/connectionpool.py:1100: InsecureRequestWarning: Unverified HTTPS request is being made to host 'api.themoviedb.org'. Adding certificate verification is strongly advised. See: https://urllib3.readthedocs.io/en/latest/advanced-usage.html#tls-warnings\n",
      "  warnings.warn(\n"
     ]
    },
    {
     "name": "stdout",
     "output_type": "stream",
     "text": [
      "Details for 'Falling Inn Love' found and added to the list.\n"
     ]
    },
    {
     "name": "stderr",
     "output_type": "stream",
     "text": [
      "/opt/anaconda3/lib/python3.11/site-packages/urllib3/connectionpool.py:1100: InsecureRequestWarning: Unverified HTTPS request is being made to host 'api.themoviedb.org'. Adding certificate verification is strongly advised. See: https://urllib3.readthedocs.io/en/latest/advanced-usage.html#tls-warnings\n",
      "  warnings.warn(\n"
     ]
    },
    {
     "name": "stdout",
     "output_type": "stream",
     "text": [
      "Movie ID for 'Hot Air': 479315\n"
     ]
    },
    {
     "name": "stderr",
     "output_type": "stream",
     "text": [
      "/opt/anaconda3/lib/python3.11/site-packages/urllib3/connectionpool.py:1100: InsecureRequestWarning: Unverified HTTPS request is being made to host 'api.themoviedb.org'. Adding certificate verification is strongly advised. See: https://urllib3.readthedocs.io/en/latest/advanced-usage.html#tls-warnings\n",
      "  warnings.warn(\n"
     ]
    },
    {
     "name": "stdout",
     "output_type": "stream",
     "text": [
      "Details for 'Hot Air' found and added to the list.\n"
     ]
    },
    {
     "name": "stderr",
     "output_type": "stream",
     "text": [
      "/opt/anaconda3/lib/python3.11/site-packages/urllib3/connectionpool.py:1100: InsecureRequestWarning: Unverified HTTPS request is being made to host 'api.themoviedb.org'. Adding certificate verification is strongly advised. See: https://urllib3.readthedocs.io/en/latest/advanced-usage.html#tls-warnings\n",
      "  warnings.warn(\n"
     ]
    },
    {
     "name": "stdout",
     "output_type": "stream",
     "text": [
      "Movie ID for 'Love, Antosha': 565276\n"
     ]
    },
    {
     "name": "stderr",
     "output_type": "stream",
     "text": [
      "/opt/anaconda3/lib/python3.11/site-packages/urllib3/connectionpool.py:1100: InsecureRequestWarning: Unverified HTTPS request is being made to host 'api.themoviedb.org'. Adding certificate verification is strongly advised. See: https://urllib3.readthedocs.io/en/latest/advanced-usage.html#tls-warnings\n",
      "  warnings.warn(\n"
     ]
    },
    {
     "name": "stdout",
     "output_type": "stream",
     "text": [
      "Details for 'Love, Antosha' found and added to the list.\n"
     ]
    },
    {
     "name": "stderr",
     "output_type": "stream",
     "text": [
      "/opt/anaconda3/lib/python3.11/site-packages/urllib3/connectionpool.py:1100: InsecureRequestWarning: Unverified HTTPS request is being made to host 'api.themoviedb.org'. Adding certificate verification is strongly advised. See: https://urllib3.readthedocs.io/en/latest/advanced-usage.html#tls-warnings\n",
      "  warnings.warn(\n"
     ]
    },
    {
     "name": "stdout",
     "output_type": "stream",
     "text": [
      "Movie ID for 'Leto': 204513\n"
     ]
    },
    {
     "name": "stderr",
     "output_type": "stream",
     "text": [
      "/opt/anaconda3/lib/python3.11/site-packages/urllib3/connectionpool.py:1100: InsecureRequestWarning: Unverified HTTPS request is being made to host 'api.themoviedb.org'. Adding certificate verification is strongly advised. See: https://urllib3.readthedocs.io/en/latest/advanced-usage.html#tls-warnings\n",
      "  warnings.warn(\n"
     ]
    },
    {
     "name": "stdout",
     "output_type": "stream",
     "text": [
      "Details for 'Leto' found and added to the list.\n"
     ]
    },
    {
     "name": "stderr",
     "output_type": "stream",
     "text": [
      "/opt/anaconda3/lib/python3.11/site-packages/urllib3/connectionpool.py:1100: InsecureRequestWarning: Unverified HTTPS request is being made to host 'api.themoviedb.org'. Adding certificate verification is strongly advised. See: https://urllib3.readthedocs.io/en/latest/advanced-usage.html#tls-warnings\n",
      "  warnings.warn(\n"
     ]
    },
    {
     "name": "stdout",
     "output_type": "stream",
     "text": [
      "Movie ID for 'The Tomorrow Man': 565391\n"
     ]
    },
    {
     "name": "stderr",
     "output_type": "stream",
     "text": [
      "/opt/anaconda3/lib/python3.11/site-packages/urllib3/connectionpool.py:1100: InsecureRequestWarning: Unverified HTTPS request is being made to host 'api.themoviedb.org'. Adding certificate verification is strongly advised. See: https://urllib3.readthedocs.io/en/latest/advanced-usage.html#tls-warnings\n",
      "  warnings.warn(\n"
     ]
    },
    {
     "name": "stdout",
     "output_type": "stream",
     "text": [
      "Details for 'The Tomorrow Man' found and added to the list.\n"
     ]
    },
    {
     "name": "stderr",
     "output_type": "stream",
     "text": [
      "/opt/anaconda3/lib/python3.11/site-packages/urllib3/connectionpool.py:1100: InsecureRequestWarning: Unverified HTTPS request is being made to host 'api.themoviedb.org'. Adding certificate verification is strongly advised. See: https://urllib3.readthedocs.io/en/latest/advanced-usage.html#tls-warnings\n",
      "  warnings.warn(\n"
     ]
    },
    {
     "name": "stdout",
     "output_type": "stream",
     "text": [
      "Movie ID for 'Asako I & II': 487850\n"
     ]
    },
    {
     "name": "stderr",
     "output_type": "stream",
     "text": [
      "/opt/anaconda3/lib/python3.11/site-packages/urllib3/connectionpool.py:1100: InsecureRequestWarning: Unverified HTTPS request is being made to host 'api.themoviedb.org'. Adding certificate verification is strongly advised. See: https://urllib3.readthedocs.io/en/latest/advanced-usage.html#tls-warnings\n",
      "  warnings.warn(\n"
     ]
    },
    {
     "name": "stdout",
     "output_type": "stream",
     "text": [
      "Details for 'Asako I & II' found and added to the list.\n"
     ]
    },
    {
     "name": "stderr",
     "output_type": "stream",
     "text": [
      "/opt/anaconda3/lib/python3.11/site-packages/urllib3/connectionpool.py:1100: InsecureRequestWarning: Unverified HTTPS request is being made to host 'api.themoviedb.org'. Adding certificate verification is strongly advised. See: https://urllib3.readthedocs.io/en/latest/advanced-usage.html#tls-warnings\n",
      "  warnings.warn(\n"
     ]
    },
    {
     "name": "stdout",
     "output_type": "stream",
     "text": [
      "Movie ID for 'The Sun Is Also a Star': 508791\n"
     ]
    },
    {
     "name": "stderr",
     "output_type": "stream",
     "text": [
      "/opt/anaconda3/lib/python3.11/site-packages/urllib3/connectionpool.py:1100: InsecureRequestWarning: Unverified HTTPS request is being made to host 'api.themoviedb.org'. Adding certificate verification is strongly advised. See: https://urllib3.readthedocs.io/en/latest/advanced-usage.html#tls-warnings\n",
      "  warnings.warn(\n"
     ]
    },
    {
     "name": "stdout",
     "output_type": "stream",
     "text": [
      "Details for 'The Sun Is Also a Star' found and added to the list.\n"
     ]
    },
    {
     "name": "stderr",
     "output_type": "stream",
     "text": [
      "/opt/anaconda3/lib/python3.11/site-packages/urllib3/connectionpool.py:1100: InsecureRequestWarning: Unverified HTTPS request is being made to host 'api.themoviedb.org'. Adding certificate verification is strongly advised. See: https://urllib3.readthedocs.io/en/latest/advanced-usage.html#tls-warnings\n",
      "  warnings.warn(\n"
     ]
    },
    {
     "name": "stdout",
     "output_type": "stream",
     "text": [
      "Movie ID for 'Shéhérazade': 518671\n"
     ]
    },
    {
     "name": "stderr",
     "output_type": "stream",
     "text": [
      "/opt/anaconda3/lib/python3.11/site-packages/urllib3/connectionpool.py:1100: InsecureRequestWarning: Unverified HTTPS request is being made to host 'api.themoviedb.org'. Adding certificate verification is strongly advised. See: https://urllib3.readthedocs.io/en/latest/advanced-usage.html#tls-warnings\n",
      "  warnings.warn(\n"
     ]
    },
    {
     "name": "stdout",
     "output_type": "stream",
     "text": [
      "Details for 'Shéhérazade' found and added to the list.\n"
     ]
    },
    {
     "name": "stderr",
     "output_type": "stream",
     "text": [
      "/opt/anaconda3/lib/python3.11/site-packages/urllib3/connectionpool.py:1100: InsecureRequestWarning: Unverified HTTPS request is being made to host 'api.themoviedb.org'. Adding certificate verification is strongly advised. See: https://urllib3.readthedocs.io/en/latest/advanced-usage.html#tls-warnings\n",
      "  warnings.warn(\n"
     ]
    },
    {
     "name": "stdout",
     "output_type": "stream",
     "text": [
      "Movie ID for 'Long Shot': 459992\n"
     ]
    },
    {
     "name": "stderr",
     "output_type": "stream",
     "text": [
      "/opt/anaconda3/lib/python3.11/site-packages/urllib3/connectionpool.py:1100: InsecureRequestWarning: Unverified HTTPS request is being made to host 'api.themoviedb.org'. Adding certificate verification is strongly advised. See: https://urllib3.readthedocs.io/en/latest/advanced-usage.html#tls-warnings\n",
      "  warnings.warn(\n"
     ]
    },
    {
     "name": "stdout",
     "output_type": "stream",
     "text": [
      "Details for 'Long Shot' found and added to the list.\n"
     ]
    },
    {
     "name": "stderr",
     "output_type": "stream",
     "text": [
      "/opt/anaconda3/lib/python3.11/site-packages/urllib3/connectionpool.py:1100: InsecureRequestWarning: Unverified HTTPS request is being made to host 'api.themoviedb.org'. Adding certificate verification is strongly advised. See: https://urllib3.readthedocs.io/en/latest/advanced-usage.html#tls-warnings\n",
      "  warnings.warn(\n"
     ]
    },
    {
     "name": "stdout",
     "output_type": "stream",
     "text": [
      "Movie ID for 'Clara': 466532\n"
     ]
    },
    {
     "name": "stderr",
     "output_type": "stream",
     "text": [
      "/opt/anaconda3/lib/python3.11/site-packages/urllib3/connectionpool.py:1100: InsecureRequestWarning: Unverified HTTPS request is being made to host 'api.themoviedb.org'. Adding certificate verification is strongly advised. See: https://urllib3.readthedocs.io/en/latest/advanced-usage.html#tls-warnings\n",
      "  warnings.warn(\n"
     ]
    },
    {
     "name": "stdout",
     "output_type": "stream",
     "text": [
      "Details for 'Clara' found and added to the list.\n"
     ]
    },
    {
     "name": "stderr",
     "output_type": "stream",
     "text": [
      "/opt/anaconda3/lib/python3.11/site-packages/urllib3/connectionpool.py:1100: InsecureRequestWarning: Unverified HTTPS request is being made to host 'api.themoviedb.org'. Adding certificate verification is strongly advised. See: https://urllib3.readthedocs.io/en/latest/advanced-usage.html#tls-warnings\n",
      "  warnings.warn(\n"
     ]
    },
    {
     "name": "stdout",
     "output_type": "stream",
     "text": [
      "Movie ID for 'Kalank': 556271\n"
     ]
    },
    {
     "name": "stderr",
     "output_type": "stream",
     "text": [
      "/opt/anaconda3/lib/python3.11/site-packages/urllib3/connectionpool.py:1100: InsecureRequestWarning: Unverified HTTPS request is being made to host 'api.themoviedb.org'. Adding certificate verification is strongly advised. See: https://urllib3.readthedocs.io/en/latest/advanced-usage.html#tls-warnings\n",
      "  warnings.warn(\n"
     ]
    },
    {
     "name": "stdout",
     "output_type": "stream",
     "text": [
      "Details for 'Kalank' found and added to the list.\n"
     ]
    },
    {
     "name": "stderr",
     "output_type": "stream",
     "text": [
      "/opt/anaconda3/lib/python3.11/site-packages/urllib3/connectionpool.py:1100: InsecureRequestWarning: Unverified HTTPS request is being made to host 'api.themoviedb.org'. Adding certificate verification is strongly advised. See: https://urllib3.readthedocs.io/en/latest/advanced-usage.html#tls-warnings\n",
      "  warnings.warn(\n"
     ]
    },
    {
     "name": "stdout",
     "output_type": "stream",
     "text": [
      "Movie ID for 'Rafiki': 517987\n"
     ]
    },
    {
     "name": "stderr",
     "output_type": "stream",
     "text": [
      "/opt/anaconda3/lib/python3.11/site-packages/urllib3/connectionpool.py:1100: InsecureRequestWarning: Unverified HTTPS request is being made to host 'api.themoviedb.org'. Adding certificate verification is strongly advised. See: https://urllib3.readthedocs.io/en/latest/advanced-usage.html#tls-warnings\n",
      "  warnings.warn(\n"
     ]
    },
    {
     "name": "stdout",
     "output_type": "stream",
     "text": [
      "Details for 'Rafiki' found and added to the list.\n"
     ]
    },
    {
     "name": "stderr",
     "output_type": "stream",
     "text": [
      "/opt/anaconda3/lib/python3.11/site-packages/urllib3/connectionpool.py:1100: InsecureRequestWarning: Unverified HTTPS request is being made to host 'api.themoviedb.org'. Adding certificate verification is strongly advised. See: https://urllib3.readthedocs.io/en/latest/advanced-usage.html#tls-warnings\n",
      "  warnings.warn(\n"
     ]
    },
    {
     "name": "stdout",
     "output_type": "stream",
     "text": [
      "Movie ID for 'Diane': 177046\n"
     ]
    },
    {
     "name": "stderr",
     "output_type": "stream",
     "text": [
      "/opt/anaconda3/lib/python3.11/site-packages/urllib3/connectionpool.py:1100: InsecureRequestWarning: Unverified HTTPS request is being made to host 'api.themoviedb.org'. Adding certificate verification is strongly advised. See: https://urllib3.readthedocs.io/en/latest/advanced-usage.html#tls-warnings\n",
      "  warnings.warn(\n"
     ]
    },
    {
     "name": "stdout",
     "output_type": "stream",
     "text": [
      "Details for 'Diane' found and added to the list.\n"
     ]
    },
    {
     "name": "stderr",
     "output_type": "stream",
     "text": [
      "/opt/anaconda3/lib/python3.11/site-packages/urllib3/connectionpool.py:1100: InsecureRequestWarning: Unverified HTTPS request is being made to host 'api.themoviedb.org'. Adding certificate verification is strongly advised. See: https://urllib3.readthedocs.io/en/latest/advanced-usage.html#tls-warnings\n",
      "  warnings.warn(\n"
     ]
    },
    {
     "name": "stdout",
     "output_type": "stream",
     "text": [
      "Movie ID for 'Five Feet Apart': 527641\n"
     ]
    },
    {
     "name": "stderr",
     "output_type": "stream",
     "text": [
      "/opt/anaconda3/lib/python3.11/site-packages/urllib3/connectionpool.py:1100: InsecureRequestWarning: Unverified HTTPS request is being made to host 'api.themoviedb.org'. Adding certificate verification is strongly advised. See: https://urllib3.readthedocs.io/en/latest/advanced-usage.html#tls-warnings\n",
      "  warnings.warn(\n"
     ]
    },
    {
     "name": "stdout",
     "output_type": "stream",
     "text": [
      "Details for 'Five Feet Apart' found and added to the list.\n"
     ]
    },
    {
     "name": "stderr",
     "output_type": "stream",
     "text": [
      "/opt/anaconda3/lib/python3.11/site-packages/urllib3/connectionpool.py:1100: InsecureRequestWarning: Unverified HTTPS request is being made to host 'api.themoviedb.org'. Adding certificate verification is strongly advised. See: https://urllib3.readthedocs.io/en/latest/advanced-usage.html#tls-warnings\n",
      "  warnings.warn(\n"
     ]
    },
    {
     "name": "stdout",
     "output_type": "stream",
     "text": [
      "Movie ID for 'Ash Is Purest White': 441393\n"
     ]
    },
    {
     "name": "stderr",
     "output_type": "stream",
     "text": [
      "/opt/anaconda3/lib/python3.11/site-packages/urllib3/connectionpool.py:1100: InsecureRequestWarning: Unverified HTTPS request is being made to host 'api.themoviedb.org'. Adding certificate verification is strongly advised. See: https://urllib3.readthedocs.io/en/latest/advanced-usage.html#tls-warnings\n",
      "  warnings.warn(\n"
     ]
    },
    {
     "name": "stdout",
     "output_type": "stream",
     "text": [
      "Details for 'Ash Is Purest White' found and added to the list.\n"
     ]
    },
    {
     "name": "stderr",
     "output_type": "stream",
     "text": [
      "/opt/anaconda3/lib/python3.11/site-packages/urllib3/connectionpool.py:1100: InsecureRequestWarning: Unverified HTTPS request is being made to host 'api.themoviedb.org'. Adding certificate verification is strongly advised. See: https://urllib3.readthedocs.io/en/latest/advanced-usage.html#tls-warnings\n",
      "  warnings.warn(\n"
     ]
    },
    {
     "name": "stdout",
     "output_type": "stream",
     "text": [
      "Movie ID for 'Gloria Bell': 491473\n"
     ]
    },
    {
     "name": "stderr",
     "output_type": "stream",
     "text": [
      "/opt/anaconda3/lib/python3.11/site-packages/urllib3/connectionpool.py:1100: InsecureRequestWarning: Unverified HTTPS request is being made to host 'api.themoviedb.org'. Adding certificate verification is strongly advised. See: https://urllib3.readthedocs.io/en/latest/advanced-usage.html#tls-warnings\n",
      "  warnings.warn(\n"
     ]
    },
    {
     "name": "stdout",
     "output_type": "stream",
     "text": [
      "Details for 'Gloria Bell' found and added to the list.\n"
     ]
    },
    {
     "name": "stderr",
     "output_type": "stream",
     "text": [
      "/opt/anaconda3/lib/python3.11/site-packages/urllib3/connectionpool.py:1100: InsecureRequestWarning: Unverified HTTPS request is being made to host 'api.themoviedb.org'. Adding certificate verification is strongly advised. See: https://urllib3.readthedocs.io/en/latest/advanced-usage.html#tls-warnings\n",
      "  warnings.warn(\n"
     ]
    },
    {
     "name": "stdout",
     "output_type": "stream",
     "text": [
      "Movie ID for 'Black Mother': 500859\n"
     ]
    },
    {
     "name": "stderr",
     "output_type": "stream",
     "text": [
      "/opt/anaconda3/lib/python3.11/site-packages/urllib3/connectionpool.py:1100: InsecureRequestWarning: Unverified HTTPS request is being made to host 'api.themoviedb.org'. Adding certificate verification is strongly advised. See: https://urllib3.readthedocs.io/en/latest/advanced-usage.html#tls-warnings\n",
      "  warnings.warn(\n"
     ]
    },
    {
     "name": "stdout",
     "output_type": "stream",
     "text": [
      "Details for 'Black Mother' found and added to the list.\n"
     ]
    },
    {
     "name": "stderr",
     "output_type": "stream",
     "text": [
      "/opt/anaconda3/lib/python3.11/site-packages/urllib3/connectionpool.py:1100: InsecureRequestWarning: Unverified HTTPS request is being made to host 'api.themoviedb.org'. Adding certificate verification is strongly advised. See: https://urllib3.readthedocs.io/en/latest/advanced-usage.html#tls-warnings\n",
      "  warnings.warn(\n"
     ]
    },
    {
     "name": "stdout",
     "output_type": "stream",
     "text": [
      "Movie ID for 'The Hole in the Ground': 484437\n"
     ]
    },
    {
     "name": "stderr",
     "output_type": "stream",
     "text": [
      "/opt/anaconda3/lib/python3.11/site-packages/urllib3/connectionpool.py:1100: InsecureRequestWarning: Unverified HTTPS request is being made to host 'api.themoviedb.org'. Adding certificate verification is strongly advised. See: https://urllib3.readthedocs.io/en/latest/advanced-usage.html#tls-warnings\n",
      "  warnings.warn(\n"
     ]
    },
    {
     "name": "stdout",
     "output_type": "stream",
     "text": [
      "Details for 'The Hole in the Ground' found and added to the list.\n"
     ]
    },
    {
     "name": "stderr",
     "output_type": "stream",
     "text": [
      "/opt/anaconda3/lib/python3.11/site-packages/urllib3/connectionpool.py:1100: InsecureRequestWarning: Unverified HTTPS request is being made to host 'api.themoviedb.org'. Adding certificate verification is strongly advised. See: https://urllib3.readthedocs.io/en/latest/advanced-usage.html#tls-warnings\n",
      "  warnings.warn(\n"
     ]
    },
    {
     "name": "stdout",
     "output_type": "stream",
     "text": [
      "Movie ID for 'How to Train Your Dragon: The Hidden World': 166428\n"
     ]
    },
    {
     "name": "stderr",
     "output_type": "stream",
     "text": [
      "/opt/anaconda3/lib/python3.11/site-packages/urllib3/connectionpool.py:1100: InsecureRequestWarning: Unverified HTTPS request is being made to host 'api.themoviedb.org'. Adding certificate verification is strongly advised. See: https://urllib3.readthedocs.io/en/latest/advanced-usage.html#tls-warnings\n",
      "  warnings.warn(\n"
     ]
    },
    {
     "name": "stdout",
     "output_type": "stream",
     "text": [
      "Details for 'How to Train Your Dragon: The Hidden World' found and added to the list.\n"
     ]
    },
    {
     "name": "stderr",
     "output_type": "stream",
     "text": [
      "/opt/anaconda3/lib/python3.11/site-packages/urllib3/connectionpool.py:1100: InsecureRequestWarning: Unverified HTTPS request is being made to host 'api.themoviedb.org'. Adding certificate verification is strongly advised. See: https://urllib3.readthedocs.io/en/latest/advanced-usage.html#tls-warnings\n",
      "  warnings.warn(\n"
     ]
    },
    {
     "name": "stdout",
     "output_type": "stream",
     "text": [
      "Movie ID for 'A Tuba to Cuba': 502190\n"
     ]
    },
    {
     "name": "stderr",
     "output_type": "stream",
     "text": [
      "/opt/anaconda3/lib/python3.11/site-packages/urllib3/connectionpool.py:1100: InsecureRequestWarning: Unverified HTTPS request is being made to host 'api.themoviedb.org'. Adding certificate verification is strongly advised. See: https://urllib3.readthedocs.io/en/latest/advanced-usage.html#tls-warnings\n",
      "  warnings.warn(\n"
     ]
    },
    {
     "name": "stdout",
     "output_type": "stream",
     "text": [
      "Details for 'A Tuba to Cuba' found and added to the list.\n"
     ]
    },
    {
     "name": "stderr",
     "output_type": "stream",
     "text": [
      "/opt/anaconda3/lib/python3.11/site-packages/urllib3/connectionpool.py:1100: InsecureRequestWarning: Unverified HTTPS request is being made to host 'api.themoviedb.org'. Adding certificate verification is strongly advised. See: https://urllib3.readthedocs.io/en/latest/advanced-usage.html#tls-warnings\n",
      "  warnings.warn(\n"
     ]
    },
    {
     "name": "stdout",
     "output_type": "stream",
     "text": [
      "Movie ID for 'Fighting With My Family': 445629\n"
     ]
    },
    {
     "name": "stderr",
     "output_type": "stream",
     "text": [
      "/opt/anaconda3/lib/python3.11/site-packages/urllib3/connectionpool.py:1100: InsecureRequestWarning: Unverified HTTPS request is being made to host 'api.themoviedb.org'. Adding certificate verification is strongly advised. See: https://urllib3.readthedocs.io/en/latest/advanced-usage.html#tls-warnings\n",
      "  warnings.warn(\n"
     ]
    },
    {
     "name": "stdout",
     "output_type": "stream",
     "text": [
      "Details for 'Fighting With My Family' found and added to the list.\n"
     ]
    },
    {
     "name": "stderr",
     "output_type": "stream",
     "text": [
      "/opt/anaconda3/lib/python3.11/site-packages/urllib3/connectionpool.py:1100: InsecureRequestWarning: Unverified HTTPS request is being made to host 'api.themoviedb.org'. Adding certificate verification is strongly advised. See: https://urllib3.readthedocs.io/en/latest/advanced-usage.html#tls-warnings\n",
      "  warnings.warn(\n"
     ]
    },
    {
     "name": "stdout",
     "output_type": "stream",
     "text": [
      "Movie ID for 'Sorry Angel': 485189\n"
     ]
    },
    {
     "name": "stderr",
     "output_type": "stream",
     "text": [
      "/opt/anaconda3/lib/python3.11/site-packages/urllib3/connectionpool.py:1100: InsecureRequestWarning: Unverified HTTPS request is being made to host 'api.themoviedb.org'. Adding certificate verification is strongly advised. See: https://urllib3.readthedocs.io/en/latest/advanced-usage.html#tls-warnings\n",
      "  warnings.warn(\n"
     ]
    },
    {
     "name": "stdout",
     "output_type": "stream",
     "text": [
      "Details for 'Sorry Angel' found and added to the list.\n"
     ]
    },
    {
     "name": "stderr",
     "output_type": "stream",
     "text": [
      "/opt/anaconda3/lib/python3.11/site-packages/urllib3/connectionpool.py:1100: InsecureRequestWarning: Unverified HTTPS request is being made to host 'api.themoviedb.org'. Adding certificate verification is strongly advised. See: https://urllib3.readthedocs.io/en/latest/advanced-usage.html#tls-warnings\n",
      "  warnings.warn(\n"
     ]
    },
    {
     "name": "stdout",
     "output_type": "stream",
     "text": [
      "Movie ID for 'Berlin, I Love You': 401686\n"
     ]
    },
    {
     "name": "stderr",
     "output_type": "stream",
     "text": [
      "/opt/anaconda3/lib/python3.11/site-packages/urllib3/connectionpool.py:1100: InsecureRequestWarning: Unverified HTTPS request is being made to host 'api.themoviedb.org'. Adding certificate verification is strongly advised. See: https://urllib3.readthedocs.io/en/latest/advanced-usage.html#tls-warnings\n",
      "  warnings.warn(\n"
     ]
    },
    {
     "name": "stdout",
     "output_type": "stream",
     "text": [
      "Details for 'Berlin, I Love You' found and added to the list.\n"
     ]
    },
    {
     "name": "stderr",
     "output_type": "stream",
     "text": [
      "/opt/anaconda3/lib/python3.11/site-packages/urllib3/connectionpool.py:1100: InsecureRequestWarning: Unverified HTTPS request is being made to host 'api.themoviedb.org'. Adding certificate verification is strongly advised. See: https://urllib3.readthedocs.io/en/latest/advanced-usage.html#tls-warnings\n",
      "  warnings.warn(\n"
     ]
    },
    {
     "name": "stdout",
     "output_type": "stream",
     "text": [
      "Movie ID for 'Untogether': 424651\n"
     ]
    },
    {
     "name": "stderr",
     "output_type": "stream",
     "text": [
      "/opt/anaconda3/lib/python3.11/site-packages/urllib3/connectionpool.py:1100: InsecureRequestWarning: Unverified HTTPS request is being made to host 'api.themoviedb.org'. Adding certificate verification is strongly advised. See: https://urllib3.readthedocs.io/en/latest/advanced-usage.html#tls-warnings\n",
      "  warnings.warn(\n"
     ]
    },
    {
     "name": "stdout",
     "output_type": "stream",
     "text": [
      "Details for 'Untogether' found and added to the list.\n"
     ]
    },
    {
     "name": "stderr",
     "output_type": "stream",
     "text": [
      "/opt/anaconda3/lib/python3.11/site-packages/urllib3/connectionpool.py:1100: InsecureRequestWarning: Unverified HTTPS request is being made to host 'api.themoviedb.org'. Adding certificate verification is strongly advised. See: https://urllib3.readthedocs.io/en/latest/advanced-usage.html#tls-warnings\n",
      "  warnings.warn(\n"
     ]
    },
    {
     "name": "stdout",
     "output_type": "stream",
     "text": [
      "Movie ID for 'Cold War': 440298\n"
     ]
    },
    {
     "name": "stderr",
     "output_type": "stream",
     "text": [
      "/opt/anaconda3/lib/python3.11/site-packages/urllib3/connectionpool.py:1100: InsecureRequestWarning: Unverified HTTPS request is being made to host 'api.themoviedb.org'. Adding certificate verification is strongly advised. See: https://urllib3.readthedocs.io/en/latest/advanced-usage.html#tls-warnings\n",
      "  warnings.warn(\n"
     ]
    },
    {
     "name": "stdout",
     "output_type": "stream",
     "text": [
      "Details for 'Cold War' found and added to the list.\n"
     ]
    },
    {
     "name": "stderr",
     "output_type": "stream",
     "text": [
      "/opt/anaconda3/lib/python3.11/site-packages/urllib3/connectionpool.py:1100: InsecureRequestWarning: Unverified HTTPS request is being made to host 'api.themoviedb.org'. Adding certificate verification is strongly advised. See: https://urllib3.readthedocs.io/en/latest/advanced-usage.html#tls-warnings\n",
      "  warnings.warn(\n"
     ]
    },
    {
     "name": "stdout",
     "output_type": "stream",
     "text": [
      "Movie ID for 'If Beale Street Could Talk': 465914\n"
     ]
    },
    {
     "name": "stderr",
     "output_type": "stream",
     "text": [
      "/opt/anaconda3/lib/python3.11/site-packages/urllib3/connectionpool.py:1100: InsecureRequestWarning: Unverified HTTPS request is being made to host 'api.themoviedb.org'. Adding certificate verification is strongly advised. See: https://urllib3.readthedocs.io/en/latest/advanced-usage.html#tls-warnings\n",
      "  warnings.warn(\n"
     ]
    },
    {
     "name": "stdout",
     "output_type": "stream",
     "text": [
      "Details for 'If Beale Street Could Talk' found and added to the list.\n"
     ]
    },
    {
     "name": "stderr",
     "output_type": "stream",
     "text": [
      "/opt/anaconda3/lib/python3.11/site-packages/urllib3/connectionpool.py:1100: InsecureRequestWarning: Unverified HTTPS request is being made to host 'api.themoviedb.org'. Adding certificate verification is strongly advised. See: https://urllib3.readthedocs.io/en/latest/advanced-usage.html#tls-warnings\n",
      "  warnings.warn(\n"
     ]
    },
    {
     "name": "stdout",
     "output_type": "stream",
     "text": [
      "Movie ID for 'Asher': 529982\n"
     ]
    },
    {
     "name": "stderr",
     "output_type": "stream",
     "text": [
      "/opt/anaconda3/lib/python3.11/site-packages/urllib3/connectionpool.py:1100: InsecureRequestWarning: Unverified HTTPS request is being made to host 'api.themoviedb.org'. Adding certificate verification is strongly advised. See: https://urllib3.readthedocs.io/en/latest/advanced-usage.html#tls-warnings\n",
      "  warnings.warn(\n"
     ]
    },
    {
     "name": "stdout",
     "output_type": "stream",
     "text": [
      "Details for 'Asher' found and added to the list.\n"
     ]
    },
    {
     "name": "stderr",
     "output_type": "stream",
     "text": [
      "/opt/anaconda3/lib/python3.11/site-packages/urllib3/connectionpool.py:1100: InsecureRequestWarning: Unverified HTTPS request is being made to host 'api.themoviedb.org'. Adding certificate verification is strongly advised. See: https://urllib3.readthedocs.io/en/latest/advanced-usage.html#tls-warnings\n",
      "  warnings.warn(\n"
     ]
    },
    {
     "name": "stdout",
     "output_type": "stream",
     "text": [
      "Movie ID for 'The Party’s Just Beginning': 435557\n"
     ]
    },
    {
     "name": "stderr",
     "output_type": "stream",
     "text": [
      "/opt/anaconda3/lib/python3.11/site-packages/urllib3/connectionpool.py:1100: InsecureRequestWarning: Unverified HTTPS request is being made to host 'api.themoviedb.org'. Adding certificate verification is strongly advised. See: https://urllib3.readthedocs.io/en/latest/advanced-usage.html#tls-warnings\n",
      "  warnings.warn(\n"
     ]
    },
    {
     "name": "stdout",
     "output_type": "stream",
     "text": [
      "Details for 'The Party’s Just Beginning' found and added to the list.\n"
     ]
    },
    {
     "name": "stderr",
     "output_type": "stream",
     "text": [
      "/opt/anaconda3/lib/python3.11/site-packages/urllib3/connectionpool.py:1100: InsecureRequestWarning: Unverified HTTPS request is being made to host 'api.themoviedb.org'. Adding certificate verification is strongly advised. See: https://urllib3.readthedocs.io/en/latest/advanced-usage.html#tls-warnings\n",
      "  warnings.warn(\n"
     ]
    },
    {
     "name": "stdout",
     "output_type": "stream",
     "text": [
      "Movie ID for 'The Great Pretender': 465937\n"
     ]
    },
    {
     "name": "stderr",
     "output_type": "stream",
     "text": [
      "/opt/anaconda3/lib/python3.11/site-packages/urllib3/connectionpool.py:1100: InsecureRequestWarning: Unverified HTTPS request is being made to host 'api.themoviedb.org'. Adding certificate verification is strongly advised. See: https://urllib3.readthedocs.io/en/latest/advanced-usage.html#tls-warnings\n",
      "  warnings.warn(\n"
     ]
    },
    {
     "name": "stdout",
     "output_type": "stream",
     "text": [
      "Details for 'The Great Pretender' found and added to the list.\n"
     ]
    },
    {
     "name": "stderr",
     "output_type": "stream",
     "text": [
      "/opt/anaconda3/lib/python3.11/site-packages/urllib3/connectionpool.py:1100: InsecureRequestWarning: Unverified HTTPS request is being made to host 'api.themoviedb.org'. Adding certificate verification is strongly advised. See: https://urllib3.readthedocs.io/en/latest/advanced-usage.html#tls-warnings\n",
      "  warnings.warn(\n"
     ]
    },
    {
     "name": "stdout",
     "output_type": "stream",
     "text": [
      "Movie ID for 'Sicilian Ghost Story': 453347\n"
     ]
    },
    {
     "name": "stderr",
     "output_type": "stream",
     "text": [
      "/opt/anaconda3/lib/python3.11/site-packages/urllib3/connectionpool.py:1100: InsecureRequestWarning: Unverified HTTPS request is being made to host 'api.themoviedb.org'. Adding certificate verification is strongly advised. See: https://urllib3.readthedocs.io/en/latest/advanced-usage.html#tls-warnings\n",
      "  warnings.warn(\n",
      "/opt/anaconda3/lib/python3.11/site-packages/urllib3/connectionpool.py:1100: InsecureRequestWarning: Unverified HTTPS request is being made to host 'api.themoviedb.org'. Adding certificate verification is strongly advised. See: https://urllib3.readthedocs.io/en/latest/advanced-usage.html#tls-warnings\n",
      "  warnings.warn(\n"
     ]
    },
    {
     "name": "stdout",
     "output_type": "stream",
     "text": [
      "Details for 'Sicilian Ghost Story' found and added to the list.\n",
      "Movie ID for 'The New Romantic': 497864\n"
     ]
    },
    {
     "name": "stderr",
     "output_type": "stream",
     "text": [
      "/opt/anaconda3/lib/python3.11/site-packages/urllib3/connectionpool.py:1100: InsecureRequestWarning: Unverified HTTPS request is being made to host 'api.themoviedb.org'. Adding certificate verification is strongly advised. See: https://urllib3.readthedocs.io/en/latest/advanced-usage.html#tls-warnings\n",
      "  warnings.warn(\n"
     ]
    },
    {
     "name": "stdout",
     "output_type": "stream",
     "text": [
      "Details for 'The New Romantic' found and added to the list.\n"
     ]
    },
    {
     "name": "stderr",
     "output_type": "stream",
     "text": [
      "/opt/anaconda3/lib/python3.11/site-packages/urllib3/connectionpool.py:1100: InsecureRequestWarning: Unverified HTTPS request is being made to host 'api.themoviedb.org'. Adding certificate verification is strongly advised. See: https://urllib3.readthedocs.io/en/latest/advanced-usage.html#tls-warnings\n",
      "  warnings.warn(\n"
     ]
    },
    {
     "name": "stdout",
     "output_type": "stream",
     "text": [
      "Movie ID for 'Pimp': 417688\n"
     ]
    },
    {
     "name": "stderr",
     "output_type": "stream",
     "text": [
      "/opt/anaconda3/lib/python3.11/site-packages/urllib3/connectionpool.py:1100: InsecureRequestWarning: Unverified HTTPS request is being made to host 'api.themoviedb.org'. Adding certificate verification is strongly advised. See: https://urllib3.readthedocs.io/en/latest/advanced-usage.html#tls-warnings\n",
      "  warnings.warn(\n"
     ]
    },
    {
     "name": "stdout",
     "output_type": "stream",
     "text": [
      "Details for 'Pimp' found and added to the list.\n"
     ]
    },
    {
     "name": "stderr",
     "output_type": "stream",
     "text": [
      "/opt/anaconda3/lib/python3.11/site-packages/urllib3/connectionpool.py:1100: InsecureRequestWarning: Unverified HTTPS request is being made to host 'api.themoviedb.org'. Adding certificate verification is strongly advised. See: https://urllib3.readthedocs.io/en/latest/advanced-usage.html#tls-warnings\n",
      "  warnings.warn(\n"
     ]
    },
    {
     "name": "stdout",
     "output_type": "stream",
     "text": [
      "Movie ID for 'In a Relationship': 448447\n"
     ]
    },
    {
     "name": "stderr",
     "output_type": "stream",
     "text": [
      "/opt/anaconda3/lib/python3.11/site-packages/urllib3/connectionpool.py:1100: InsecureRequestWarning: Unverified HTTPS request is being made to host 'api.themoviedb.org'. Adding certificate verification is strongly advised. See: https://urllib3.readthedocs.io/en/latest/advanced-usage.html#tls-warnings\n",
      "  warnings.warn(\n"
     ]
    },
    {
     "name": "stdout",
     "output_type": "stream",
     "text": [
      "Details for 'In a Relationship' found and added to the list.\n"
     ]
    },
    {
     "name": "stderr",
     "output_type": "stream",
     "text": [
      "/opt/anaconda3/lib/python3.11/site-packages/urllib3/connectionpool.py:1100: InsecureRequestWarning: Unverified HTTPS request is being made to host 'api.themoviedb.org'. Adding certificate verification is strongly advised. See: https://urllib3.readthedocs.io/en/latest/advanced-usage.html#tls-warnings\n",
      "  warnings.warn(\n",
      "/opt/anaconda3/lib/python3.11/site-packages/urllib3/connectionpool.py:1100: InsecureRequestWarning: Unverified HTTPS request is being made to host 'api.themoviedb.org'. Adding certificate verification is strongly advised. See: https://urllib3.readthedocs.io/en/latest/advanced-usage.html#tls-warnings\n",
      "  warnings.warn(\n"
     ]
    },
    {
     "name": "stdout",
     "output_type": "stream",
     "text": [
      "No results found for 'They’ll Love Me When I’m Dead’ Documents Orson Welles’s Last Fil'\n",
      "No results found for 'Burning,’ Love Ignites a Divided Worl'\n"
     ]
    },
    {
     "name": "stderr",
     "output_type": "stream",
     "text": [
      "/opt/anaconda3/lib/python3.11/site-packages/urllib3/connectionpool.py:1100: InsecureRequestWarning: Unverified HTTPS request is being made to host 'api.themoviedb.org'. Adding certificate verification is strongly advised. See: https://urllib3.readthedocs.io/en/latest/advanced-usage.html#tls-warnings\n",
      "  warnings.warn(\n"
     ]
    },
    {
     "name": "stdout",
     "output_type": "stream",
     "text": [
      "No results found for 'After Everything,’ a Young Love Blooms in Crisi'\n"
     ]
    },
    {
     "name": "stderr",
     "output_type": "stream",
     "text": [
      "/opt/anaconda3/lib/python3.11/site-packages/urllib3/connectionpool.py:1100: InsecureRequestWarning: Unverified HTTPS request is being made to host 'api.themoviedb.org'. Adding certificate verification is strongly advised. See: https://urllib3.readthedocs.io/en/latest/advanced-usage.html#tls-warnings\n",
      "  warnings.warn(\n"
     ]
    },
    {
     "name": "stdout",
     "output_type": "stream",
     "text": [
      "No results found for 'Quincy’ Captures a Lifelong Love Affair With Musi'\n"
     ]
    },
    {
     "name": "stderr",
     "output_type": "stream",
     "text": [
      "/opt/anaconda3/lib/python3.11/site-packages/urllib3/connectionpool.py:1100: InsecureRequestWarning: Unverified HTTPS request is being made to host 'api.themoviedb.org'. Adding certificate verification is strongly advised. See: https://urllib3.readthedocs.io/en/latest/advanced-usage.html#tls-warnings\n",
      "  warnings.warn(\n",
      "/opt/anaconda3/lib/python3.11/site-packages/urllib3/connectionpool.py:1100: InsecureRequestWarning: Unverified HTTPS request is being made to host 'api.themoviedb.org'. Adding certificate verification is strongly advised. See: https://urllib3.readthedocs.io/en/latest/advanced-usage.html#tls-warnings\n",
      "  warnings.warn(\n"
     ]
    },
    {
     "name": "stdout",
     "output_type": "stream",
     "text": [
      "No results found for 'Love, Gilda,’ a Portrait of a Brief and Brilliant Caree'\n",
      "No results found for 'Tea With the Dames,’ Four Legends Dish on Acting and Lov'\n"
     ]
    },
    {
     "name": "stderr",
     "output_type": "stream",
     "text": [
      "/opt/anaconda3/lib/python3.11/site-packages/urllib3/connectionpool.py:1100: InsecureRequestWarning: Unverified HTTPS request is being made to host 'api.themoviedb.org'. Adding certificate verification is strongly advised. See: https://urllib3.readthedocs.io/en/latest/advanced-usage.html#tls-warnings\n",
      "  warnings.warn(\n"
     ]
    },
    {
     "name": "stdout",
     "output_type": "stream",
     "text": [
      "No results found for 'Bel Canto,’ Music Is the Food of Love and Rebellio'\n",
      "Sleeping for 1 second before the next request.\n"
     ]
    },
    {
     "name": "stderr",
     "output_type": "stream",
     "text": [
      "/opt/anaconda3/lib/python3.11/site-packages/urllib3/connectionpool.py:1100: InsecureRequestWarning: Unverified HTTPS request is being made to host 'api.themoviedb.org'. Adding certificate verification is strongly advised. See: https://urllib3.readthedocs.io/en/latest/advanced-usage.html#tls-warnings\n",
      "  warnings.warn(\n"
     ]
    },
    {
     "name": "stdout",
     "output_type": "stream",
     "text": [
      "No results found for 'The Citizen,’ an Immigrant Picks a Bad Time to Fall in Lov'\n",
      "No results found for 'Love, Cecil,’ an Aesthete Ahead of His Tim'\n"
     ]
    },
    {
     "name": "stderr",
     "output_type": "stream",
     "text": [
      "/opt/anaconda3/lib/python3.11/site-packages/urllib3/connectionpool.py:1100: InsecureRequestWarning: Unverified HTTPS request is being made to host 'api.themoviedb.org'. Adding certificate verification is strongly advised. See: https://urllib3.readthedocs.io/en/latest/advanced-usage.html#tls-warnings\n",
      "  warnings.warn(\n",
      "/opt/anaconda3/lib/python3.11/site-packages/urllib3/connectionpool.py:1100: InsecureRequestWarning: Unverified HTTPS request is being made to host 'api.themoviedb.org'. Adding certificate verification is strongly advised. See: https://urllib3.readthedocs.io/en/latest/advanced-usage.html#tls-warnings\n",
      "  warnings.warn(\n"
     ]
    },
    {
     "name": "stdout",
     "output_type": "stream",
     "text": [
      "Movie ID for 'How to Talk to Girls at Parties': 341689\n"
     ]
    },
    {
     "name": "stderr",
     "output_type": "stream",
     "text": [
      "/opt/anaconda3/lib/python3.11/site-packages/urllib3/connectionpool.py:1100: InsecureRequestWarning: Unverified HTTPS request is being made to host 'api.themoviedb.org'. Adding certificate verification is strongly advised. See: https://urllib3.readthedocs.io/en/latest/advanced-usage.html#tls-warnings\n",
      "  warnings.warn(\n",
      "/opt/anaconda3/lib/python3.11/site-packages/urllib3/connectionpool.py:1100: InsecureRequestWarning: Unverified HTTPS request is being made to host 'api.themoviedb.org'. Adding certificate verification is strongly advised. See: https://urllib3.readthedocs.io/en/latest/advanced-usage.html#tls-warnings\n",
      "  warnings.warn(\n"
     ]
    },
    {
     "name": "stdout",
     "output_type": "stream",
     "text": [
      "Details for 'How to Talk to Girls at Parties' found and added to the list.\n",
      "No results found for 'Rogers Park,’ Life and Love in a Chicago Neighborhoo'\n"
     ]
    },
    {
     "name": "stderr",
     "output_type": "stream",
     "text": [
      "/opt/anaconda3/lib/python3.11/site-packages/urllib3/connectionpool.py:1100: InsecureRequestWarning: Unverified HTTPS request is being made to host 'api.themoviedb.org'. Adding certificate verification is strongly advised. See: https://urllib3.readthedocs.io/en/latest/advanced-usage.html#tls-warnings\n",
      "  warnings.warn(\n"
     ]
    },
    {
     "name": "stdout",
     "output_type": "stream",
     "text": [
      "Movie ID for 'Love & Bananas,’ Uncovering the Plight of the Asian Elephan': 1248795\n"
     ]
    },
    {
     "name": "stderr",
     "output_type": "stream",
     "text": [
      "/opt/anaconda3/lib/python3.11/site-packages/urllib3/connectionpool.py:1100: InsecureRequestWarning: Unverified HTTPS request is being made to host 'api.themoviedb.org'. Adding certificate verification is strongly advised. See: https://urllib3.readthedocs.io/en/latest/advanced-usage.html#tls-warnings\n",
      "  warnings.warn(\n",
      "/opt/anaconda3/lib/python3.11/site-packages/urllib3/connectionpool.py:1100: InsecureRequestWarning: Unverified HTTPS request is being made to host 'api.themoviedb.org'. Adding certificate verification is strongly advised. See: https://urllib3.readthedocs.io/en/latest/advanced-usage.html#tls-warnings\n",
      "  warnings.warn(\n"
     ]
    },
    {
     "name": "stdout",
     "output_type": "stream",
     "text": [
      "Details for 'Love & Bananas,’ Uncovering the Plight of the Asian Elephan' found and added to the list.\n",
      "Movie ID for 'Godard Mon Amour': 416186\n"
     ]
    },
    {
     "name": "stderr",
     "output_type": "stream",
     "text": [
      "/opt/anaconda3/lib/python3.11/site-packages/urllib3/connectionpool.py:1100: InsecureRequestWarning: Unverified HTTPS request is being made to host 'api.themoviedb.org'. Adding certificate verification is strongly advised. See: https://urllib3.readthedocs.io/en/latest/advanced-usage.html#tls-warnings\n",
      "  warnings.warn(\n"
     ]
    },
    {
     "name": "stdout",
     "output_type": "stream",
     "text": [
      "Details for 'Godard Mon Amour' found and added to the list.\n",
      "No results found for 'Submergence,’ a Love Story Sunk by Geopolitic'\n"
     ]
    },
    {
     "name": "stderr",
     "output_type": "stream",
     "text": [
      "/opt/anaconda3/lib/python3.11/site-packages/urllib3/connectionpool.py:1100: InsecureRequestWarning: Unverified HTTPS request is being made to host 'api.themoviedb.org'. Adding certificate verification is strongly advised. See: https://urllib3.readthedocs.io/en/latest/advanced-usage.html#tls-warnings\n",
      "  warnings.warn(\n",
      "/opt/anaconda3/lib/python3.11/site-packages/urllib3/connectionpool.py:1100: InsecureRequestWarning: Unverified HTTPS request is being made to host 'api.themoviedb.org'. Adding certificate verification is strongly advised. See: https://urllib3.readthedocs.io/en/latest/advanced-usage.html#tls-warnings\n",
      "  warnings.warn(\n"
     ]
    },
    {
     "name": "stdout",
     "output_type": "stream",
     "text": [
      "No results found for 'Love After Love,’ an Unflinching Look at Extended Grie'\n",
      "Movie ID for 'Outside In': 472805\n"
     ]
    },
    {
     "name": "stderr",
     "output_type": "stream",
     "text": [
      "/opt/anaconda3/lib/python3.11/site-packages/urllib3/connectionpool.py:1100: InsecureRequestWarning: Unverified HTTPS request is being made to host 'api.themoviedb.org'. Adding certificate verification is strongly advised. See: https://urllib3.readthedocs.io/en/latest/advanced-usage.html#tls-warnings\n",
      "  warnings.warn(\n",
      "/opt/anaconda3/lib/python3.11/site-packages/urllib3/connectionpool.py:1100: InsecureRequestWarning: Unverified HTTPS request is being made to host 'api.themoviedb.org'. Adding certificate verification is strongly advised. See: https://urllib3.readthedocs.io/en/latest/advanced-usage.html#tls-warnings\n",
      "  warnings.warn(\n"
     ]
    },
    {
     "name": "stdout",
     "output_type": "stream",
     "text": [
      "Details for 'Outside In' found and added to the list.\n",
      "No results found for 'Love, Simon,’ a Glossy Teen Romance, the Hero Has a Secre'\n"
     ]
    },
    {
     "name": "stderr",
     "output_type": "stream",
     "text": [
      "/opt/anaconda3/lib/python3.11/site-packages/urllib3/connectionpool.py:1100: InsecureRequestWarning: Unverified HTTPS request is being made to host 'api.themoviedb.org'. Adding certificate verification is strongly advised. See: https://urllib3.readthedocs.io/en/latest/advanced-usage.html#tls-warnings\n",
      "  warnings.warn(\n",
      "/opt/anaconda3/lib/python3.11/site-packages/urllib3/connectionpool.py:1100: InsecureRequestWarning: Unverified HTTPS request is being made to host 'api.themoviedb.org'. Adding certificate verification is strongly advised. See: https://urllib3.readthedocs.io/en/latest/advanced-usage.html#tls-warnings\n",
      "  warnings.warn(\n"
     ]
    },
    {
     "name": "stdout",
     "output_type": "stream",
     "text": [
      "No results found for 'Keep the Change,’ Two People With Autism Find Lov'\n",
      "Movie ID for 'The Party': 10794\n"
     ]
    },
    {
     "name": "stderr",
     "output_type": "stream",
     "text": [
      "/opt/anaconda3/lib/python3.11/site-packages/urllib3/connectionpool.py:1100: InsecureRequestWarning: Unverified HTTPS request is being made to host 'api.themoviedb.org'. Adding certificate verification is strongly advised. See: https://urllib3.readthedocs.io/en/latest/advanced-usage.html#tls-warnings\n",
      "  warnings.warn(\n",
      "/opt/anaconda3/lib/python3.11/site-packages/urllib3/connectionpool.py:1100: InsecureRequestWarning: Unverified HTTPS request is being made to host 'api.themoviedb.org'. Adding certificate verification is strongly advised. See: https://urllib3.readthedocs.io/en/latest/advanced-usage.html#tls-warnings\n",
      "  warnings.warn(\n"
     ]
    },
    {
     "name": "stdout",
     "output_type": "stream",
     "text": [
      "Details for 'The Party' found and added to the list.\n",
      "No results found for 'The Housemaid,’ Twisted Love and Angry Ghosts in Vietna'\n"
     ]
    },
    {
     "name": "stderr",
     "output_type": "stream",
     "text": [
      "/opt/anaconda3/lib/python3.11/site-packages/urllib3/connectionpool.py:1100: InsecureRequestWarning: Unverified HTTPS request is being made to host 'api.themoviedb.org'. Adding certificate verification is strongly advised. See: https://urllib3.readthedocs.io/en/latest/advanced-usage.html#tls-warnings\n",
      "  warnings.warn(\n",
      "/opt/anaconda3/lib/python3.11/site-packages/urllib3/connectionpool.py:1100: InsecureRequestWarning: Unverified HTTPS request is being made to host 'api.themoviedb.org'. Adding certificate verification is strongly advised. See: https://urllib3.readthedocs.io/en/latest/advanced-usage.html#tls-warnings\n",
      "  warnings.warn(\n"
     ]
    },
    {
     "name": "stdout",
     "output_type": "stream",
     "text": [
      "No results found for 'Forever My Girl,’ a Romance Resumes After a Long Brea'\n",
      "No results found for 'Kangaroo: A Love-Hate Story’ Exposes a Wildlife Massacr'\n"
     ]
    },
    {
     "name": "stderr",
     "output_type": "stream",
     "text": [
      "/opt/anaconda3/lib/python3.11/site-packages/urllib3/connectionpool.py:1100: InsecureRequestWarning: Unverified HTTPS request is being made to host 'api.themoviedb.org'. Adding certificate verification is strongly advised. See: https://urllib3.readthedocs.io/en/latest/advanced-usage.html#tls-warnings\n",
      "  warnings.warn(\n",
      "/opt/anaconda3/lib/python3.11/site-packages/urllib3/connectionpool.py:1100: InsecureRequestWarning: Unverified HTTPS request is being made to host 'api.themoviedb.org'. Adding certificate verification is strongly advised. See: https://urllib3.readthedocs.io/en/latest/advanced-usage.html#tls-warnings\n",
      "  warnings.warn(\n"
     ]
    },
    {
     "name": "stdout",
     "output_type": "stream",
     "text": [
      "Movie ID for 'Lover for a Day': 434131\n",
      "Details for 'Lover for a Day' found and added to the list.\n"
     ]
    },
    {
     "name": "stderr",
     "output_type": "stream",
     "text": [
      "/opt/anaconda3/lib/python3.11/site-packages/urllib3/connectionpool.py:1100: InsecureRequestWarning: Unverified HTTPS request is being made to host 'api.themoviedb.org'. Adding certificate verification is strongly advised. See: https://urllib3.readthedocs.io/en/latest/advanced-usage.html#tls-warnings\n",
      "  warnings.warn(\n",
      "/opt/anaconda3/lib/python3.11/site-packages/urllib3/connectionpool.py:1100: InsecureRequestWarning: Unverified HTTPS request is being made to host 'api.themoviedb.org'. Adding certificate verification is strongly advised. See: https://urllib3.readthedocs.io/en/latest/advanced-usage.html#tls-warnings\n",
      "  warnings.warn(\n"
     ]
    },
    {
     "name": "stdout",
     "output_type": "stream",
     "text": [
      "No results found for 'Youth,’ the People’s Dance Troupe, in Love and Wa'\n"
     ]
    },
    {
     "name": "stderr",
     "output_type": "stream",
     "text": [
      "/opt/anaconda3/lib/python3.11/site-packages/urllib3/connectionpool.py:1100: InsecureRequestWarning: Unverified HTTPS request is being made to host 'api.themoviedb.org'. Adding certificate verification is strongly advised. See: https://urllib3.readthedocs.io/en/latest/advanced-usage.html#tls-warnings\n",
      "  warnings.warn(\n",
      "/opt/anaconda3/lib/python3.11/site-packages/urllib3/connectionpool.py:1100: InsecureRequestWarning: Unverified HTTPS request is being made to host 'api.themoviedb.org'. Adding certificate verification is strongly advised. See: https://urllib3.readthedocs.io/en/latest/advanced-usage.html#tls-warnings\n",
      "  warnings.warn(\n"
     ]
    },
    {
     "name": "stdout",
     "output_type": "stream",
     "text": [
      "No results found for 'Killing for Love’ Revisits a Virginia Murder Cas'\n",
      "No results found for 'The Shape of Water’ Is Altogether Wonderfu'\n"
     ]
    },
    {
     "name": "stderr",
     "output_type": "stream",
     "text": [
      "/opt/anaconda3/lib/python3.11/site-packages/urllib3/connectionpool.py:1100: InsecureRequestWarning: Unverified HTTPS request is being made to host 'api.themoviedb.org'. Adding certificate verification is strongly advised. See: https://urllib3.readthedocs.io/en/latest/advanced-usage.html#tls-warnings\n",
      "  warnings.warn(\n",
      "/opt/anaconda3/lib/python3.11/site-packages/urllib3/connectionpool.py:1100: InsecureRequestWarning: Unverified HTTPS request is being made to host 'api.themoviedb.org'. Adding certificate verification is strongly advised. See: https://urllib3.readthedocs.io/en/latest/advanced-usage.html#tls-warnings\n",
      "  warnings.warn(\n"
     ]
    },
    {
     "name": "stdout",
     "output_type": "stream",
     "text": [
      "No results found for 'Love Beats Rhymes,’ a Hip-Hop Artist Transformed by Poetr'\n",
      "No results found for 'Cuba and the Cameraman’ Lavishes Love on a Country … and Castr'\n"
     ]
    },
    {
     "name": "stderr",
     "output_type": "stream",
     "text": [
      "/opt/anaconda3/lib/python3.11/site-packages/urllib3/connectionpool.py:1100: InsecureRequestWarning: Unverified HTTPS request is being made to host 'api.themoviedb.org'. Adding certificate verification is strongly advised. See: https://urllib3.readthedocs.io/en/latest/advanced-usage.html#tls-warnings\n",
      "  warnings.warn(\n",
      "/opt/anaconda3/lib/python3.11/site-packages/urllib3/connectionpool.py:1100: InsecureRequestWarning: Unverified HTTPS request is being made to host 'api.themoviedb.org'. Adding certificate verification is strongly advised. See: https://urllib3.readthedocs.io/en/latest/advanced-usage.html#tls-warnings\n",
      "  warnings.warn(\n"
     ]
    },
    {
     "name": "stdout",
     "output_type": "stream",
     "text": [
      "No results found for 'On the Beach at Night Alone’ Zooms in on a Love Affai'\n",
      "No results found for 'Thelma,’ a Woman in Love Can Burn Down the Worl'\n"
     ]
    },
    {
     "name": "stderr",
     "output_type": "stream",
     "text": [
      "/opt/anaconda3/lib/python3.11/site-packages/urllib3/connectionpool.py:1100: InsecureRequestWarning: Unverified HTTPS request is being made to host 'api.themoviedb.org'. Adding certificate verification is strongly advised. See: https://urllib3.readthedocs.io/en/latest/advanced-usage.html#tls-warnings\n",
      "  warnings.warn(\n",
      "/opt/anaconda3/lib/python3.11/site-packages/urllib3/connectionpool.py:1100: InsecureRequestWarning: Unverified HTTPS request is being made to host 'api.themoviedb.org'. Adding certificate verification is strongly advised. See: https://urllib3.readthedocs.io/en/latest/advanced-usage.html#tls-warnings\n",
      "  warnings.warn(\n"
     ]
    },
    {
     "name": "stdout",
     "output_type": "stream",
     "text": [
      "No results found for 'Hello Again,’ a Movie Musical Ode to Love and Lust Over Decade'\n",
      "No results found for 'It Happened in L.A.,’ All That Questing After Lov'\n"
     ]
    },
    {
     "name": "stderr",
     "output_type": "stream",
     "text": [
      "/opt/anaconda3/lib/python3.11/site-packages/urllib3/connectionpool.py:1100: InsecureRequestWarning: Unverified HTTPS request is being made to host 'api.themoviedb.org'. Adding certificate verification is strongly advised. See: https://urllib3.readthedocs.io/en/latest/advanced-usage.html#tls-warnings\n",
      "  warnings.warn(\n",
      "/opt/anaconda3/lib/python3.11/site-packages/urllib3/connectionpool.py:1100: InsecureRequestWarning: Unverified HTTPS request is being made to host 'api.themoviedb.org'. Adding certificate verification is strongly advised. See: https://urllib3.readthedocs.io/en/latest/advanced-usage.html#tls-warnings\n",
      "  warnings.warn(\n"
     ]
    },
    {
     "name": "stdout",
     "output_type": "stream",
     "text": [
      "Movie ID for 'God’s Own Country': 428493\n",
      "Details for 'God’s Own Country' found and added to the list.\n",
      "Movie ID for 'The Mountain Between Us': 290512\n"
     ]
    },
    {
     "name": "stderr",
     "output_type": "stream",
     "text": [
      "/opt/anaconda3/lib/python3.11/site-packages/urllib3/connectionpool.py:1100: InsecureRequestWarning: Unverified HTTPS request is being made to host 'api.themoviedb.org'. Adding certificate verification is strongly advised. See: https://urllib3.readthedocs.io/en/latest/advanced-usage.html#tls-warnings\n",
      "  warnings.warn(\n",
      "/opt/anaconda3/lib/python3.11/site-packages/urllib3/connectionpool.py:1100: InsecureRequestWarning: Unverified HTTPS request is being made to host 'api.themoviedb.org'. Adding certificate verification is strongly advised. See: https://urllib3.readthedocs.io/en/latest/advanced-usage.html#tls-warnings\n",
      "  warnings.warn(\n"
     ]
    },
    {
     "name": "stdout",
     "output_type": "stream",
     "text": [
      "Details for 'The Mountain Between Us' found and added to the list.\n",
      "No results found for 'Dina,’ a Differently Abled Love Stor'\n"
     ]
    },
    {
     "name": "stderr",
     "output_type": "stream",
     "text": [
      "/opt/anaconda3/lib/python3.11/site-packages/urllib3/connectionpool.py:1100: InsecureRequestWarning: Unverified HTTPS request is being made to host 'api.themoviedb.org'. Adding certificate verification is strongly advised. See: https://urllib3.readthedocs.io/en/latest/advanced-usage.html#tls-warnings\n",
      "  warnings.warn(\n",
      "/opt/anaconda3/lib/python3.11/site-packages/urllib3/connectionpool.py:1100: InsecureRequestWarning: Unverified HTTPS request is being made to host 'api.themoviedb.org'. Adding certificate verification is strongly advised. See: https://urllib3.readthedocs.io/en/latest/advanced-usage.html#tls-warnings\n",
      "  warnings.warn(\n",
      "/opt/anaconda3/lib/python3.11/site-packages/urllib3/connectionpool.py:1100: InsecureRequestWarning: Unverified HTTPS request is being made to host 'api.themoviedb.org'. Adding certificate verification is strongly advised. See: https://urllib3.readthedocs.io/en/latest/advanced-usage.html#tls-warnings\n",
      "  warnings.warn(\n"
     ]
    },
    {
     "name": "stdout",
     "output_type": "stream",
     "text": [
      "Movie ID for 'In Search of Fellini': 446697\n",
      "Details for 'In Search of Fellini' found and added to the list.\n"
     ]
    },
    {
     "name": "stderr",
     "output_type": "stream",
     "text": [
      "/opt/anaconda3/lib/python3.11/site-packages/urllib3/connectionpool.py:1100: InsecureRequestWarning: Unverified HTTPS request is being made to host 'api.themoviedb.org'. Adding certificate verification is strongly advised. See: https://urllib3.readthedocs.io/en/latest/advanced-usage.html#tls-warnings\n",
      "  warnings.warn(\n",
      "/opt/anaconda3/lib/python3.11/site-packages/urllib3/connectionpool.py:1100: InsecureRequestWarning: Unverified HTTPS request is being made to host 'api.themoviedb.org'. Adding certificate verification is strongly advised. See: https://urllib3.readthedocs.io/en/latest/advanced-usage.html#tls-warnings\n",
      "  warnings.warn(\n"
     ]
    },
    {
     "name": "stdout",
     "output_type": "stream",
     "text": [
      "No results found for 'Woodpeckers,’ a Tale of Love and Agonizing Penal Confinemen'\n",
      "No results found for 'I Do ... Until I Don’t,’ Love and Loathing in Florid'\n"
     ]
    },
    {
     "name": "stderr",
     "output_type": "stream",
     "text": [
      "/opt/anaconda3/lib/python3.11/site-packages/urllib3/connectionpool.py:1100: InsecureRequestWarning: Unverified HTTPS request is being made to host 'api.themoviedb.org'. Adding certificate verification is strongly advised. See: https://urllib3.readthedocs.io/en/latest/advanced-usage.html#tls-warnings\n",
      "  warnings.warn(\n",
      "/opt/anaconda3/lib/python3.11/site-packages/urllib3/connectionpool.py:1100: InsecureRequestWarning: Unverified HTTPS request is being made to host 'api.themoviedb.org'. Adding certificate verification is strongly advised. See: https://urllib3.readthedocs.io/en/latest/advanced-usage.html#tls-warnings\n",
      "  warnings.warn(\n"
     ]
    },
    {
     "name": "stdout",
     "output_type": "stream",
     "text": [
      "No results found for 'Tales of an Immoral Couple’: Love Means Having to Grow U'\n",
      "No results found for 'After Love’ and Regretting Every Momen'\n"
     ]
    },
    {
     "name": "stderr",
     "output_type": "stream",
     "text": [
      "/opt/anaconda3/lib/python3.11/site-packages/urllib3/connectionpool.py:1100: InsecureRequestWarning: Unverified HTTPS request is being made to host 'api.themoviedb.org'. Adding certificate verification is strongly advised. See: https://urllib3.readthedocs.io/en/latest/advanced-usage.html#tls-warnings\n",
      "  warnings.warn(\n",
      "/opt/anaconda3/lib/python3.11/site-packages/urllib3/connectionpool.py:1100: InsecureRequestWarning: Unverified HTTPS request is being made to host 'api.themoviedb.org'. Adding certificate verification is strongly advised. See: https://urllib3.readthedocs.io/en/latest/advanced-usage.html#tls-warnings\n",
      "  warnings.warn(\n"
     ]
    },
    {
     "name": "stdout",
     "output_type": "stream",
     "text": [
      "Movie ID for 'The Last Face': 287904\n",
      "Details for 'The Last Face' found and added to the list.\n"
     ]
    },
    {
     "name": "stderr",
     "output_type": "stream",
     "text": [
      "/opt/anaconda3/lib/python3.11/site-packages/urllib3/connectionpool.py:1100: InsecureRequestWarning: Unverified HTTPS request is being made to host 'api.themoviedb.org'. Adding certificate verification is strongly advised. See: https://urllib3.readthedocs.io/en/latest/advanced-usage.html#tls-warnings\n",
      "  warnings.warn(\n"
     ]
    },
    {
     "name": "stdout",
     "output_type": "stream",
     "text": [
      "No results found for 'Women Who Kill,’ and May Be in Love With On'\n"
     ]
    },
    {
     "name": "stderr",
     "output_type": "stream",
     "text": [
      "/opt/anaconda3/lib/python3.11/site-packages/urllib3/connectionpool.py:1100: InsecureRequestWarning: Unverified HTTPS request is being made to host 'api.themoviedb.org'. Adding certificate verification is strongly advised. See: https://urllib3.readthedocs.io/en/latest/advanced-usage.html#tls-warnings\n",
      "  warnings.warn(\n",
      "/opt/anaconda3/lib/python3.11/site-packages/urllib3/connectionpool.py:1100: InsecureRequestWarning: Unverified HTTPS request is being made to host 'api.themoviedb.org'. Adding certificate verification is strongly advised. See: https://urllib3.readthedocs.io/en/latest/advanced-usage.html#tls-warnings\n",
      "  warnings.warn(\n"
     ]
    },
    {
     "name": "stdout",
     "output_type": "stream",
     "text": [
      "No results found for 'False Confessions,’ the Play’s Not Quite the Thin'\n",
      "No results found for 'Review: Those Movies, Himself — Bertrand Tavernier’s Tour of French Cinem'\n"
     ]
    },
    {
     "name": "stderr",
     "output_type": "stream",
     "text": [
      "/opt/anaconda3/lib/python3.11/site-packages/urllib3/connectionpool.py:1100: InsecureRequestWarning: Unverified HTTPS request is being made to host 'api.themoviedb.org'. Adding certificate verification is strongly advised. See: https://urllib3.readthedocs.io/en/latest/advanced-usage.html#tls-warnings\n",
      "  warnings.warn(\n",
      "/opt/anaconda3/lib/python3.11/site-packages/urllib3/connectionpool.py:1100: InsecureRequestWarning: Unverified HTTPS request is being made to host 'api.themoviedb.org'. Adding certificate verification is strongly advised. See: https://urllib3.readthedocs.io/en/latest/advanced-usage.html#tls-warnings\n",
      "  warnings.warn(\n"
     ]
    },
    {
     "name": "stdout",
     "output_type": "stream",
     "text": [
      "No results found for 'The Big Sick,’ Comedy Is Hard, Love Harde'\n",
      "Movie ID for 'Lost in Paris': 413778\n"
     ]
    },
    {
     "name": "stderr",
     "output_type": "stream",
     "text": [
      "/opt/anaconda3/lib/python3.11/site-packages/urllib3/connectionpool.py:1100: InsecureRequestWarning: Unverified HTTPS request is being made to host 'api.themoviedb.org'. Adding certificate verification is strongly advised. See: https://urllib3.readthedocs.io/en/latest/advanced-usage.html#tls-warnings\n",
      "  warnings.warn(\n"
     ]
    },
    {
     "name": "stdout",
     "output_type": "stream",
     "text": [
      "Details for 'Lost in Paris' found and added to the list.\n",
      "No results found for 'Vincent N Roxxy,’ Love Is in the Air, N So Is Fea'\n"
     ]
    },
    {
     "name": "stderr",
     "output_type": "stream",
     "text": [
      "/opt/anaconda3/lib/python3.11/site-packages/urllib3/connectionpool.py:1100: InsecureRequestWarning: Unverified HTTPS request is being made to host 'api.themoviedb.org'. Adding certificate verification is strongly advised. See: https://urllib3.readthedocs.io/en/latest/advanced-usage.html#tls-warnings\n",
      "  warnings.warn(\n",
      "/opt/anaconda3/lib/python3.11/site-packages/urllib3/connectionpool.py:1100: InsecureRequestWarning: Unverified HTTPS request is being made to host 'api.themoviedb.org'. Adding certificate verification is strongly advised. See: https://urllib3.readthedocs.io/en/latest/advanced-usage.html#tls-warnings\n",
      "  warnings.warn(\n"
     ]
    },
    {
     "name": "stdout",
     "output_type": "stream",
     "text": [
      "No results found for 'Everything, Everything’ Pits Love Against Diseas'\n",
      "No results found for 'Hounds of Love’ Is Tense and Deadly Down Unde'\n"
     ]
    },
    {
     "name": "stderr",
     "output_type": "stream",
     "text": [
      "/opt/anaconda3/lib/python3.11/site-packages/urllib3/connectionpool.py:1100: InsecureRequestWarning: Unverified HTTPS request is being made to host 'api.themoviedb.org'. Adding certificate verification is strongly advised. See: https://urllib3.readthedocs.io/en/latest/advanced-usage.html#tls-warnings\n",
      "  warnings.warn(\n",
      "/opt/anaconda3/lib/python3.11/site-packages/urllib3/connectionpool.py:1100: InsecureRequestWarning: Unverified HTTPS request is being made to host 'api.themoviedb.org'. Adding certificate verification is strongly advised. See: https://urllib3.readthedocs.io/en/latest/advanced-usage.html#tls-warnings\n",
      "  warnings.warn(\n"
     ]
    },
    {
     "name": "stdout",
     "output_type": "stream",
     "text": [
      "No results found for 'Harold and Lillian’ Introduces a Hollywood Power Coupl'\n",
      "No results found for 'The Happiest Day in the Life of Olli Maki,’ Love and Life on the Rope'\n"
     ]
    },
    {
     "name": "stderr",
     "output_type": "stream",
     "text": [
      "/opt/anaconda3/lib/python3.11/site-packages/urllib3/connectionpool.py:1100: InsecureRequestWarning: Unverified HTTPS request is being made to host 'api.themoviedb.org'. Adding certificate verification is strongly advised. See: https://urllib3.readthedocs.io/en/latest/advanced-usage.html#tls-warnings\n",
      "  warnings.warn(\n",
      "/opt/anaconda3/lib/python3.11/site-packages/urllib3/connectionpool.py:1100: InsecureRequestWarning: Unverified HTTPS request is being made to host 'api.themoviedb.org'. Adding certificate verification is strongly advised. See: https://urllib3.readthedocs.io/en/latest/advanced-usage.html#tls-warnings\n",
      "  warnings.warn(\n"
     ]
    },
    {
     "name": "stdout",
     "output_type": "stream",
     "text": [
      "No results found for 'The Promise’ Finds a Love Triangle in Constantinopl'\n"
     ]
    },
    {
     "name": "stderr",
     "output_type": "stream",
     "text": [
      "/opt/anaconda3/lib/python3.11/site-packages/urllib3/connectionpool.py:1100: InsecureRequestWarning: Unverified HTTPS request is being made to host 'api.themoviedb.org'. Adding certificate verification is strongly advised. See: https://urllib3.readthedocs.io/en/latest/advanced-usage.html#tls-warnings\n",
      "  warnings.warn(\n"
     ]
    },
    {
     "name": "stdout",
     "output_type": "stream",
     "text": [
      "No results found for 'Frantz,’ a Mysterious Frenchman and the Wounds of Wa'\n",
      "Movie ID for 'The Other Half': 381015\n"
     ]
    },
    {
     "name": "stderr",
     "output_type": "stream",
     "text": [
      "/opt/anaconda3/lib/python3.11/site-packages/urllib3/connectionpool.py:1100: InsecureRequestWarning: Unverified HTTPS request is being made to host 'api.themoviedb.org'. Adding certificate verification is strongly advised. See: https://urllib3.readthedocs.io/en/latest/advanced-usage.html#tls-warnings\n",
      "  warnings.warn(\n",
      "/opt/anaconda3/lib/python3.11/site-packages/urllib3/connectionpool.py:1100: InsecureRequestWarning: Unverified HTTPS request is being made to host 'api.themoviedb.org'. Adding certificate verification is strongly advised. See: https://urllib3.readthedocs.io/en/latest/advanced-usage.html#tls-warnings\n",
      "  warnings.warn(\n"
     ]
    },
    {
     "name": "stdout",
     "output_type": "stream",
     "text": [
      "Details for 'The Other Half' found and added to the list.\n"
     ]
    },
    {
     "name": "stderr",
     "output_type": "stream",
     "text": [
      "/opt/anaconda3/lib/python3.11/site-packages/urllib3/connectionpool.py:1100: InsecureRequestWarning: Unverified HTTPS request is being made to host 'api.themoviedb.org'. Adding certificate verification is strongly advised. See: https://urllib3.readthedocs.io/en/latest/advanced-usage.html#tls-warnings\n",
      "  warnings.warn(\n"
     ]
    },
    {
     "name": "stdout",
     "output_type": "stream",
     "text": [
      "Movie ID for 'The Ottoman Lieutenant': 433356\n"
     ]
    },
    {
     "name": "stderr",
     "output_type": "stream",
     "text": [
      "/opt/anaconda3/lib/python3.11/site-packages/urllib3/connectionpool.py:1100: InsecureRequestWarning: Unverified HTTPS request is being made to host 'api.themoviedb.org'. Adding certificate verification is strongly advised. See: https://urllib3.readthedocs.io/en/latest/advanced-usage.html#tls-warnings\n",
      "  warnings.warn(\n",
      "/opt/anaconda3/lib/python3.11/site-packages/urllib3/connectionpool.py:1100: InsecureRequestWarning: Unverified HTTPS request is being made to host 'api.themoviedb.org'. Adding certificate verification is strongly advised. See: https://urllib3.readthedocs.io/en/latest/advanced-usage.html#tls-warnings\n",
      "  warnings.warn(\n"
     ]
    },
    {
     "name": "stdout",
     "output_type": "stream",
     "text": [
      "Details for 'The Ottoman Lieutenant' found and added to the list.\n",
      "Movie ID for 'Love & Taxes': 1248795\n"
     ]
    },
    {
     "name": "stderr",
     "output_type": "stream",
     "text": [
      "/opt/anaconda3/lib/python3.11/site-packages/urllib3/connectionpool.py:1100: InsecureRequestWarning: Unverified HTTPS request is being made to host 'api.themoviedb.org'. Adding certificate verification is strongly advised. See: https://urllib3.readthedocs.io/en/latest/advanced-usage.html#tls-warnings\n",
      "  warnings.warn(\n",
      "/opt/anaconda3/lib/python3.11/site-packages/urllib3/connectionpool.py:1100: InsecureRequestWarning: Unverified HTTPS request is being made to host 'api.themoviedb.org'. Adding certificate verification is strongly advised. See: https://urllib3.readthedocs.io/en/latest/advanced-usage.html#tls-warnings\n",
      "  warnings.warn(\n"
     ]
    },
    {
     "name": "stdout",
     "output_type": "stream",
     "text": [
      "Details for 'Love & Taxes' found and added to the list.\n",
      "No results found for 'Everybody Loves Somebody,’ a Rom-Com With Bit'\n",
      "Sleeping for 1 second before the next request.\n",
      "No results found for 'Kedi,’ Rekindling a ‘Love of Life'\n"
     ]
    },
    {
     "name": "stderr",
     "output_type": "stream",
     "text": [
      "/opt/anaconda3/lib/python3.11/site-packages/urllib3/connectionpool.py:1100: InsecureRequestWarning: Unverified HTTPS request is being made to host 'api.themoviedb.org'. Adding certificate verification is strongly advised. See: https://urllib3.readthedocs.io/en/latest/advanced-usage.html#tls-warnings\n",
      "  warnings.warn(\n"
     ]
    }
   ],
   "source": [
    "# Create an empty list to store the results\n",
    "tmdb_movies_list = []\n",
    "\n",
    "# Create a request counter to sleep the requests after a multiple of 50 requests\n",
    "request_counter = 1\n",
    "\n",
    "# Loop through the titles\n",
    "for title in titles_list:\n",
    "    \n",
    "    # Check if we need to sleep before making a request\n",
    "    if request_counter % 50 == 0 and request_counter != 0:\n",
    "        print(\"Sleeping for 1 second before the next request.\")\n",
    "        time.sleep(1)\n",
    "\n",
    "    # Add 1 to the request counter\n",
    "    request_counter += 1\n",
    "    \n",
    "    # Perform a \"GET\" request for The Movie Database search API\n",
    "    try:\n",
    "        search_response = requests.get(f\"{search_url}{title}{tmdb_key_string}\")\n",
    "        search_response.raise_for_status()  # Check if the request was successful\n",
    "        search_data = search_response.json()\n",
    "        \n",
    "        # Get movie id\n",
    "        if search_data['results']:\n",
    "            movie_id = search_data['results'][0]['id']\n",
    "            print(f\"Movie ID for '{title}': {movie_id}\")\n",
    "\n",
    "            # Make a request for the full movie details\n",
    "            query_url = f\"https://api.themoviedb.org/3/movie/{movie_id}?api_key={tmdb_api_key}&language=en-US\"\n",
    "            details_response = requests.get(query_url)\n",
    "            details_response.raise_for_status()  # Check if the request was successful\n",
    "            movie_details = details_response.json()\n",
    "\n",
    "            # Extract information from the movie details\n",
    "            movie_info = {\n",
    "                'title': movie_details.get('title'),\n",
    "                'original_title': movie_details.get('original_title'),\n",
    "                'budget': movie_details.get('budget'),\n",
    "                'original_language': movie_details.get('original_language'),\n",
    "                'homepage': movie_details.get('homepage'),\n",
    "                'overview': movie_details.get('overview'),\n",
    "                'popularity': movie_details.get('popularity'),\n",
    "                'runtime': movie_details.get('runtime'),\n",
    "                'revenue': movie_details.get('revenue'),\n",
    "                'release_date': movie_details.get('release_date'),\n",
    "                'vote_average': movie_details.get('vote_average'),\n",
    "                'vote_count': movie_details.get('vote_count'),\n",
    "                'genres': [genre['name'] for genre in movie_details.get('genres', [])],\n",
    "                'spoken_languages': [language['english_name'] for language in movie_details.get('spoken_languages', [])],\n",
    "                'production_countries': [country['name'] for country in movie_details.get('production_countries', [])]\n",
    "            }\n",
    "            \n",
    "            # Add the dictionary to the results list\n",
    "            tmdb_movies_list.append(movie_info)\n",
    "            print(f\"Details for '{title}' found and added to the list.\")\n",
    "        \n",
    "        else:\n",
    "            print(f\"No results found for '{title}'\")\n",
    "\n",
    "    except Exception as e:\n",
    "        print(f\"An error occurred: {e}\")\n",
    "\n"
   ]
  },
  {
   "cell_type": "code",
   "execution_count": 16,
   "metadata": {},
   "outputs": [
    {
     "name": "stdout",
     "output_type": "stream",
     "text": [
      "[\n",
      "    {\n",
      "        \"title\": \"The Attachment Diaries\",\n",
      "        \"original_title\": \"El apego\",\n",
      "        \"budget\": 0,\n",
      "        \"original_language\": \"es\",\n",
      "        \"homepage\": \"\",\n",
      "        \"overview\": \"Argentina, 1970s. A desperate young woman goes to a clinic to have a clandestine abortion. As her pregnancy is already through the fourth month, the doctor refuses. Instead, she proposes to sell the baby to one of her clients and offers to provide shelter in her house until the child is born. Their disturbed personalities will become intertwined in a strange and dangerous relationship.\",\n",
      "        \"popularity\": 2.457,\n",
      "        \"runtime\": 102,\n",
      "        \"revenue\": 0,\n",
      "        \"release_date\": \"2021-10-07\",\n",
      "        \"vote_average\": 3.0,\n",
      "        \"vote_count\": 4,\n",
      "        \"genres\": [\n",
      "            \"Drama\",\n",
      "            \"Mystery\",\n",
      "            \"Thriller\",\n",
      "            \"Horror\"\n",
      "        ],\n",
      "        \"spoken_languages\": [\n",
      "            \"Spanish\"\n",
      "        ],\n",
      "        \"production_countries\": [\n",
      "            \"Argentina\"\n",
      "        ]\n",
      "    },\n",
      "    {\n",
      "        \"title\": \"You Can Live Forever\",\n",
      "        \"original_title\": \"You Can Live Forever\",\n",
      "        \"budget\": 0,\n",
      "        \"original_language\": \"en\",\n",
      "        \"homepage\": \"https://gooddeedentertainment.com/you-can-live-forever/\",\n",
      "        \"overview\": \"When Jaime, a gay teenager, is sent to live in a community of Jehovah's Witnesses in small-town Quebec, she falls madly in love with a devout Witness girl. The two embark on an intense affair with consequences that will reshape the rest of their lives.\",\n",
      "        \"popularity\": 20.107,\n",
      "        \"runtime\": 96,\n",
      "        \"revenue\": 15055,\n",
      "        \"release_date\": \"2023-03-24\",\n",
      "        \"vote_average\": 6.564,\n",
      "        \"vote_count\": 39,\n",
      "        \"genres\": [\n",
      "            \"Drama\",\n",
      "            \"Romance\"\n",
      "        ],\n",
      "        \"spoken_languages\": [\n",
      "            \"English\",\n",
      "            \"French\"\n",
      "        ],\n",
      "        \"production_countries\": [\n",
      "            \"Canada\",\n",
      "            \"United States of America\"\n",
      "        ]\n",
      "    },\n",
      "    {\n",
      "        \"title\": \"A Tourist's Guide to Love\",\n",
      "        \"original_title\": \"A Tourist's Guide to Love\",\n",
      "        \"budget\": 0,\n",
      "        \"original_language\": \"en\",\n",
      "        \"homepage\": \"https://www.netflix.com/title/81424906\",\n",
      "        \"overview\": \"After an unexpected break up, a travel executive accepts an assignment to go undercover and learn about the tourist industry in Vietnam. Along the way, she finds adventure and romance with her Vietnamese expat tour guide and they decide to hijack the tour bus in order to explore life and love off the beaten path.\",\n",
      "        \"popularity\": 17.803,\n",
      "        \"runtime\": 96,\n",
      "        \"revenue\": 0,\n",
      "        \"release_date\": \"2023-04-21\",\n",
      "        \"vote_average\": 6.311,\n",
      "        \"vote_count\": 167,\n",
      "        \"genres\": [\n",
      "            \"Romance\",\n",
      "            \"Comedy\"\n",
      "        ],\n",
      "        \"spoken_languages\": [\n",
      "            \"English\",\n",
      "            \"Vietnamese\"\n",
      "        ],\n",
      "        \"production_countries\": [\n",
      "            \"United States of America\"\n",
      "        ]\n",
      "    },\n",
      "    {\n",
      "        \"title\": \"Other People's Children\",\n",
      "        \"original_title\": \"Les Enfants des autres\",\n",
      "        \"budget\": 0,\n",
      "        \"original_language\": \"fr\",\n",
      "        \"homepage\": \"https://www.wildbunch.biz/movie/other-peoples-children/\",\n",
      "        \"overview\": \"Rachel loves her life, her students, her friends, her ex, her guitar lessons. When she falls in love with Ali, she grows close to his 4-year-old daughter, Leila. She tucks her in, looks after her, and loves her like a mother... which she isn\\u2019t. Not yet. Rachel is 40. The desire for a family of her own is growing stronger, and the clock is ticking. Is it too late?\",\n",
      "        \"popularity\": 14.344,\n",
      "        \"runtime\": 104,\n",
      "        \"revenue\": 84178,\n",
      "        \"release_date\": \"2022-09-21\",\n",
      "        \"vote_average\": 6.816,\n",
      "        \"vote_count\": 193,\n",
      "        \"genres\": [\n",
      "            \"Drama\",\n",
      "            \"Comedy\"\n",
      "        ],\n",
      "        \"spoken_languages\": [\n",
      "            \"French\",\n",
      "            \"English\"\n",
      "        ],\n",
      "        \"production_countries\": [\n",
      "            \"France\"\n",
      "        ]\n",
      "    },\n",
      "    {\n",
      "        \"title\": \"One True Loves\",\n",
      "        \"original_title\": \"One True Loves\",\n",
      "        \"budget\": 0,\n",
      "        \"original_language\": \"en\",\n",
      "        \"homepage\": \"\",\n",
      "        \"overview\": \"Emma and Jesse are living the perfect life together, until Jesse disappears in a tragic helicopter crash on their first wedding anniversary. Four years later, Emma has found happiness again and is about to marry her best friend when Jesse resurfaces, turning her world upside down and leaving her torn between two great loves.\",\n",
      "        \"popularity\": 13.017,\n",
      "        \"runtime\": 100,\n",
      "        \"revenue\": 37820,\n",
      "        \"release_date\": \"2023-04-07\",\n",
      "        \"vote_average\": 6.5,\n",
      "        \"vote_count\": 79,\n",
      "        \"genres\": [\n",
      "            \"Romance\",\n",
      "            \"Comedy\",\n",
      "            \"Drama\"\n",
      "        ],\n",
      "        \"spoken_languages\": [\n",
      "            \"English\",\n",
      "            \"Spanish\"\n",
      "        ],\n",
      "        \"production_countries\": [\n",
      "            \"Czech Republic\",\n",
      "            \"United States of America\"\n",
      "        ]\n",
      "    }\n",
      "]\n"
     ]
    }
   ],
   "source": [
    "# Preview the first 5 results in JSON format\n",
    "# Use json.dumps with argument indent=4 to format data\n",
    "print(json.dumps(tmdb_movies_list[:5], indent=4))"
   ]
  },
  {
   "cell_type": "code",
   "execution_count": 17,
   "metadata": {},
   "outputs": [
    {
     "data": {
      "text/html": [
       "<div>\n",
       "<style scoped>\n",
       "    .dataframe tbody tr th:only-of-type {\n",
       "        vertical-align: middle;\n",
       "    }\n",
       "\n",
       "    .dataframe tbody tr th {\n",
       "        vertical-align: top;\n",
       "    }\n",
       "\n",
       "    .dataframe thead th {\n",
       "        text-align: right;\n",
       "    }\n",
       "</style>\n",
       "<table border=\"1\" class=\"dataframe\">\n",
       "  <thead>\n",
       "    <tr style=\"text-align: right;\">\n",
       "      <th></th>\n",
       "      <th>title</th>\n",
       "      <th>original_title</th>\n",
       "      <th>budget</th>\n",
       "      <th>original_language</th>\n",
       "      <th>homepage</th>\n",
       "      <th>overview</th>\n",
       "      <th>popularity</th>\n",
       "      <th>runtime</th>\n",
       "      <th>revenue</th>\n",
       "      <th>release_date</th>\n",
       "      <th>vote_average</th>\n",
       "      <th>vote_count</th>\n",
       "      <th>genres</th>\n",
       "      <th>spoken_languages</th>\n",
       "      <th>production_countries</th>\n",
       "    </tr>\n",
       "  </thead>\n",
       "  <tbody>\n",
       "    <tr>\n",
       "      <th>0</th>\n",
       "      <td>The Attachment Diaries</td>\n",
       "      <td>El apego</td>\n",
       "      <td>0</td>\n",
       "      <td>es</td>\n",
       "      <td></td>\n",
       "      <td>Argentina, 1970s. A desperate young woman goes...</td>\n",
       "      <td>2.457</td>\n",
       "      <td>102</td>\n",
       "      <td>0</td>\n",
       "      <td>2021-10-07</td>\n",
       "      <td>3.000</td>\n",
       "      <td>4</td>\n",
       "      <td>[Drama, Mystery, Thriller, Horror]</td>\n",
       "      <td>[Spanish]</td>\n",
       "      <td>[Argentina]</td>\n",
       "    </tr>\n",
       "    <tr>\n",
       "      <th>1</th>\n",
       "      <td>You Can Live Forever</td>\n",
       "      <td>You Can Live Forever</td>\n",
       "      <td>0</td>\n",
       "      <td>en</td>\n",
       "      <td>https://gooddeedentertainment.com/you-can-live...</td>\n",
       "      <td>When Jaime, a gay teenager, is sent to live in...</td>\n",
       "      <td>20.107</td>\n",
       "      <td>96</td>\n",
       "      <td>15055</td>\n",
       "      <td>2023-03-24</td>\n",
       "      <td>6.564</td>\n",
       "      <td>39</td>\n",
       "      <td>[Drama, Romance]</td>\n",
       "      <td>[English, French]</td>\n",
       "      <td>[Canada, United States of America]</td>\n",
       "    </tr>\n",
       "    <tr>\n",
       "      <th>2</th>\n",
       "      <td>A Tourist's Guide to Love</td>\n",
       "      <td>A Tourist's Guide to Love</td>\n",
       "      <td>0</td>\n",
       "      <td>en</td>\n",
       "      <td>https://www.netflix.com/title/81424906</td>\n",
       "      <td>After an unexpected break up, a travel executi...</td>\n",
       "      <td>17.803</td>\n",
       "      <td>96</td>\n",
       "      <td>0</td>\n",
       "      <td>2023-04-21</td>\n",
       "      <td>6.311</td>\n",
       "      <td>167</td>\n",
       "      <td>[Romance, Comedy]</td>\n",
       "      <td>[English, Vietnamese]</td>\n",
       "      <td>[United States of America]</td>\n",
       "    </tr>\n",
       "    <tr>\n",
       "      <th>3</th>\n",
       "      <td>Other People's Children</td>\n",
       "      <td>Les Enfants des autres</td>\n",
       "      <td>0</td>\n",
       "      <td>fr</td>\n",
       "      <td>https://www.wildbunch.biz/movie/other-peoples-...</td>\n",
       "      <td>Rachel loves her life, her students, her frien...</td>\n",
       "      <td>14.344</td>\n",
       "      <td>104</td>\n",
       "      <td>84178</td>\n",
       "      <td>2022-09-21</td>\n",
       "      <td>6.816</td>\n",
       "      <td>193</td>\n",
       "      <td>[Drama, Comedy]</td>\n",
       "      <td>[French, English]</td>\n",
       "      <td>[France]</td>\n",
       "    </tr>\n",
       "    <tr>\n",
       "      <th>4</th>\n",
       "      <td>One True Loves</td>\n",
       "      <td>One True Loves</td>\n",
       "      <td>0</td>\n",
       "      <td>en</td>\n",
       "      <td></td>\n",
       "      <td>Emma and Jesse are living the perfect life tog...</td>\n",
       "      <td>13.017</td>\n",
       "      <td>100</td>\n",
       "      <td>37820</td>\n",
       "      <td>2023-04-07</td>\n",
       "      <td>6.500</td>\n",
       "      <td>79</td>\n",
       "      <td>[Romance, Comedy, Drama]</td>\n",
       "      <td>[English, Spanish]</td>\n",
       "      <td>[Czech Republic, United States of America]</td>\n",
       "    </tr>\n",
       "  </tbody>\n",
       "</table>\n",
       "</div>"
      ],
      "text/plain": [
       "                       title             original_title  budget  \\\n",
       "0     The Attachment Diaries                   El apego       0   \n",
       "1       You Can Live Forever       You Can Live Forever       0   \n",
       "2  A Tourist's Guide to Love  A Tourist's Guide to Love       0   \n",
       "3    Other People's Children     Les Enfants des autres       0   \n",
       "4             One True Loves             One True Loves       0   \n",
       "\n",
       "  original_language                                           homepage  \\\n",
       "0                es                                                      \n",
       "1                en  https://gooddeedentertainment.com/you-can-live...   \n",
       "2                en             https://www.netflix.com/title/81424906   \n",
       "3                fr  https://www.wildbunch.biz/movie/other-peoples-...   \n",
       "4                en                                                      \n",
       "\n",
       "                                            overview  popularity  runtime  \\\n",
       "0  Argentina, 1970s. A desperate young woman goes...       2.457      102   \n",
       "1  When Jaime, a gay teenager, is sent to live in...      20.107       96   \n",
       "2  After an unexpected break up, a travel executi...      17.803       96   \n",
       "3  Rachel loves her life, her students, her frien...      14.344      104   \n",
       "4  Emma and Jesse are living the perfect life tog...      13.017      100   \n",
       "\n",
       "   revenue release_date  vote_average  vote_count  \\\n",
       "0        0   2021-10-07         3.000           4   \n",
       "1    15055   2023-03-24         6.564          39   \n",
       "2        0   2023-04-21         6.311         167   \n",
       "3    84178   2022-09-21         6.816         193   \n",
       "4    37820   2023-04-07         6.500          79   \n",
       "\n",
       "                               genres       spoken_languages  \\\n",
       "0  [Drama, Mystery, Thriller, Horror]              [Spanish]   \n",
       "1                    [Drama, Romance]      [English, French]   \n",
       "2                   [Romance, Comedy]  [English, Vietnamese]   \n",
       "3                     [Drama, Comedy]      [French, English]   \n",
       "4            [Romance, Comedy, Drama]     [English, Spanish]   \n",
       "\n",
       "                         production_countries  \n",
       "0                                 [Argentina]  \n",
       "1          [Canada, United States of America]  \n",
       "2                  [United States of America]  \n",
       "3                                    [France]  \n",
       "4  [Czech Republic, United States of America]  "
      ]
     },
     "execution_count": 17,
     "metadata": {},
     "output_type": "execute_result"
    }
   ],
   "source": [
    "# Convert the results to a DataFrame\n",
    "tmdb_df = pd.DataFrame(tmdb_movies_list)\n",
    "tmdb_df.head()"
   ]
  },
  {
   "cell_type": "markdown",
   "metadata": {},
   "source": [
    "### Merge and Clean the Data for Export"
   ]
  },
  {
   "cell_type": "code",
   "execution_count": 19,
   "metadata": {
    "scrolled": true
   },
   "outputs": [
    {
     "data": {
      "text/html": [
       "<div>\n",
       "<style scoped>\n",
       "    .dataframe tbody tr th:only-of-type {\n",
       "        vertical-align: middle;\n",
       "    }\n",
       "\n",
       "    .dataframe tbody tr th {\n",
       "        vertical-align: top;\n",
       "    }\n",
       "\n",
       "    .dataframe thead th {\n",
       "        text-align: right;\n",
       "    }\n",
       "</style>\n",
       "<table border=\"1\" class=\"dataframe\">\n",
       "  <thead>\n",
       "    <tr style=\"text-align: right;\">\n",
       "      <th></th>\n",
       "      <th>web_url</th>\n",
       "      <th>snippet</th>\n",
       "      <th>source</th>\n",
       "      <th>keywords</th>\n",
       "      <th>pub_date</th>\n",
       "      <th>word_count</th>\n",
       "      <th>headline.main</th>\n",
       "      <th>headline.kicker</th>\n",
       "      <th>headline.content_kicker</th>\n",
       "      <th>headline.print_headline</th>\n",
       "      <th>...</th>\n",
       "      <th>overview</th>\n",
       "      <th>popularity</th>\n",
       "      <th>runtime</th>\n",
       "      <th>revenue</th>\n",
       "      <th>release_date</th>\n",
       "      <th>vote_average</th>\n",
       "      <th>vote_count</th>\n",
       "      <th>genres</th>\n",
       "      <th>spoken_languages</th>\n",
       "      <th>production_countries</th>\n",
       "    </tr>\n",
       "  </thead>\n",
       "  <tbody>\n",
       "    <tr>\n",
       "      <th>0</th>\n",
       "      <td>https://www.nytimes.com/2023/05/25/movies/the-...</td>\n",
       "      <td>A gynecologist and her patient form a horrifyi...</td>\n",
       "      <td>The New York Times</td>\n",
       "      <td>subject: Movies;creative_works: The Attachment...</td>\n",
       "      <td>2023-05-25T11:00:03+0000</td>\n",
       "      <td>295</td>\n",
       "      <td>‘The Attachment Diaries’ Review: Love, Sick</td>\n",
       "      <td>None</td>\n",
       "      <td>None</td>\n",
       "      <td>The Attachment Diaries</td>\n",
       "      <td>...</td>\n",
       "      <td>Argentina, 1970s. A desperate young woman goes...</td>\n",
       "      <td>2.457</td>\n",
       "      <td>102</td>\n",
       "      <td>0</td>\n",
       "      <td>2021-10-07</td>\n",
       "      <td>3.000</td>\n",
       "      <td>4</td>\n",
       "      <td>[Drama, Mystery, Thriller, Horror]</td>\n",
       "      <td>[Spanish]</td>\n",
       "      <td>[Argentina]</td>\n",
       "    </tr>\n",
       "    <tr>\n",
       "      <th>1</th>\n",
       "      <td>https://www.nytimes.com/2023/05/04/movies/you-...</td>\n",
       "      <td>Religion comes between two girls falling in lo...</td>\n",
       "      <td>The New York Times</td>\n",
       "      <td>subject: Movies;creative_works: You Can Live F...</td>\n",
       "      <td>2023-05-04T11:00:08+0000</td>\n",
       "      <td>294</td>\n",
       "      <td>‘You Can Live Forever’ Review: Do You Love Me ...</td>\n",
       "      <td>None</td>\n",
       "      <td>None</td>\n",
       "      <td>You Can Live Forever</td>\n",
       "      <td>...</td>\n",
       "      <td>When Jaime, a gay teenager, is sent to live in...</td>\n",
       "      <td>20.107</td>\n",
       "      <td>96</td>\n",
       "      <td>15055</td>\n",
       "      <td>2023-03-24</td>\n",
       "      <td>6.564</td>\n",
       "      <td>39</td>\n",
       "      <td>[Drama, Romance]</td>\n",
       "      <td>[English, French]</td>\n",
       "      <td>[Canada, United States of America]</td>\n",
       "    </tr>\n",
       "    <tr>\n",
       "      <th>2</th>\n",
       "      <td>https://www.nytimes.com/2023/04/13/movies/one-...</td>\n",
       "      <td>A film adaptation of Taylor Jenkins Reid’s nov...</td>\n",
       "      <td>The New York Times</td>\n",
       "      <td>subject: Movies;persons: Bracey, Luke (1989- )...</td>\n",
       "      <td>2023-04-13T11:00:06+0000</td>\n",
       "      <td>320</td>\n",
       "      <td>‘One True Loves’ Review: A Romance Lost at Sea</td>\n",
       "      <td>None</td>\n",
       "      <td>None</td>\n",
       "      <td>One True Loves</td>\n",
       "      <td>...</td>\n",
       "      <td>Emma and Jesse are living the perfect life tog...</td>\n",
       "      <td>13.017</td>\n",
       "      <td>100</td>\n",
       "      <td>37820</td>\n",
       "      <td>2023-04-07</td>\n",
       "      <td>6.500</td>\n",
       "      <td>79</td>\n",
       "      <td>[Romance, Comedy, Drama]</td>\n",
       "      <td>[English, Spanish]</td>\n",
       "      <td>[Czech Republic, United States of America]</td>\n",
       "    </tr>\n",
       "    <tr>\n",
       "      <th>3</th>\n",
       "      <td>https://www.nytimes.com/2023/04/13/movies/the-...</td>\n",
       "      <td>There’s not much Lennon music heard in this do...</td>\n",
       "      <td>The New York Times</td>\n",
       "      <td>subject: Documentary Films and Programs;creati...</td>\n",
       "      <td>2023-04-13T11:00:03+0000</td>\n",
       "      <td>327</td>\n",
       "      <td>‘The Lost Weekend: A Love Story’ Review: When ...</td>\n",
       "      <td>None</td>\n",
       "      <td>None</td>\n",
       "      <td>The Lost Weekend:  A Love Story</td>\n",
       "      <td>...</td>\n",
       "      <td>May Pang lovingly recounts her life in rock &amp; ...</td>\n",
       "      <td>24.408</td>\n",
       "      <td>95</td>\n",
       "      <td>77145</td>\n",
       "      <td>2023-04-13</td>\n",
       "      <td>6.000</td>\n",
       "      <td>2</td>\n",
       "      <td>[Documentary]</td>\n",
       "      <td>[English]</td>\n",
       "      <td>[United States of America]</td>\n",
       "    </tr>\n",
       "    <tr>\n",
       "      <th>4</th>\n",
       "      <td>https://www.nytimes.com/2023/03/30/movies/a-th...</td>\n",
       "      <td>A mesmerizing Teyana Taylor stars in A.V. Rock...</td>\n",
       "      <td>The New York Times</td>\n",
       "      <td>subject: Movies;creative_works: A Thousand and...</td>\n",
       "      <td>2023-03-30T18:53:42+0000</td>\n",
       "      <td>971</td>\n",
       "      <td>‘A Thousand and One’ Review: A New York Love S...</td>\n",
       "      <td>Critic’s Pick</td>\n",
       "      <td>None</td>\n",
       "      <td>An Unbending Will Meets a Shifting City</td>\n",
       "      <td>...</td>\n",
       "      <td>Struggling but unapologetically living on her ...</td>\n",
       "      <td>12.581</td>\n",
       "      <td>116</td>\n",
       "      <td>3395595</td>\n",
       "      <td>2023-03-31</td>\n",
       "      <td>6.872</td>\n",
       "      <td>90</td>\n",
       "      <td>[Drama, Crime]</td>\n",
       "      <td>[English, Spanish, Portuguese]</td>\n",
       "      <td>[United States of America]</td>\n",
       "    </tr>\n",
       "    <tr>\n",
       "      <th>...</th>\n",
       "      <td>...</td>\n",
       "      <td>...</td>\n",
       "      <td>...</td>\n",
       "      <td>...</td>\n",
       "      <td>...</td>\n",
       "      <td>...</td>\n",
       "      <td>...</td>\n",
       "      <td>...</td>\n",
       "      <td>...</td>\n",
       "      <td>...</td>\n",
       "      <td>...</td>\n",
       "      <td>...</td>\n",
       "      <td>...</td>\n",
       "      <td>...</td>\n",
       "      <td>...</td>\n",
       "      <td>...</td>\n",
       "      <td>...</td>\n",
       "      <td>...</td>\n",
       "      <td>...</td>\n",
       "      <td>...</td>\n",
       "      <td>...</td>\n",
       "    </tr>\n",
       "    <tr>\n",
       "      <th>122</th>\n",
       "      <td>https://www.nytimes.com/2017/09/14/movies/in-s...</td>\n",
       "      <td>A sheltered young woman enamored of the films ...</td>\n",
       "      <td>The New York Times</td>\n",
       "      <td>subject: Movies;creative_works: In Search of F...</td>\n",
       "      <td>2017-09-14T11:00:24+0000</td>\n",
       "      <td>272</td>\n",
       "      <td>Review: Love of Il Maestro Drives ‘In Search o...</td>\n",
       "      <td>None</td>\n",
       "      <td>None</td>\n",
       "      <td>In Search of Fellini</td>\n",
       "      <td>...</td>\n",
       "      <td>Lucy, a small-town girl from Ohio, discovers t...</td>\n",
       "      <td>4.829</td>\n",
       "      <td>93</td>\n",
       "      <td>0</td>\n",
       "      <td>2017-09-15</td>\n",
       "      <td>5.800</td>\n",
       "      <td>40</td>\n",
       "      <td>[Drama, Adventure]</td>\n",
       "      <td>[English]</td>\n",
       "      <td>[]</td>\n",
       "    </tr>\n",
       "    <tr>\n",
       "      <th>123</th>\n",
       "      <td>https://www.nytimes.com/2017/07/27/movies/the-...</td>\n",
       "      <td>In war-torn Liberia, Charlize Theron and Javie...</td>\n",
       "      <td>The New York Times</td>\n",
       "      <td>subject: Movies;creative_works: The Last Face ...</td>\n",
       "      <td>2017-07-27T20:29:01+0000</td>\n",
       "      <td>280</td>\n",
       "      <td>Review: Aid Workers in Love and War in Sean Pe...</td>\n",
       "      <td>None</td>\n",
       "      <td>None</td>\n",
       "      <td>The Last Face</td>\n",
       "      <td>...</td>\n",
       "      <td>Miguel, a heroic Spanish doctor, puts himself ...</td>\n",
       "      <td>8.428</td>\n",
       "      <td>130</td>\n",
       "      <td>0</td>\n",
       "      <td>2017-01-11</td>\n",
       "      <td>5.500</td>\n",
       "      <td>194</td>\n",
       "      <td>[Drama]</td>\n",
       "      <td>[English, Portuguese]</td>\n",
       "      <td>[United States of America]</td>\n",
       "    </tr>\n",
       "    <tr>\n",
       "      <th>124</th>\n",
       "      <td>https://www.nytimes.com/2017/06/15/movies/lost...</td>\n",
       "      <td>The filmmakers Fiona Gordon and Dominique Abel...</td>\n",
       "      <td>The New York Times</td>\n",
       "      <td>creative_works: Lost in Paris (Movie);subject:...</td>\n",
       "      <td>2017-06-15T19:37:09+0000</td>\n",
       "      <td>254</td>\n",
       "      <td>Review: Finding Love (and Slapstick) While ‘Lo...</td>\n",
       "      <td>None</td>\n",
       "      <td>None</td>\n",
       "      <td>Lost in Paris</td>\n",
       "      <td>...</td>\n",
       "      <td>Fiona visits Paris for the first time to assis...</td>\n",
       "      <td>8.431</td>\n",
       "      <td>83</td>\n",
       "      <td>0</td>\n",
       "      <td>2017-01-14</td>\n",
       "      <td>6.022</td>\n",
       "      <td>114</td>\n",
       "      <td>[Comedy]</td>\n",
       "      <td>[French]</td>\n",
       "      <td>[Belgium, France]</td>\n",
       "    </tr>\n",
       "    <tr>\n",
       "      <th>125</th>\n",
       "      <td>https://www.nytimes.com/2017/03/09/movies/the-...</td>\n",
       "      <td>This moody romance stars Tatiana Maslany (“Orp...</td>\n",
       "      <td>The New York Times</td>\n",
       "      <td>subject: Movies;creative_works: The Other Half...</td>\n",
       "      <td>2017-03-09T21:54:58+0000</td>\n",
       "      <td>251</td>\n",
       "      <td>Review: A Combustible Pair Find Love in ‘The O...</td>\n",
       "      <td>None</td>\n",
       "      <td>None</td>\n",
       "      <td>Review: A Combustible Pair Find Love in ‘The O...</td>\n",
       "      <td>...</td>\n",
       "      <td>A grief-stricken man and a bipolar woman fall ...</td>\n",
       "      <td>5.488</td>\n",
       "      <td>103</td>\n",
       "      <td>0</td>\n",
       "      <td>2016-12-02</td>\n",
       "      <td>6.300</td>\n",
       "      <td>24</td>\n",
       "      <td>[Drama, Romance]</td>\n",
       "      <td>[English]</td>\n",
       "      <td>[Canada]</td>\n",
       "    </tr>\n",
       "    <tr>\n",
       "      <th>126</th>\n",
       "      <td>https://www.nytimes.com/2017/03/09/movies/revi...</td>\n",
       "      <td>A nurse travels to the Ottoman Empire on the e...</td>\n",
       "      <td>The New York Times</td>\n",
       "      <td>subject: Movies;creative_works: The Ottoman Li...</td>\n",
       "      <td>2017-03-09T21:53:12+0000</td>\n",
       "      <td>267</td>\n",
       "      <td>Review: Love as the World Wars, in ‘The Ottoma...</td>\n",
       "      <td>None</td>\n",
       "      <td>None</td>\n",
       "      <td>Review: Love as the World Wars, in ‘The Ottoma...</td>\n",
       "      <td>...</td>\n",
       "      <td>Lillie, a determined American woman, ventures ...</td>\n",
       "      <td>10.949</td>\n",
       "      <td>111</td>\n",
       "      <td>413844</td>\n",
       "      <td>2017-03-10</td>\n",
       "      <td>6.164</td>\n",
       "      <td>247</td>\n",
       "      <td>[Romance, Drama, War]</td>\n",
       "      <td>[Turkish, English]</td>\n",
       "      <td>[Turkey, United States of America]</td>\n",
       "    </tr>\n",
       "  </tbody>\n",
       "</table>\n",
       "<p>127 rows × 31 columns</p>\n",
       "</div>"
      ],
      "text/plain": [
       "                                               web_url  \\\n",
       "0    https://www.nytimes.com/2023/05/25/movies/the-...   \n",
       "1    https://www.nytimes.com/2023/05/04/movies/you-...   \n",
       "2    https://www.nytimes.com/2023/04/13/movies/one-...   \n",
       "3    https://www.nytimes.com/2023/04/13/movies/the-...   \n",
       "4    https://www.nytimes.com/2023/03/30/movies/a-th...   \n",
       "..                                                 ...   \n",
       "122  https://www.nytimes.com/2017/09/14/movies/in-s...   \n",
       "123  https://www.nytimes.com/2017/07/27/movies/the-...   \n",
       "124  https://www.nytimes.com/2017/06/15/movies/lost...   \n",
       "125  https://www.nytimes.com/2017/03/09/movies/the-...   \n",
       "126  https://www.nytimes.com/2017/03/09/movies/revi...   \n",
       "\n",
       "                                               snippet              source  \\\n",
       "0    A gynecologist and her patient form a horrifyi...  The New York Times   \n",
       "1    Religion comes between two girls falling in lo...  The New York Times   \n",
       "2    A film adaptation of Taylor Jenkins Reid’s nov...  The New York Times   \n",
       "3    There’s not much Lennon music heard in this do...  The New York Times   \n",
       "4    A mesmerizing Teyana Taylor stars in A.V. Rock...  The New York Times   \n",
       "..                                                 ...                 ...   \n",
       "122  A sheltered young woman enamored of the films ...  The New York Times   \n",
       "123  In war-torn Liberia, Charlize Theron and Javie...  The New York Times   \n",
       "124  The filmmakers Fiona Gordon and Dominique Abel...  The New York Times   \n",
       "125  This moody romance stars Tatiana Maslany (“Orp...  The New York Times   \n",
       "126  A nurse travels to the Ottoman Empire on the e...  The New York Times   \n",
       "\n",
       "                                              keywords  \\\n",
       "0    subject: Movies;creative_works: The Attachment...   \n",
       "1    subject: Movies;creative_works: You Can Live F...   \n",
       "2    subject: Movies;persons: Bracey, Luke (1989- )...   \n",
       "3    subject: Documentary Films and Programs;creati...   \n",
       "4    subject: Movies;creative_works: A Thousand and...   \n",
       "..                                                 ...   \n",
       "122  subject: Movies;creative_works: In Search of F...   \n",
       "123  subject: Movies;creative_works: The Last Face ...   \n",
       "124  creative_works: Lost in Paris (Movie);subject:...   \n",
       "125  subject: Movies;creative_works: The Other Half...   \n",
       "126  subject: Movies;creative_works: The Ottoman Li...   \n",
       "\n",
       "                     pub_date  word_count  \\\n",
       "0    2023-05-25T11:00:03+0000         295   \n",
       "1    2023-05-04T11:00:08+0000         294   \n",
       "2    2023-04-13T11:00:06+0000         320   \n",
       "3    2023-04-13T11:00:03+0000         327   \n",
       "4    2023-03-30T18:53:42+0000         971   \n",
       "..                        ...         ...   \n",
       "122  2017-09-14T11:00:24+0000         272   \n",
       "123  2017-07-27T20:29:01+0000         280   \n",
       "124  2017-06-15T19:37:09+0000         254   \n",
       "125  2017-03-09T21:54:58+0000         251   \n",
       "126  2017-03-09T21:53:12+0000         267   \n",
       "\n",
       "                                         headline.main headline.kicker  \\\n",
       "0          ‘The Attachment Diaries’ Review: Love, Sick            None   \n",
       "1    ‘You Can Live Forever’ Review: Do You Love Me ...            None   \n",
       "2       ‘One True Loves’ Review: A Romance Lost at Sea            None   \n",
       "3    ‘The Lost Weekend: A Love Story’ Review: When ...            None   \n",
       "4    ‘A Thousand and One’ Review: A New York Love S...   Critic’s Pick   \n",
       "..                                                 ...             ...   \n",
       "122  Review: Love of Il Maestro Drives ‘In Search o...            None   \n",
       "123  Review: Aid Workers in Love and War in Sean Pe...            None   \n",
       "124  Review: Finding Love (and Slapstick) While ‘Lo...            None   \n",
       "125  Review: A Combustible Pair Find Love in ‘The O...            None   \n",
       "126  Review: Love as the World Wars, in ‘The Ottoma...            None   \n",
       "\n",
       "    headline.content_kicker  \\\n",
       "0                      None   \n",
       "1                      None   \n",
       "2                      None   \n",
       "3                      None   \n",
       "4                      None   \n",
       "..                      ...   \n",
       "122                    None   \n",
       "123                    None   \n",
       "124                    None   \n",
       "125                    None   \n",
       "126                    None   \n",
       "\n",
       "                               headline.print_headline  ...  \\\n",
       "0                               The Attachment Diaries  ...   \n",
       "1                                 You Can Live Forever  ...   \n",
       "2                                       One True Loves  ...   \n",
       "3                      The Lost Weekend:  A Love Story  ...   \n",
       "4              An Unbending Will Meets a Shifting City  ...   \n",
       "..                                                 ...  ...   \n",
       "122                               In Search of Fellini  ...   \n",
       "123                                      The Last Face  ...   \n",
       "124                                      Lost in Paris  ...   \n",
       "125  Review: A Combustible Pair Find Love in ‘The O...  ...   \n",
       "126  Review: Love as the World Wars, in ‘The Ottoma...  ...   \n",
       "\n",
       "                                              overview popularity runtime  \\\n",
       "0    Argentina, 1970s. A desperate young woman goes...      2.457     102   \n",
       "1    When Jaime, a gay teenager, is sent to live in...     20.107      96   \n",
       "2    Emma and Jesse are living the perfect life tog...     13.017     100   \n",
       "3    May Pang lovingly recounts her life in rock & ...     24.408      95   \n",
       "4    Struggling but unapologetically living on her ...     12.581     116   \n",
       "..                                                 ...        ...     ...   \n",
       "122  Lucy, a small-town girl from Ohio, discovers t...      4.829      93   \n",
       "123  Miguel, a heroic Spanish doctor, puts himself ...      8.428     130   \n",
       "124  Fiona visits Paris for the first time to assis...      8.431      83   \n",
       "125  A grief-stricken man and a bipolar woman fall ...      5.488     103   \n",
       "126  Lillie, a determined American woman, ventures ...     10.949     111   \n",
       "\n",
       "     revenue release_date vote_average vote_count  \\\n",
       "0          0   2021-10-07        3.000          4   \n",
       "1      15055   2023-03-24        6.564         39   \n",
       "2      37820   2023-04-07        6.500         79   \n",
       "3      77145   2023-04-13        6.000          2   \n",
       "4    3395595   2023-03-31        6.872         90   \n",
       "..       ...          ...          ...        ...   \n",
       "122        0   2017-09-15        5.800         40   \n",
       "123        0   2017-01-11        5.500        194   \n",
       "124        0   2017-01-14        6.022        114   \n",
       "125        0   2016-12-02        6.300         24   \n",
       "126   413844   2017-03-10        6.164        247   \n",
       "\n",
       "                                 genres                spoken_languages  \\\n",
       "0    [Drama, Mystery, Thriller, Horror]                       [Spanish]   \n",
       "1                      [Drama, Romance]               [English, French]   \n",
       "2              [Romance, Comedy, Drama]              [English, Spanish]   \n",
       "3                         [Documentary]                       [English]   \n",
       "4                        [Drama, Crime]  [English, Spanish, Portuguese]   \n",
       "..                                  ...                             ...   \n",
       "122                  [Drama, Adventure]                       [English]   \n",
       "123                             [Drama]           [English, Portuguese]   \n",
       "124                            [Comedy]                        [French]   \n",
       "125                    [Drama, Romance]                       [English]   \n",
       "126               [Romance, Drama, War]              [Turkish, English]   \n",
       "\n",
       "                           production_countries  \n",
       "0                                   [Argentina]  \n",
       "1            [Canada, United States of America]  \n",
       "2    [Czech Republic, United States of America]  \n",
       "3                    [United States of America]  \n",
       "4                    [United States of America]  \n",
       "..                                          ...  \n",
       "122                                          []  \n",
       "123                  [United States of America]  \n",
       "124                           [Belgium, France]  \n",
       "125                                    [Canada]  \n",
       "126          [Turkey, United States of America]  \n",
       "\n",
       "[127 rows x 31 columns]"
      ]
     },
     "execution_count": 19,
     "metadata": {},
     "output_type": "execute_result"
    }
   ],
   "source": [
    "# Merge the New York Times reviews and TMDB DataFrames on title\n",
    "merged_df = pd.merge(nyt_reviews_df, tmdb_df, on='title', how='inner')\n",
    "merged_df"
   ]
  },
  {
   "cell_type": "code",
   "execution_count": 20,
   "metadata": {},
   "outputs": [
    {
     "data": {
      "text/html": [
       "<div>\n",
       "<style scoped>\n",
       "    .dataframe tbody tr th:only-of-type {\n",
       "        vertical-align: middle;\n",
       "    }\n",
       "\n",
       "    .dataframe tbody tr th {\n",
       "        vertical-align: top;\n",
       "    }\n",
       "\n",
       "    .dataframe thead th {\n",
       "        text-align: right;\n",
       "    }\n",
       "</style>\n",
       "<table border=\"1\" class=\"dataframe\">\n",
       "  <thead>\n",
       "    <tr style=\"text-align: right;\">\n",
       "      <th></th>\n",
       "      <th>web_url</th>\n",
       "      <th>snippet</th>\n",
       "      <th>source</th>\n",
       "      <th>keywords</th>\n",
       "      <th>pub_date</th>\n",
       "      <th>word_count</th>\n",
       "      <th>headline.main</th>\n",
       "      <th>headline.kicker</th>\n",
       "      <th>headline.content_kicker</th>\n",
       "      <th>headline.print_headline</th>\n",
       "      <th>...</th>\n",
       "      <th>overview</th>\n",
       "      <th>popularity</th>\n",
       "      <th>runtime</th>\n",
       "      <th>revenue</th>\n",
       "      <th>release_date</th>\n",
       "      <th>vote_average</th>\n",
       "      <th>vote_count</th>\n",
       "      <th>genres</th>\n",
       "      <th>spoken_languages</th>\n",
       "      <th>production_countries</th>\n",
       "    </tr>\n",
       "  </thead>\n",
       "  <tbody>\n",
       "    <tr>\n",
       "      <th>0</th>\n",
       "      <td>https://www.nytimes.com/2023/05/25/movies/the-...</td>\n",
       "      <td>A gynecologist and her patient form a horrifyi...</td>\n",
       "      <td>The New York Times</td>\n",
       "      <td>subject: Movies;creative_works: The Attachment...</td>\n",
       "      <td>2023-05-25T11:00:03+0000</td>\n",
       "      <td>295</td>\n",
       "      <td>‘The Attachment Diaries’ Review: Love, Sick</td>\n",
       "      <td>None</td>\n",
       "      <td>None</td>\n",
       "      <td>The Attachment Diaries</td>\n",
       "      <td>...</td>\n",
       "      <td>Argentina, 1970s. A desperate young woman goes...</td>\n",
       "      <td>2.457</td>\n",
       "      <td>102</td>\n",
       "      <td>0</td>\n",
       "      <td>2021-10-07</td>\n",
       "      <td>3.000</td>\n",
       "      <td>4</td>\n",
       "      <td>Drama, Mystery, Thriller, Horror</td>\n",
       "      <td>Spanish</td>\n",
       "      <td>Argentina</td>\n",
       "    </tr>\n",
       "    <tr>\n",
       "      <th>1</th>\n",
       "      <td>https://www.nytimes.com/2023/05/04/movies/you-...</td>\n",
       "      <td>Religion comes between two girls falling in lo...</td>\n",
       "      <td>The New York Times</td>\n",
       "      <td>subject: Movies;creative_works: You Can Live F...</td>\n",
       "      <td>2023-05-04T11:00:08+0000</td>\n",
       "      <td>294</td>\n",
       "      <td>‘You Can Live Forever’ Review: Do You Love Me ...</td>\n",
       "      <td>None</td>\n",
       "      <td>None</td>\n",
       "      <td>You Can Live Forever</td>\n",
       "      <td>...</td>\n",
       "      <td>When Jaime, a gay teenager, is sent to live in...</td>\n",
       "      <td>20.107</td>\n",
       "      <td>96</td>\n",
       "      <td>15055</td>\n",
       "      <td>2023-03-24</td>\n",
       "      <td>6.564</td>\n",
       "      <td>39</td>\n",
       "      <td>Drama, Romance</td>\n",
       "      <td>English, French</td>\n",
       "      <td>Canada, United States of America</td>\n",
       "    </tr>\n",
       "    <tr>\n",
       "      <th>2</th>\n",
       "      <td>https://www.nytimes.com/2023/04/13/movies/one-...</td>\n",
       "      <td>A film adaptation of Taylor Jenkins Reid’s nov...</td>\n",
       "      <td>The New York Times</td>\n",
       "      <td>subject: Movies;persons: Bracey, Luke (1989- )...</td>\n",
       "      <td>2023-04-13T11:00:06+0000</td>\n",
       "      <td>320</td>\n",
       "      <td>‘One True Loves’ Review: A Romance Lost at Sea</td>\n",
       "      <td>None</td>\n",
       "      <td>None</td>\n",
       "      <td>One True Loves</td>\n",
       "      <td>...</td>\n",
       "      <td>Emma and Jesse are living the perfect life tog...</td>\n",
       "      <td>13.017</td>\n",
       "      <td>100</td>\n",
       "      <td>37820</td>\n",
       "      <td>2023-04-07</td>\n",
       "      <td>6.500</td>\n",
       "      <td>79</td>\n",
       "      <td>Romance, Comedy, Drama</td>\n",
       "      <td>English, Spanish</td>\n",
       "      <td>Czech Republic, United States of America</td>\n",
       "    </tr>\n",
       "    <tr>\n",
       "      <th>3</th>\n",
       "      <td>https://www.nytimes.com/2023/04/13/movies/the-...</td>\n",
       "      <td>There’s not much Lennon music heard in this do...</td>\n",
       "      <td>The New York Times</td>\n",
       "      <td>subject: Documentary Films and Programs;creati...</td>\n",
       "      <td>2023-04-13T11:00:03+0000</td>\n",
       "      <td>327</td>\n",
       "      <td>‘The Lost Weekend: A Love Story’ Review: When ...</td>\n",
       "      <td>None</td>\n",
       "      <td>None</td>\n",
       "      <td>The Lost Weekend:  A Love Story</td>\n",
       "      <td>...</td>\n",
       "      <td>May Pang lovingly recounts her life in rock &amp; ...</td>\n",
       "      <td>24.408</td>\n",
       "      <td>95</td>\n",
       "      <td>77145</td>\n",
       "      <td>2023-04-13</td>\n",
       "      <td>6.000</td>\n",
       "      <td>2</td>\n",
       "      <td>Documentary</td>\n",
       "      <td>English</td>\n",
       "      <td>United States of America</td>\n",
       "    </tr>\n",
       "    <tr>\n",
       "      <th>4</th>\n",
       "      <td>https://www.nytimes.com/2023/03/30/movies/a-th...</td>\n",
       "      <td>A mesmerizing Teyana Taylor stars in A.V. Rock...</td>\n",
       "      <td>The New York Times</td>\n",
       "      <td>subject: Movies;creative_works: A Thousand and...</td>\n",
       "      <td>2023-03-30T18:53:42+0000</td>\n",
       "      <td>971</td>\n",
       "      <td>‘A Thousand and One’ Review: A New York Love S...</td>\n",
       "      <td>Critic’s Pick</td>\n",
       "      <td>None</td>\n",
       "      <td>An Unbending Will Meets a Shifting City</td>\n",
       "      <td>...</td>\n",
       "      <td>Struggling but unapologetically living on her ...</td>\n",
       "      <td>12.581</td>\n",
       "      <td>116</td>\n",
       "      <td>3395595</td>\n",
       "      <td>2023-03-31</td>\n",
       "      <td>6.872</td>\n",
       "      <td>90</td>\n",
       "      <td>Drama, Crime</td>\n",
       "      <td>English, Spanish, Portuguese</td>\n",
       "      <td>United States of America</td>\n",
       "    </tr>\n",
       "  </tbody>\n",
       "</table>\n",
       "<p>5 rows × 31 columns</p>\n",
       "</div>"
      ],
      "text/plain": [
       "                                             web_url  \\\n",
       "0  https://www.nytimes.com/2023/05/25/movies/the-...   \n",
       "1  https://www.nytimes.com/2023/05/04/movies/you-...   \n",
       "2  https://www.nytimes.com/2023/04/13/movies/one-...   \n",
       "3  https://www.nytimes.com/2023/04/13/movies/the-...   \n",
       "4  https://www.nytimes.com/2023/03/30/movies/a-th...   \n",
       "\n",
       "                                             snippet              source  \\\n",
       "0  A gynecologist and her patient form a horrifyi...  The New York Times   \n",
       "1  Religion comes between two girls falling in lo...  The New York Times   \n",
       "2  A film adaptation of Taylor Jenkins Reid’s nov...  The New York Times   \n",
       "3  There’s not much Lennon music heard in this do...  The New York Times   \n",
       "4  A mesmerizing Teyana Taylor stars in A.V. Rock...  The New York Times   \n",
       "\n",
       "                                            keywords  \\\n",
       "0  subject: Movies;creative_works: The Attachment...   \n",
       "1  subject: Movies;creative_works: You Can Live F...   \n",
       "2  subject: Movies;persons: Bracey, Luke (1989- )...   \n",
       "3  subject: Documentary Films and Programs;creati...   \n",
       "4  subject: Movies;creative_works: A Thousand and...   \n",
       "\n",
       "                   pub_date  word_count  \\\n",
       "0  2023-05-25T11:00:03+0000         295   \n",
       "1  2023-05-04T11:00:08+0000         294   \n",
       "2  2023-04-13T11:00:06+0000         320   \n",
       "3  2023-04-13T11:00:03+0000         327   \n",
       "4  2023-03-30T18:53:42+0000         971   \n",
       "\n",
       "                                       headline.main headline.kicker  \\\n",
       "0        ‘The Attachment Diaries’ Review: Love, Sick            None   \n",
       "1  ‘You Can Live Forever’ Review: Do You Love Me ...            None   \n",
       "2     ‘One True Loves’ Review: A Romance Lost at Sea            None   \n",
       "3  ‘The Lost Weekend: A Love Story’ Review: When ...            None   \n",
       "4  ‘A Thousand and One’ Review: A New York Love S...   Critic’s Pick   \n",
       "\n",
       "  headline.content_kicker                  headline.print_headline  ...  \\\n",
       "0                    None                   The Attachment Diaries  ...   \n",
       "1                    None                     You Can Live Forever  ...   \n",
       "2                    None                           One True Loves  ...   \n",
       "3                    None          The Lost Weekend:  A Love Story  ...   \n",
       "4                    None  An Unbending Will Meets a Shifting City  ...   \n",
       "\n",
       "                                            overview popularity runtime  \\\n",
       "0  Argentina, 1970s. A desperate young woman goes...      2.457     102   \n",
       "1  When Jaime, a gay teenager, is sent to live in...     20.107      96   \n",
       "2  Emma and Jesse are living the perfect life tog...     13.017     100   \n",
       "3  May Pang lovingly recounts her life in rock & ...     24.408      95   \n",
       "4  Struggling but unapologetically living on her ...     12.581     116   \n",
       "\n",
       "   revenue release_date vote_average vote_count  \\\n",
       "0        0   2021-10-07        3.000          4   \n",
       "1    15055   2023-03-24        6.564         39   \n",
       "2    37820   2023-04-07        6.500         79   \n",
       "3    77145   2023-04-13        6.000          2   \n",
       "4  3395595   2023-03-31        6.872         90   \n",
       "\n",
       "                             genres              spoken_languages  \\\n",
       "0  Drama, Mystery, Thriller, Horror                       Spanish   \n",
       "1                    Drama, Romance               English, French   \n",
       "2            Romance, Comedy, Drama              English, Spanish   \n",
       "3                       Documentary                       English   \n",
       "4                      Drama, Crime  English, Spanish, Portuguese   \n",
       "\n",
       "                       production_countries  \n",
       "0                                 Argentina  \n",
       "1          Canada, United States of America  \n",
       "2  Czech Republic, United States of America  \n",
       "3                  United States of America  \n",
       "4                  United States of America  \n",
       "\n",
       "[5 rows x 31 columns]"
      ]
     },
     "execution_count": 20,
     "metadata": {},
     "output_type": "execute_result"
    }
   ],
   "source": [
    "# Remove list brackets and quotation marks on the columns containing lists\n",
    "# Create a list of the columns that need fixing\n",
    "columns_to_fix = ['genres', 'spoken_languages', 'production_countries']\n",
    "\n",
    "# Create a list of characters to remove\n",
    "characters_to_remove = ['[', ']', \"'\"]\n",
    "\n",
    "# Loop through the list of columns to fix\n",
    "for column in columns_to_fix:\n",
    "    # Convert the column to type 'str'\n",
    "    merged_df[column] = merged_df[column].astype(str)\n",
    "    \n",
    "    # Loop through characters to remove\n",
    "    for char in characters_to_remove:\n",
    "        merged_df[column] = merged_df[column].str.replace(char, '', regex=False)\n",
    "\n",
    "# Display the fixed DataFrame\n",
    "merged_df.head()"
   ]
  },
  {
   "cell_type": "code",
   "execution_count": 21,
   "metadata": {},
   "outputs": [
    {
     "data": {
      "text/html": [
       "<div>\n",
       "<style scoped>\n",
       "    .dataframe tbody tr th:only-of-type {\n",
       "        vertical-align: middle;\n",
       "    }\n",
       "\n",
       "    .dataframe tbody tr th {\n",
       "        vertical-align: top;\n",
       "    }\n",
       "\n",
       "    .dataframe thead th {\n",
       "        text-align: right;\n",
       "    }\n",
       "</style>\n",
       "<table border=\"1\" class=\"dataframe\">\n",
       "  <thead>\n",
       "    <tr style=\"text-align: right;\">\n",
       "      <th></th>\n",
       "      <th>web_url</th>\n",
       "      <th>snippet</th>\n",
       "      <th>source</th>\n",
       "      <th>keywords</th>\n",
       "      <th>pub_date</th>\n",
       "      <th>word_count</th>\n",
       "      <th>headline.main</th>\n",
       "      <th>headline.kicker</th>\n",
       "      <th>headline.content_kicker</th>\n",
       "      <th>headline.print_headline</th>\n",
       "      <th>...</th>\n",
       "      <th>overview</th>\n",
       "      <th>popularity</th>\n",
       "      <th>runtime</th>\n",
       "      <th>revenue</th>\n",
       "      <th>release_date</th>\n",
       "      <th>vote_average</th>\n",
       "      <th>vote_count</th>\n",
       "      <th>genres</th>\n",
       "      <th>spoken_languages</th>\n",
       "      <th>production_countries</th>\n",
       "    </tr>\n",
       "  </thead>\n",
       "  <tbody>\n",
       "    <tr>\n",
       "      <th>0</th>\n",
       "      <td>https://www.nytimes.com/2023/05/25/movies/the-...</td>\n",
       "      <td>A gynecologist and her patient form a horrifyi...</td>\n",
       "      <td>The New York Times</td>\n",
       "      <td>subject: Movies;creative_works: The Attachment...</td>\n",
       "      <td>2023-05-25T11:00:03+0000</td>\n",
       "      <td>295</td>\n",
       "      <td>‘The Attachment Diaries’ Review: Love, Sick</td>\n",
       "      <td>None</td>\n",
       "      <td>None</td>\n",
       "      <td>The Attachment Diaries</td>\n",
       "      <td>...</td>\n",
       "      <td>Argentina, 1970s. A desperate young woman goes...</td>\n",
       "      <td>2.457</td>\n",
       "      <td>102</td>\n",
       "      <td>0</td>\n",
       "      <td>2021-10-07</td>\n",
       "      <td>3.000</td>\n",
       "      <td>4</td>\n",
       "      <td>Drama, Mystery, Thriller, Horror</td>\n",
       "      <td>Spanish</td>\n",
       "      <td>Argentina</td>\n",
       "    </tr>\n",
       "    <tr>\n",
       "      <th>1</th>\n",
       "      <td>https://www.nytimes.com/2023/05/04/movies/you-...</td>\n",
       "      <td>Religion comes between two girls falling in lo...</td>\n",
       "      <td>The New York Times</td>\n",
       "      <td>subject: Movies;creative_works: You Can Live F...</td>\n",
       "      <td>2023-05-04T11:00:08+0000</td>\n",
       "      <td>294</td>\n",
       "      <td>‘You Can Live Forever’ Review: Do You Love Me ...</td>\n",
       "      <td>None</td>\n",
       "      <td>None</td>\n",
       "      <td>You Can Live Forever</td>\n",
       "      <td>...</td>\n",
       "      <td>When Jaime, a gay teenager, is sent to live in...</td>\n",
       "      <td>20.107</td>\n",
       "      <td>96</td>\n",
       "      <td>15055</td>\n",
       "      <td>2023-03-24</td>\n",
       "      <td>6.564</td>\n",
       "      <td>39</td>\n",
       "      <td>Drama, Romance</td>\n",
       "      <td>English, French</td>\n",
       "      <td>Canada, United States of America</td>\n",
       "    </tr>\n",
       "    <tr>\n",
       "      <th>2</th>\n",
       "      <td>https://www.nytimes.com/2023/04/13/movies/one-...</td>\n",
       "      <td>A film adaptation of Taylor Jenkins Reid’s nov...</td>\n",
       "      <td>The New York Times</td>\n",
       "      <td>subject: Movies;persons: Bracey, Luke (1989- )...</td>\n",
       "      <td>2023-04-13T11:00:06+0000</td>\n",
       "      <td>320</td>\n",
       "      <td>‘One True Loves’ Review: A Romance Lost at Sea</td>\n",
       "      <td>None</td>\n",
       "      <td>None</td>\n",
       "      <td>One True Loves</td>\n",
       "      <td>...</td>\n",
       "      <td>Emma and Jesse are living the perfect life tog...</td>\n",
       "      <td>13.017</td>\n",
       "      <td>100</td>\n",
       "      <td>37820</td>\n",
       "      <td>2023-04-07</td>\n",
       "      <td>6.500</td>\n",
       "      <td>79</td>\n",
       "      <td>Romance, Comedy, Drama</td>\n",
       "      <td>English, Spanish</td>\n",
       "      <td>Czech Republic, United States of America</td>\n",
       "    </tr>\n",
       "    <tr>\n",
       "      <th>3</th>\n",
       "      <td>https://www.nytimes.com/2023/04/13/movies/the-...</td>\n",
       "      <td>There’s not much Lennon music heard in this do...</td>\n",
       "      <td>The New York Times</td>\n",
       "      <td>subject: Documentary Films and Programs;creati...</td>\n",
       "      <td>2023-04-13T11:00:03+0000</td>\n",
       "      <td>327</td>\n",
       "      <td>‘The Lost Weekend: A Love Story’ Review: When ...</td>\n",
       "      <td>None</td>\n",
       "      <td>None</td>\n",
       "      <td>The Lost Weekend:  A Love Story</td>\n",
       "      <td>...</td>\n",
       "      <td>May Pang lovingly recounts her life in rock &amp; ...</td>\n",
       "      <td>24.408</td>\n",
       "      <td>95</td>\n",
       "      <td>77145</td>\n",
       "      <td>2023-04-13</td>\n",
       "      <td>6.000</td>\n",
       "      <td>2</td>\n",
       "      <td>Documentary</td>\n",
       "      <td>English</td>\n",
       "      <td>United States of America</td>\n",
       "    </tr>\n",
       "    <tr>\n",
       "      <th>4</th>\n",
       "      <td>https://www.nytimes.com/2023/03/30/movies/a-th...</td>\n",
       "      <td>A mesmerizing Teyana Taylor stars in A.V. Rock...</td>\n",
       "      <td>The New York Times</td>\n",
       "      <td>subject: Movies;creative_works: A Thousand and...</td>\n",
       "      <td>2023-03-30T18:53:42+0000</td>\n",
       "      <td>971</td>\n",
       "      <td>‘A Thousand and One’ Review: A New York Love S...</td>\n",
       "      <td>Critic’s Pick</td>\n",
       "      <td>None</td>\n",
       "      <td>An Unbending Will Meets a Shifting City</td>\n",
       "      <td>...</td>\n",
       "      <td>Struggling but unapologetically living on her ...</td>\n",
       "      <td>12.581</td>\n",
       "      <td>116</td>\n",
       "      <td>3395595</td>\n",
       "      <td>2023-03-31</td>\n",
       "      <td>6.872</td>\n",
       "      <td>90</td>\n",
       "      <td>Drama, Crime</td>\n",
       "      <td>English, Spanish, Portuguese</td>\n",
       "      <td>United States of America</td>\n",
       "    </tr>\n",
       "    <tr>\n",
       "      <th>...</th>\n",
       "      <td>...</td>\n",
       "      <td>...</td>\n",
       "      <td>...</td>\n",
       "      <td>...</td>\n",
       "      <td>...</td>\n",
       "      <td>...</td>\n",
       "      <td>...</td>\n",
       "      <td>...</td>\n",
       "      <td>...</td>\n",
       "      <td>...</td>\n",
       "      <td>...</td>\n",
       "      <td>...</td>\n",
       "      <td>...</td>\n",
       "      <td>...</td>\n",
       "      <td>...</td>\n",
       "      <td>...</td>\n",
       "      <td>...</td>\n",
       "      <td>...</td>\n",
       "      <td>...</td>\n",
       "      <td>...</td>\n",
       "      <td>...</td>\n",
       "    </tr>\n",
       "    <tr>\n",
       "      <th>122</th>\n",
       "      <td>https://www.nytimes.com/2017/09/14/movies/in-s...</td>\n",
       "      <td>A sheltered young woman enamored of the films ...</td>\n",
       "      <td>The New York Times</td>\n",
       "      <td>subject: Movies;creative_works: In Search of F...</td>\n",
       "      <td>2017-09-14T11:00:24+0000</td>\n",
       "      <td>272</td>\n",
       "      <td>Review: Love of Il Maestro Drives ‘In Search o...</td>\n",
       "      <td>None</td>\n",
       "      <td>None</td>\n",
       "      <td>In Search of Fellini</td>\n",
       "      <td>...</td>\n",
       "      <td>Lucy, a small-town girl from Ohio, discovers t...</td>\n",
       "      <td>4.829</td>\n",
       "      <td>93</td>\n",
       "      <td>0</td>\n",
       "      <td>2017-09-15</td>\n",
       "      <td>5.800</td>\n",
       "      <td>40</td>\n",
       "      <td>Drama, Adventure</td>\n",
       "      <td>English</td>\n",
       "      <td></td>\n",
       "    </tr>\n",
       "    <tr>\n",
       "      <th>123</th>\n",
       "      <td>https://www.nytimes.com/2017/07/27/movies/the-...</td>\n",
       "      <td>In war-torn Liberia, Charlize Theron and Javie...</td>\n",
       "      <td>The New York Times</td>\n",
       "      <td>subject: Movies;creative_works: The Last Face ...</td>\n",
       "      <td>2017-07-27T20:29:01+0000</td>\n",
       "      <td>280</td>\n",
       "      <td>Review: Aid Workers in Love and War in Sean Pe...</td>\n",
       "      <td>None</td>\n",
       "      <td>None</td>\n",
       "      <td>The Last Face</td>\n",
       "      <td>...</td>\n",
       "      <td>Miguel, a heroic Spanish doctor, puts himself ...</td>\n",
       "      <td>8.428</td>\n",
       "      <td>130</td>\n",
       "      <td>0</td>\n",
       "      <td>2017-01-11</td>\n",
       "      <td>5.500</td>\n",
       "      <td>194</td>\n",
       "      <td>Drama</td>\n",
       "      <td>English, Portuguese</td>\n",
       "      <td>United States of America</td>\n",
       "    </tr>\n",
       "    <tr>\n",
       "      <th>124</th>\n",
       "      <td>https://www.nytimes.com/2017/06/15/movies/lost...</td>\n",
       "      <td>The filmmakers Fiona Gordon and Dominique Abel...</td>\n",
       "      <td>The New York Times</td>\n",
       "      <td>creative_works: Lost in Paris (Movie);subject:...</td>\n",
       "      <td>2017-06-15T19:37:09+0000</td>\n",
       "      <td>254</td>\n",
       "      <td>Review: Finding Love (and Slapstick) While ‘Lo...</td>\n",
       "      <td>None</td>\n",
       "      <td>None</td>\n",
       "      <td>Lost in Paris</td>\n",
       "      <td>...</td>\n",
       "      <td>Fiona visits Paris for the first time to assis...</td>\n",
       "      <td>8.431</td>\n",
       "      <td>83</td>\n",
       "      <td>0</td>\n",
       "      <td>2017-01-14</td>\n",
       "      <td>6.022</td>\n",
       "      <td>114</td>\n",
       "      <td>Comedy</td>\n",
       "      <td>French</td>\n",
       "      <td>Belgium, France</td>\n",
       "    </tr>\n",
       "    <tr>\n",
       "      <th>125</th>\n",
       "      <td>https://www.nytimes.com/2017/03/09/movies/the-...</td>\n",
       "      <td>This moody romance stars Tatiana Maslany (“Orp...</td>\n",
       "      <td>The New York Times</td>\n",
       "      <td>subject: Movies;creative_works: The Other Half...</td>\n",
       "      <td>2017-03-09T21:54:58+0000</td>\n",
       "      <td>251</td>\n",
       "      <td>Review: A Combustible Pair Find Love in ‘The O...</td>\n",
       "      <td>None</td>\n",
       "      <td>None</td>\n",
       "      <td>Review: A Combustible Pair Find Love in ‘The O...</td>\n",
       "      <td>...</td>\n",
       "      <td>A grief-stricken man and a bipolar woman fall ...</td>\n",
       "      <td>5.488</td>\n",
       "      <td>103</td>\n",
       "      <td>0</td>\n",
       "      <td>2016-12-02</td>\n",
       "      <td>6.300</td>\n",
       "      <td>24</td>\n",
       "      <td>Drama, Romance</td>\n",
       "      <td>English</td>\n",
       "      <td>Canada</td>\n",
       "    </tr>\n",
       "    <tr>\n",
       "      <th>126</th>\n",
       "      <td>https://www.nytimes.com/2017/03/09/movies/revi...</td>\n",
       "      <td>A nurse travels to the Ottoman Empire on the e...</td>\n",
       "      <td>The New York Times</td>\n",
       "      <td>subject: Movies;creative_works: The Ottoman Li...</td>\n",
       "      <td>2017-03-09T21:53:12+0000</td>\n",
       "      <td>267</td>\n",
       "      <td>Review: Love as the World Wars, in ‘The Ottoma...</td>\n",
       "      <td>None</td>\n",
       "      <td>None</td>\n",
       "      <td>Review: Love as the World Wars, in ‘The Ottoma...</td>\n",
       "      <td>...</td>\n",
       "      <td>Lillie, a determined American woman, ventures ...</td>\n",
       "      <td>10.949</td>\n",
       "      <td>111</td>\n",
       "      <td>413844</td>\n",
       "      <td>2017-03-10</td>\n",
       "      <td>6.164</td>\n",
       "      <td>247</td>\n",
       "      <td>Romance, Drama, War</td>\n",
       "      <td>Turkish, English</td>\n",
       "      <td>Turkey, United States of America</td>\n",
       "    </tr>\n",
       "  </tbody>\n",
       "</table>\n",
       "<p>127 rows × 30 columns</p>\n",
       "</div>"
      ],
      "text/plain": [
       "                                               web_url  \\\n",
       "0    https://www.nytimes.com/2023/05/25/movies/the-...   \n",
       "1    https://www.nytimes.com/2023/05/04/movies/you-...   \n",
       "2    https://www.nytimes.com/2023/04/13/movies/one-...   \n",
       "3    https://www.nytimes.com/2023/04/13/movies/the-...   \n",
       "4    https://www.nytimes.com/2023/03/30/movies/a-th...   \n",
       "..                                                 ...   \n",
       "122  https://www.nytimes.com/2017/09/14/movies/in-s...   \n",
       "123  https://www.nytimes.com/2017/07/27/movies/the-...   \n",
       "124  https://www.nytimes.com/2017/06/15/movies/lost...   \n",
       "125  https://www.nytimes.com/2017/03/09/movies/the-...   \n",
       "126  https://www.nytimes.com/2017/03/09/movies/revi...   \n",
       "\n",
       "                                               snippet              source  \\\n",
       "0    A gynecologist and her patient form a horrifyi...  The New York Times   \n",
       "1    Religion comes between two girls falling in lo...  The New York Times   \n",
       "2    A film adaptation of Taylor Jenkins Reid’s nov...  The New York Times   \n",
       "3    There’s not much Lennon music heard in this do...  The New York Times   \n",
       "4    A mesmerizing Teyana Taylor stars in A.V. Rock...  The New York Times   \n",
       "..                                                 ...                 ...   \n",
       "122  A sheltered young woman enamored of the films ...  The New York Times   \n",
       "123  In war-torn Liberia, Charlize Theron and Javie...  The New York Times   \n",
       "124  The filmmakers Fiona Gordon and Dominique Abel...  The New York Times   \n",
       "125  This moody romance stars Tatiana Maslany (“Orp...  The New York Times   \n",
       "126  A nurse travels to the Ottoman Empire on the e...  The New York Times   \n",
       "\n",
       "                                              keywords  \\\n",
       "0    subject: Movies;creative_works: The Attachment...   \n",
       "1    subject: Movies;creative_works: You Can Live F...   \n",
       "2    subject: Movies;persons: Bracey, Luke (1989- )...   \n",
       "3    subject: Documentary Films and Programs;creati...   \n",
       "4    subject: Movies;creative_works: A Thousand and...   \n",
       "..                                                 ...   \n",
       "122  subject: Movies;creative_works: In Search of F...   \n",
       "123  subject: Movies;creative_works: The Last Face ...   \n",
       "124  creative_works: Lost in Paris (Movie);subject:...   \n",
       "125  subject: Movies;creative_works: The Other Half...   \n",
       "126  subject: Movies;creative_works: The Ottoman Li...   \n",
       "\n",
       "                     pub_date  word_count  \\\n",
       "0    2023-05-25T11:00:03+0000         295   \n",
       "1    2023-05-04T11:00:08+0000         294   \n",
       "2    2023-04-13T11:00:06+0000         320   \n",
       "3    2023-04-13T11:00:03+0000         327   \n",
       "4    2023-03-30T18:53:42+0000         971   \n",
       "..                        ...         ...   \n",
       "122  2017-09-14T11:00:24+0000         272   \n",
       "123  2017-07-27T20:29:01+0000         280   \n",
       "124  2017-06-15T19:37:09+0000         254   \n",
       "125  2017-03-09T21:54:58+0000         251   \n",
       "126  2017-03-09T21:53:12+0000         267   \n",
       "\n",
       "                                         headline.main headline.kicker  \\\n",
       "0          ‘The Attachment Diaries’ Review: Love, Sick            None   \n",
       "1    ‘You Can Live Forever’ Review: Do You Love Me ...            None   \n",
       "2       ‘One True Loves’ Review: A Romance Lost at Sea            None   \n",
       "3    ‘The Lost Weekend: A Love Story’ Review: When ...            None   \n",
       "4    ‘A Thousand and One’ Review: A New York Love S...   Critic’s Pick   \n",
       "..                                                 ...             ...   \n",
       "122  Review: Love of Il Maestro Drives ‘In Search o...            None   \n",
       "123  Review: Aid Workers in Love and War in Sean Pe...            None   \n",
       "124  Review: Finding Love (and Slapstick) While ‘Lo...            None   \n",
       "125  Review: A Combustible Pair Find Love in ‘The O...            None   \n",
       "126  Review: Love as the World Wars, in ‘The Ottoma...            None   \n",
       "\n",
       "    headline.content_kicker  \\\n",
       "0                      None   \n",
       "1                      None   \n",
       "2                      None   \n",
       "3                      None   \n",
       "4                      None   \n",
       "..                      ...   \n",
       "122                    None   \n",
       "123                    None   \n",
       "124                    None   \n",
       "125                    None   \n",
       "126                    None   \n",
       "\n",
       "                               headline.print_headline  ...  \\\n",
       "0                               The Attachment Diaries  ...   \n",
       "1                                 You Can Live Forever  ...   \n",
       "2                                       One True Loves  ...   \n",
       "3                      The Lost Weekend:  A Love Story  ...   \n",
       "4              An Unbending Will Meets a Shifting City  ...   \n",
       "..                                                 ...  ...   \n",
       "122                               In Search of Fellini  ...   \n",
       "123                                      The Last Face  ...   \n",
       "124                                      Lost in Paris  ...   \n",
       "125  Review: A Combustible Pair Find Love in ‘The O...  ...   \n",
       "126  Review: Love as the World Wars, in ‘The Ottoma...  ...   \n",
       "\n",
       "                                              overview popularity runtime  \\\n",
       "0    Argentina, 1970s. A desperate young woman goes...      2.457     102   \n",
       "1    When Jaime, a gay teenager, is sent to live in...     20.107      96   \n",
       "2    Emma and Jesse are living the perfect life tog...     13.017     100   \n",
       "3    May Pang lovingly recounts her life in rock & ...     24.408      95   \n",
       "4    Struggling but unapologetically living on her ...     12.581     116   \n",
       "..                                                 ...        ...     ...   \n",
       "122  Lucy, a small-town girl from Ohio, discovers t...      4.829      93   \n",
       "123  Miguel, a heroic Spanish doctor, puts himself ...      8.428     130   \n",
       "124  Fiona visits Paris for the first time to assis...      8.431      83   \n",
       "125  A grief-stricken man and a bipolar woman fall ...      5.488     103   \n",
       "126  Lillie, a determined American woman, ventures ...     10.949     111   \n",
       "\n",
       "     revenue release_date vote_average vote_count  \\\n",
       "0          0   2021-10-07        3.000          4   \n",
       "1      15055   2023-03-24        6.564         39   \n",
       "2      37820   2023-04-07        6.500         79   \n",
       "3      77145   2023-04-13        6.000          2   \n",
       "4    3395595   2023-03-31        6.872         90   \n",
       "..       ...          ...          ...        ...   \n",
       "122        0   2017-09-15        5.800         40   \n",
       "123        0   2017-01-11        5.500        194   \n",
       "124        0   2017-01-14        6.022        114   \n",
       "125        0   2016-12-02        6.300         24   \n",
       "126   413844   2017-03-10        6.164        247   \n",
       "\n",
       "                               genres              spoken_languages  \\\n",
       "0    Drama, Mystery, Thriller, Horror                       Spanish   \n",
       "1                      Drama, Romance               English, French   \n",
       "2              Romance, Comedy, Drama              English, Spanish   \n",
       "3                         Documentary                       English   \n",
       "4                        Drama, Crime  English, Spanish, Portuguese   \n",
       "..                                ...                           ...   \n",
       "122                  Drama, Adventure                       English   \n",
       "123                             Drama           English, Portuguese   \n",
       "124                            Comedy                        French   \n",
       "125                    Drama, Romance                       English   \n",
       "126               Romance, Drama, War              Turkish, English   \n",
       "\n",
       "                         production_countries  \n",
       "0                                   Argentina  \n",
       "1            Canada, United States of America  \n",
       "2    Czech Republic, United States of America  \n",
       "3                    United States of America  \n",
       "4                    United States of America  \n",
       "..                                        ...  \n",
       "122                                            \n",
       "123                  United States of America  \n",
       "124                           Belgium, France  \n",
       "125                                    Canada  \n",
       "126          Turkey, United States of America  \n",
       "\n",
       "[127 rows x 30 columns]"
      ]
     },
     "execution_count": 21,
     "metadata": {},
     "output_type": "execute_result"
    }
   ],
   "source": [
    "# Drop \"byline.person\" column\n",
    "if 'byline.person' in merged_df.columns:\n",
    "    merged_df = merged_df.drop(columns=['byline.person'])\n",
    "\n",
    "merged_df"
   ]
  },
  {
   "cell_type": "code",
   "execution_count": 22,
   "metadata": {},
   "outputs": [
    {
     "name": "stdout",
     "output_type": "stream",
     "text": [
      "<class 'pandas.core.frame.DataFrame'>\n",
      "RangeIndex: 127 entries, 0 to 126\n",
      "Data columns (total 30 columns):\n",
      " #   Column                   Non-Null Count  Dtype  \n",
      "---  ------                   --------------  -----  \n",
      " 0   web_url                  127 non-null    object \n",
      " 1   snippet                  127 non-null    object \n",
      " 2   source                   127 non-null    object \n",
      " 3   keywords                 127 non-null    object \n",
      " 4   pub_date                 127 non-null    object \n",
      " 5   word_count               127 non-null    int64  \n",
      " 6   headline.main            127 non-null    object \n",
      " 7   headline.kicker          36 non-null     object \n",
      " 8   headline.content_kicker  0 non-null      object \n",
      " 9   headline.print_headline  126 non-null    object \n",
      " 10  headline.name            0 non-null      object \n",
      " 11  headline.seo             0 non-null      object \n",
      " 12  headline.sub             0 non-null      object \n",
      " 13  byline.original          127 non-null    object \n",
      " 14  byline.organization      0 non-null      object \n",
      " 15  title                    127 non-null    object \n",
      " 16  original_title           127 non-null    object \n",
      " 17  budget                   127 non-null    int64  \n",
      " 18  original_language        127 non-null    object \n",
      " 19  homepage                 127 non-null    object \n",
      " 20  overview                 127 non-null    object \n",
      " 21  popularity               127 non-null    float64\n",
      " 22  runtime                  127 non-null    int64  \n",
      " 23  revenue                  127 non-null    int64  \n",
      " 24  release_date             127 non-null    object \n",
      " 25  vote_average             127 non-null    float64\n",
      " 26  vote_count               127 non-null    int64  \n",
      " 27  genres                   127 non-null    object \n",
      " 28  spoken_languages         127 non-null    object \n",
      " 29  production_countries     127 non-null    object \n",
      "dtypes: float64(2), int64(5), object(23)\n",
      "memory usage: 29.9+ KB\n"
     ]
    }
   ],
   "source": [
    "# Delete duplicate rows \n",
    "merged_df = merged_df.reset_index(drop=True)\n",
    "\n",
    "#and reset index\n",
    "merged_df = merged_df.reset_index(drop=True)\n"
   ]
  },
  {
   "cell_type": "code",
   "execution_count": 23,
   "metadata": {},
   "outputs": [],
   "source": [
    "# Export data to CSV without the index\n",
    "merged_df.to_csv('cleaned_data.csv', index=False)"
   ]
  }
 ],
 "metadata": {
  "kernelspec": {
   "display_name": "Python 3 (ipykernel)",
   "language": "python",
   "name": "python3"
  },
  "language_info": {
   "codemirror_mode": {
    "name": "ipython",
    "version": 3
   },
   "file_extension": ".py",
   "mimetype": "text/x-python",
   "name": "python",
   "nbconvert_exporter": "python",
   "pygments_lexer": "ipython3",
   "version": "3.11.7"
  },
  "varInspector": {
   "cols": {
    "lenName": 16,
    "lenType": 16,
    "lenVar": 40
   },
   "kernels_config": {
    "python": {
     "delete_cmd_postfix": "",
     "delete_cmd_prefix": "del ",
     "library": "var_list.py",
     "varRefreshCmd": "print(var_dic_list())"
    },
    "r": {
     "delete_cmd_postfix": ") ",
     "delete_cmd_prefix": "rm(",
     "library": "var_list.r",
     "varRefreshCmd": "cat(var_dic_list()) "
    }
   },
   "types_to_exclude": [
    "module",
    "function",
    "builtin_function_or_method",
    "instance",
    "_Feature"
   ],
   "window_display": false
  }
 },
 "nbformat": 4,
 "nbformat_minor": 4
}
